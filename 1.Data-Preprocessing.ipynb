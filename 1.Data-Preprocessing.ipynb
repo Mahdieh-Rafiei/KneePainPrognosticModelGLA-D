{
 "cells": [
  {
   "cell_type": "code",
   "execution_count": null,
   "metadata": {},
   "outputs": [],
   "source": [
    "import pandas as pd\n",
    "import copy\n",
    "import numpy as np"
   ]
  },
  {
   "cell_type": "markdown",
   "metadata": {},
   "source": [
    "#### Load dataset"
   ]
  },
  {
   "cell_type": "code",
   "execution_count": null,
   "metadata": {},
   "outputs": [],
   "source": [
    "df = pd.read_csv(\"data.csv\")\n",
    "print(df.shape)"
   ]
  },
  {
   "cell_type": "markdown",
   "metadata": {},
   "source": [
    "### adding outcome variables and remove cases with missing outcome:  "
   ]
  },
  {
   "cell_type": "code",
   "execution_count": null,
   "metadata": {},
   "outputs": [],
   "source": [
    "original_index = df.index"
   ]
  },
  {
   "cell_type": "markdown",
   "metadata": {},
   "source": [
    "##### VAS change in pain score"
   ]
  },
  {
   "cell_type": "code",
   "execution_count": null,
   "metadata": {},
   "outputs": [],
   "source": [
    "df_main = df\n",
    "df_main.shape"
   ]
  },
  {
   "cell_type": "code",
   "execution_count": null,
   "metadata": {},
   "outputs": [],
   "source": [
    "df = df.dropna(subset=['ptb_3764'])\n",
    "df.shape"
   ]
  },
  {
   "cell_type": "code",
   "execution_count": null,
   "metadata": {},
   "outputs": [],
   "source": [
    "def calculate_vas(df):\n",
    "    dif = df.ptb_3764.values - df.pt3_3764.values\n",
    "    new_df = copy.deepcopy(df)\n",
    "    new_df['vasChaSco'] = dif\n",
    "    return new_df\n",
    "\n",
    "df = calculate_vas(df)\n",
    "print(df.shape)"
   ]
  },
  {
   "cell_type": "code",
   "execution_count": null,
   "metadata": {},
   "outputs": [],
   "source": [
    "df_main = calculate_vas(df_main)\n",
    "df_main.shape"
   ]
  },
  {
   "cell_type": "code",
   "execution_count": null,
   "metadata": {},
   "outputs": [],
   "source": [
    "print(\"miss value before calculate vasChasco: \", df.vasChaSco.isnull().sum())\n",
    "print(df.shape)\n",
    "df = df.dropna(subset=['vasChaSco'])\n",
    "print(\"After removing miss value: \", df.shape)\n",
    "print(\"miss value: \", df.vasChaSco.isnull().sum())"
   ]
  },
  {
   "cell_type": "code",
   "execution_count": null,
   "metadata": {},
   "outputs": [],
   "source": [
    "df = df.drop(columns=\"pt3_3764\")\n",
    "df_main = df_main.drop(columns=\"pt3_3764\")"
   ]
  },
  {
   "cell_type": "code",
   "execution_count": null,
   "metadata": {},
   "outputs": [],
   "source": [
    "print(\"Shape of df:\", df.shape)\n",
    "print(\"Shape of df_main: \", df_main.shape)"
   ]
  },
  {
   "cell_type": "markdown",
   "metadata": {},
   "source": [
    "##### KOOS qol change score change in pain score"
   ]
  },
  {
   "cell_type": "code",
   "execution_count": null,
   "metadata": {},
   "outputs": [],
   "source": [
    "print(\"miss value at baseline: \", df.ptb_koos_qol_score.isnull().sum())\n",
    "print(\"miss value after 3 months: \", df.pt3_koos_qol_score.isnull().sum())"
   ]
  },
  {
   "cell_type": "code",
   "execution_count": null,
   "metadata": {},
   "outputs": [],
   "source": [
    "df = df.dropna(subset=['ptb_koos_qol_score'])\n",
    "print(df.shape)"
   ]
  },
  {
   "cell_type": "code",
   "execution_count": null,
   "metadata": {},
   "outputs": [],
   "source": [
    "def calculate_koos(df):\n",
    "    dif = df.ptb_koos_qol_score.values - df.pt3_koos_qol_score.values\n",
    "    new_df = copy.deepcopy(df)\n",
    "    new_df['koosChaSco'] = dif\n",
    "    return new_df\n",
    "\n",
    "df = calculate_koos(df)\n",
    "print(df.shape)"
   ]
  },
  {
   "cell_type": "code",
   "execution_count": null,
   "metadata": {},
   "outputs": [],
   "source": [
    "df_main = calculate_koos(df_main)"
   ]
  },
  {
   "cell_type": "code",
   "execution_count": null,
   "metadata": {},
   "outputs": [],
   "source": [
    "print(\"miss value after calculate KOOS: \", df.koosChaSco.isnull().sum())"
   ]
  },
  {
   "cell_type": "code",
   "execution_count": null,
   "metadata": {},
   "outputs": [],
   "source": [
    "df = df.dropna(subset=['koosChaSco'])\n",
    "print(df.shape)\n",
    "print(\"miss value: \", df.koosChaSco.isnull().sum())"
   ]
  },
  {
   "cell_type": "code",
   "execution_count": null,
   "metadata": {},
   "outputs": [],
   "source": [
    "df = df.drop(columns=\"pt3_koos_qol_score\")\n",
    "df_main = df_main.drop(columns=\"pt3_koos_qol_score\")"
   ]
  },
  {
   "cell_type": "code",
   "execution_count": null,
   "metadata": {},
   "outputs": [],
   "source": [
    "print(\"Shape of df:\", df.shape)\n",
    "print(\"Shape of df_main: \", df_main.shape)"
   ]
  },
  {
   "cell_type": "markdown",
   "metadata": {},
   "source": [
    "##### 40m walking change score change in pain score"
   ]
  },
  {
   "cell_type": "code",
   "execution_count": null,
   "metadata": {},
   "outputs": [],
   "source": [
    "print(\"miss value at baseline: \", df.testb_10391.isnull().sum())\n",
    "print(\"miss value after 3 months: \", df.test3_10391.isnull().sum())"
   ]
  },
  {
   "cell_type": "code",
   "execution_count": null,
   "metadata": {},
   "outputs": [],
   "source": [
    "df = df.dropna(subset=['testb_10391'])\n",
    "print(df.shape)"
   ]
  },
  {
   "cell_type": "code",
   "execution_count": null,
   "metadata": {},
   "outputs": [],
   "source": [
    "def calculate_speed_walk(df):\n",
    "    dif = (40/df.testb_10391.values) - (40/df.test3_10391.values)\n",
    "    new_df = copy.deepcopy(df)\n",
    "    new_df['funcChaSco'] = dif\n",
    "    return new_df\n",
    "\n",
    "df = calculate_speed_walk(df)\n",
    "print(df.shape)"
   ]
  },
  {
   "cell_type": "code",
   "execution_count": null,
   "metadata": {},
   "outputs": [],
   "source": [
    "df_main = calculate_speed_walk(df_main)\n",
    "print(df_main.shape)"
   ]
  },
  {
   "cell_type": "code",
   "execution_count": null,
   "metadata": {},
   "outputs": [],
   "source": [
    "print(\"miss value after calculate speed walk: \", df.funcChaSco.isnull().sum())"
   ]
  },
  {
   "cell_type": "code",
   "execution_count": null,
   "metadata": {},
   "outputs": [],
   "source": [
    "df = df.dropna(subset=['funcChaSco'])\n",
    "print(df.shape)\n",
    "print(\"miss value: \", df.funcChaSco.isnull().sum())"
   ]
  },
  {
   "cell_type": "code",
   "execution_count": null,
   "metadata": {},
   "outputs": [],
   "source": [
    "print(\"vas:\", df.vasChaSco.isna().sum())\n",
    "print(\"koos:\", df.koosChaSco.isna().sum())\n",
    "print(\"fun:\", df.funcChaSco.isna().sum())"
   ]
  },
  {
   "cell_type": "code",
   "execution_count": null,
   "metadata": {},
   "outputs": [],
   "source": [
    "df = df.drop(columns=['test3_10391'])\n",
    "df_main = df_main.drop(columns=['test3_10391'])"
   ]
  },
  {
   "cell_type": "code",
   "execution_count": null,
   "metadata": {},
   "outputs": [],
   "source": [
    "print(\"Shape of df:\", df.shape)\n",
    "print(\"Shape of df_main: \", df_main.shape)"
   ]
  },
  {
   "cell_type": "markdown",
   "metadata": {},
   "source": [
    "##### Exclude cases between 2016-05-13 & 2016-11-12 (because of duration of symptom)"
   ]
  },
  {
   "cell_type": "code",
   "execution_count": null,
   "metadata": {},
   "outputs": [],
   "source": [
    "def filter_exclude_date_2016(df):\n",
    "    filtered_df = df[(df['fysb_3629'].astype(\"datetime64[ns]\") > '2016-05-13') & (df['fysb_3629'].astype(\"datetime64[ns]\") < '2016-11-12')].index\n",
    "    return df.drop(index = filtered_df)\n",
    "\n",
    "\n",
    "df = filter_exclude_date_2016(df)\n",
    "print(df.shape)\n",
    "print(df_main.shape)"
   ]
  },
  {
   "cell_type": "markdown",
   "metadata": {},
   "source": [
    "##### Excluded cases between 10th of April 2018 and 5th of August 2019 (because of pain area)"
   ]
  },
  {
   "cell_type": "code",
   "execution_count": null,
   "metadata": {},
   "outputs": [],
   "source": [
    "def filter_exclude_date_2018(df):\n",
    "    filtered_df = df[(df['ptb_3750'].astype(\"datetime64[ns]\") >= '2018-04-10') & (df['ptb_3750'].astype(\"datetime64[ns]\") <= '2019-08-05')].index\n",
    "    return df.drop(index = filtered_df)\n",
    "\n",
    "\n",
    "df = filter_exclude_date_2018(df)\n",
    "print(df.shape)"
   ]
  },
  {
   "cell_type": "markdown",
   "metadata": {},
   "source": [
    "#### VARIABLE PREPRATION"
   ]
  },
  {
   "cell_type": "code",
   "execution_count": null,
   "metadata": {},
   "outputs": [],
   "source": [
    "print(\"df: \", df.shape)\n",
    "print(\"df_main: \", df_main.shape)"
   ]
  },
  {
   "cell_type": "markdown",
   "metadata": {},
   "source": [
    "##### ptb_10226_b (Educational status)"
   ]
  },
  {
   "cell_type": "code",
   "execution_count": null,
   "metadata": {},
   "outputs": [],
   "source": [
    "df.ptb_10226.value_counts(dropna=False)"
   ]
  },
  {
   "cell_type": "code",
   "execution_count": null,
   "metadata": {},
   "outputs": [],
   "source": [
    "def calculate_ptb_10226_b(df):\n",
    "    # Dichotomize data into \"higher education than secondary education\"\n",
    "    df['ptb_10226_b'] = None  # Initialize with None to handle NaN values\n",
    "    df.loc[df['ptb_10226'] == 3, 'ptb_10226_b'] = 1\n",
    "    df.loc[df['ptb_10226'] == 4, 'ptb_10226_b'] = 1\n",
    "    df.loc[df['ptb_10226'] == 5, 'ptb_10226_b'] = 1\n",
    "    df.loc[df['ptb_10226'] == 1, 'ptb_10226_b'] = 0\n",
    "    df.loc[df['ptb_10226'] == 2, 'ptb_10226_b'] = 0\n",
    "\n",
    "    # Convert column 'ptb_10226_b' to logical type, keeping NaN as is\n",
    "    df['ptb_10226_b'] = df['ptb_10226_b'].map({1: True, 0: False, None: None})\n",
    "\n",
    "    return df"
   ]
  },
  {
   "cell_type": "code",
   "execution_count": null,
   "metadata": {},
   "outputs": [],
   "source": [
    "df = calculate_ptb_10226_b(df)\n",
    "df_main = calculate_ptb_10226_b(df_main)"
   ]
  },
  {
   "cell_type": "code",
   "execution_count": null,
   "metadata": {},
   "outputs": [],
   "source": [
    "df.ptb_10226_b.value_counts(dropna=False)"
   ]
  },
  {
   "cell_type": "code",
   "execution_count": null,
   "metadata": {},
   "outputs": [],
   "source": [
    "df_main.ptb_10226_b.value_counts(dropna=False)"
   ]
  },
  {
   "cell_type": "code",
   "execution_count": null,
   "metadata": {},
   "outputs": [],
   "source": [
    "print(\"df: \", df.shape)\n",
    "print(\"df_main: \", df_main.shape)"
   ]
  },
  {
   "cell_type": "markdown",
   "metadata": {},
   "source": [
    "##### change NA to 0 in variables with only yes as option and Timing  "
   ]
  },
  {
   "cell_type": "code",
   "execution_count": null,
   "metadata": {},
   "outputs": [],
   "source": [
    "df.ptb_15027_11.isna().sum()"
   ]
  },
  {
   "cell_type": "code",
   "execution_count": null,
   "metadata": {},
   "outputs": [],
   "source": [
    "def change_NA_to_0_in_painarea(df):\n",
    "    area_part_body_pain = [\"ptb_15026_1\",  \"ptb_15026_2\", \"ptb_15026_3\", \"ptb_15026_4\", \"ptb_15026_5\",\n",
    "                 \"ptb_15026_6\", \"ptb_15026_7\", \"ptb_15026_8\", \"ptb_15026_9\", \"ptb_15026_10\",\n",
    "                 \"ptb_15026_11\", \"ptb_15026_12\", \"ptb_15026_13\", \"ptb_15026_14\", \"ptb_15026_15\",\n",
    "                 \"ptb_15026_16\", \"ptb_15026_17\", \"ptb_15026_18\", \"ptb_15026_19\", \"ptb_15026_20\",\n",
    "                 \"ptb_15026_21\", \"ptb_15026_22\", \"ptb_15026_23\", \"ptb_15026_24\", \"ptb_15026_25\",\n",
    "                 \"ptb_15026_26\", \"ptb_15027_1\",  \"ptb_15027_2\", \"ptb_15027_3\", \"ptb_15027_4\",\n",
    "                 \"ptb_15027_5\", \"ptb_15027_6\", \"ptb_15027_7\", \"ptb_15027_8\", \"ptb_15027_9\",\n",
    "                 \"ptb_15027_10\", \"ptb_15027_11\", \"ptb_15027_12\", \"ptb_15027_13\", \"ptb_15027_14\",\n",
    "                 \"ptb_15027_15\", \"ptb_15027_16\", \"ptb_15027_17\", \"ptb_15027_18\", \"ptb_15027_19\",\n",
    "                 \"ptb_15027_20\", \"ptb_15027_21\", \"ptb_15027_22\", \"ptb_15027_23\", \"ptb_15027_24\",\n",
    "                 \"ptb_15027_25\", \"ptb_15027_26\", \"ptb_15027_27\", \"ptb_15027_28\", \"ptb_15027_29\",\n",
    "                 \"ptb_15027_30\"]\n",
    "\n",
    "    stichtag= pd.DataFrame(data={'a': ['2014-04-12']})\n",
    "    stichtag = stichtag.a.astype('datetime64[ns]').values[0]\n",
    "    survey_after_date = df[(df['ptb_3750'].notna()) & (df['ptb_3750'].astype('datetime64[ns]') >= stichtag)].index.values\n",
    "    # survey_after_date = df['ptb_3750'].astype('datetime64') >= stichtag\n",
    "\n",
    "\n",
    "    for ind, i in enumerate(area_part_body_pain):\n",
    "        change_na = df[df[i].isnull()].index.values\n",
    "        inter = list(set(survey_after_date).intersection(set(change_na)))\n",
    "        # the intersection is always ZERO\n",
    "\n",
    "        for j in inter:\n",
    "            df.at[j, i] = 0\n",
    "\n",
    "    return df"
   ]
  },
  {
   "cell_type": "code",
   "execution_count": null,
   "metadata": {},
   "outputs": [],
   "source": [
    "df = change_NA_to_0_in_painarea(df)"
   ]
  },
  {
   "cell_type": "code",
   "execution_count": null,
   "metadata": {},
   "outputs": [],
   "source": [
    "print(\"df: \", df.shape)\n",
    "print(\"df_main: \", df_main.shape)"
   ]
  },
  {
   "cell_type": "markdown",
   "metadata": {},
   "source": [
    "##### creating 2 new variables pain_area and ptb_low_back"
   ]
  },
  {
   "cell_type": "code",
   "execution_count": null,
   "metadata": {},
   "outputs": [],
   "source": [
    "def create_pain_area(df):\n",
    "    \"\"\"\n",
    "    Function to create the 'pain_area' column by summing specific columns, keeping NaN values.\n",
    "    \"\"\"\n",
    "    columns_to_sum = [\n",
    "        'ptb_15026_1', 'ptb_15026_2', 'ptb_15026_3', 'ptb_15026_4', 'ptb_15026_5',\n",
    "        'ptb_15026_6', 'ptb_15026_7', 'ptb_15026_8', 'ptb_15026_9', 'ptb_15026_10',\n",
    "        'ptb_15026_11', 'ptb_15026_12', 'ptb_15026_13', 'ptb_15026_14', 'ptb_15026_15',\n",
    "        'ptb_15026_16', 'ptb_15026_17', 'ptb_15026_18', 'ptb_15026_19', 'ptb_15026_20',\n",
    "        'ptb_15026_21', 'ptb_15026_22', 'ptb_15026_23', 'ptb_15026_24', 'ptb_15026_25',\n",
    "        'ptb_15026_26', 'ptb_15027_1', 'ptb_15027_2', 'ptb_15027_3', 'ptb_15027_4',\n",
    "        'ptb_15027_5', 'ptb_15027_6', 'ptb_15027_7', 'ptb_15027_8', 'ptb_15027_9',\n",
    "        'ptb_15027_10', 'ptb_15027_11', 'ptb_15027_12', 'ptb_15027_13', 'ptb_15027_14',\n",
    "        'ptb_15027_15', 'ptb_15027_16', 'ptb_15027_17', 'ptb_15027_18', 'ptb_15027_19',\n",
    "        'ptb_15027_20', 'ptb_15027_21', 'ptb_15027_22', 'ptb_15027_23', 'ptb_15027_24',\n",
    "        'ptb_15027_25', 'ptb_15027_26', 'ptb_15027_27', 'ptb_15027_28', 'ptb_15027_29',\n",
    "        'ptb_15027_30'\n",
    "    ]\n",
    "\n",
    "    # Sum while propagating NaN values\n",
    "    df['pain_area'] = df[columns_to_sum].sum(axis=1, skipna=False)\n",
    "    return df\n"
   ]
  },
  {
   "cell_type": "code",
   "execution_count": null,
   "metadata": {},
   "outputs": [],
   "source": [
    "def create_ptb_low_back(df):\n",
    "    \"\"\"\n",
    "    Function to create the 'ptb_low_back' column based on conditions, preserving NaN values.\n",
    "    \"\"\"\n",
    "  \n",
    "    df['ptb_low_back'] = np.nan\n",
    "\n",
    "    # Update rows where the condition is True (1)\n",
    "    df.loc[\n",
    "        (df['ptb_15027_13'] == 1) | (df['ptb_15027_11'] == 1) | \n",
    "        (df['ptb_15027_14'] == 1) | (df['ptb_15027_21'] == 1) | \n",
    "        (df['ptb_15027_22'] == 1) | (df['ptb_15027_12'] == 1), \n",
    "        'ptb_low_back'\n",
    "    ] = 1\n",
    "\n",
    "    # Update rows where the condition is False (0)\n",
    "    df.loc[\n",
    "        (df['ptb_15027_13'] == 0) & (df['ptb_15027_11'] == 0) &\n",
    "        (df['ptb_15027_14'] == 0) & (df['ptb_15027_21'] == 0) &\n",
    "        (df['ptb_15027_22'] == 0) & (df['ptb_15027_12'] == 0),\n",
    "        'ptb_low_back'\n",
    "    ] = 0\n",
    "\n",
    "\n",
    "    df['ptb_low_back'] = df['ptb_low_back'].astype('boolean')\n",
    "    \n",
    "    return df"
   ]
  },
  {
   "cell_type": "code",
   "execution_count": null,
   "metadata": {},
   "outputs": [],
   "source": [
    "df = create_pain_area(df)\n",
    "df = create_ptb_low_back(df)\n",
    "df_main = create_pain_area(df_main)\n",
    "df_main = create_ptb_low_back(df_main)"
   ]
  },
  {
   "cell_type": "code",
   "execution_count": null,
   "metadata": {},
   "outputs": [],
   "source": [
    "print(\"df: \", df.shape)\n",
    "print(\"df_main: \", df_main.shape)"
   ]
  },
  {
   "cell_type": "markdown",
   "metadata": {},
   "source": [
    "#####  X_ray signs, persons who did not get an x-ray ->"
   ]
  },
  {
   "cell_type": "code",
   "execution_count": null,
   "metadata": {},
   "outputs": [],
   "source": [
    "def x_ray(df):\n",
    "    x_ray_ind = df[df['fysb_3637'] == 1].index.values\n",
    "    df.loc[x_ray_ind, 'fysb_9349'] = 3\n",
    "    df = df.drop(columns=['fysb_3637'])\n",
    "    return df\n",
    "\n",
    "df = x_ray(df)\n",
    "df_main = x_ray(df_main)"
   ]
  },
  {
   "cell_type": "code",
   "execution_count": null,
   "metadata": {},
   "outputs": [],
   "source": [
    "print(\"df: \", df.shape)\n",
    "print(\"df_main: \", df_main.shape)"
   ]
  },
  {
   "cell_type": "markdown",
   "metadata": {},
   "source": [
    "##### changing chair-stand-test outcome to 0 for those who were not able to do one chair stand"
   ]
  },
  {
   "cell_type": "code",
   "execution_count": null,
   "metadata": {},
   "outputs": [],
   "source": [
    "def chair_stand(df):\n",
    "    chair_stand_ind = df[df['testb_10393'] == 2].index.values\n",
    "    df.loc[chair_stand_ind, 'testb_10281'] = 0\n",
    "    df = df.drop(columns=['testb_10393'])\n",
    "    return df\n",
    "df = chair_stand(df)\n",
    "df_main = chair_stand(df_main)"
   ]
  },
  {
   "cell_type": "code",
   "execution_count": null,
   "metadata": {},
   "outputs": [],
   "source": [
    "print(\"df: \", df.shape)\n",
    "print(\"df_main: \", df_main.shape)"
   ]
  },
  {
   "cell_type": "markdown",
   "metadata": {},
   "source": [
    "##### removing individual questions"
   ]
  },
  {
   "cell_type": "code",
   "execution_count": null,
   "metadata": {},
   "outputs": [],
   "source": [
    "def remove_individual_question_variable(df, variables_dropped):\n",
    "    df = df.drop(variables_dropped, axis=1)\n",
    "    return df\n",
    "\n",
    "\n",
    "variables_removed = [\"ptb_15026_1\",  \"ptb_15026_2\", \"ptb_15026_3\", \"ptb_15026_4\", \"ptb_15026_5\",\n",
    "                 \"ptb_15026_6\", \"ptb_15026_7\", \"ptb_15026_8\", \"ptb_15026_9\", \"ptb_15026_10\",\n",
    "                 \"ptb_15026_11\", \"ptb_15026_12\", \"ptb_15026_13\", \"ptb_15026_14\", \"ptb_15026_15\",\n",
    "                 \"ptb_15026_16\", \"ptb_15026_17\", \"ptb_15026_18\", \"ptb_15026_19\", \"ptb_15026_20\",\n",
    "                 \"ptb_15026_21\", \"ptb_15026_22\", \"ptb_15026_23\", \"ptb_15026_24\", \"ptb_15026_25\",\n",
    "                 \"ptb_15026_26\", \"ptb_15027_1\",  \"ptb_15027_2\", \"ptb_15027_3\", \"ptb_15027_4\",\n",
    "                 \"ptb_15027_5\", \"ptb_15027_6\", \"ptb_15027_7\", \"ptb_15027_8\", \"ptb_15027_9\",\n",
    "                 \"ptb_15027_10\", \"ptb_15027_11\", \"ptb_15027_12\", \"ptb_15027_13\", \"ptb_15027_14\",\n",
    "                 \"ptb_15027_15\", \"ptb_15027_16\", \"ptb_15027_17\", \"ptb_15027_18\", \"ptb_15027_19\",\n",
    "                 \"ptb_15027_20\", \"ptb_15027_21\", \"ptb_15027_22\", \"ptb_15027_23\", \"ptb_15027_24\",\n",
    "                 \"ptb_15027_25\", \"ptb_15027_26\", \"ptb_15027_27\", \"ptb_15027_28\", \"ptb_15027_29\",\n",
    "                 \"ptb_15027_30\"]\n",
    "\n",
    "df = remove_individual_question_variable(df, variables_removed)\n",
    "df_main = remove_individual_question_variable(df_main, variables_removed)"
   ]
  },
  {
   "cell_type": "code",
   "execution_count": null,
   "metadata": {},
   "outputs": [],
   "source": [
    "print(\"df: \", df.shape)\n",
    "print(\"df_main: \", df_main.shape)"
   ]
  },
  {
   "cell_type": "markdown",
   "metadata": {},
   "source": [
    "##### creating variables per right/left knee are additional joints affected"
   ]
  },
  {
   "cell_type": "code",
   "execution_count": null,
   "metadata": {},
   "outputs": [],
   "source": [
    "# creating variables per right/left knee are addiational joints affected\n",
    "def calculate_ptb_1028_5_6(df):\n",
    "\n",
    "    df['ptb_10285_n'] = None\n",
    "    df['ptb_10286_n'] = None\n",
    "\n",
    "    # Process left side (ptb_10285_n)\n",
    "    df.loc[df['ptb_10285_2'] == 1, 'ptb_10285_n'] = 0  # No additional joints affected\n",
    "    df.loc[(df['ptb_10285_3'] == 1) | (df['ptb_10285_4'] == 1) | (df['ptb_10285_5'] == 1), 'ptb_10285_n'] = 1  # Additional joints affected\n",
    "\n",
    "    # Process right side (ptb_10286_n)\n",
    "    df.loc[df['ptb_10286_2'] == 1, 'ptb_10286_n'] = 0  # No additional joints affected\n",
    "    df.loc[(df['ptb_10286_3'] == 1) | (df['ptb_10286_4'] == 1) | (df['ptb_10286_5'] == 1),'ptb_10286_n'] = 1  # Additional joints affected\n",
    "\n",
    "    return df\n",
    "\n",
    "df = calculate_ptb_1028_5_6(df)\n",
    "df_main = calculate_ptb_1028_5_6(df_main)\n"
   ]
  },
  {
   "cell_type": "code",
   "execution_count": null,
   "metadata": {},
   "outputs": [],
   "source": [
    "print(df.ptb_10285_n.value_counts())\n",
    "print(\"Nan value:\", df.ptb_10285_n.isna().sum())"
   ]
  },
  {
   "cell_type": "code",
   "execution_count": null,
   "metadata": {},
   "outputs": [],
   "source": [
    "print(\"ptb_10285 nan value: \", df.ptb_10285_n.isna().sum())\n",
    "print(\"ptb_10286 nan value: \", df.ptb_10286_n.isna().sum())"
   ]
  },
  {
   "cell_type": "code",
   "execution_count": null,
   "metadata": {},
   "outputs": [],
   "source": [
    "print(df.ptb_10286_n.value_counts())\n",
    "print(\"Nan value:\", df.ptb_10286_n.isna().sum())"
   ]
  },
  {
   "cell_type": "markdown",
   "metadata": {},
   "source": [
    "##### ptb_3754_b"
   ]
  },
  {
   "cell_type": "code",
   "execution_count": null,
   "metadata": {},
   "outputs": [],
   "source": [
    "# creating a final variable about additional effected joints\n",
    "def calculate_ptb_3754_b(df):\n",
    "    df['ptb_3754_b'] = np.where(df['ptb_10285_n'].notna(), df['ptb_10285_n'], df['ptb_10286_n'])\n",
    "    # 0 means no additonnal joint is affected and 1 means there are more than one joint affected\n",
    "    # change to do you have additional effected joints? 1= yes 0 = no\n",
    "    # change to boolean\n",
    "    df['ptb_3754_b'] = df['ptb_3754_b'].astype(bool)\n",
    "    return df\n",
    "\n",
    "df = calculate_ptb_3754_b(df)\n",
    "df_main = calculate_ptb_3754_b(df_main)"
   ]
  },
  {
   "cell_type": "code",
   "execution_count": null,
   "metadata": {},
   "outputs": [],
   "source": [
    "def remove_irrelevant_variable(df):\n",
    "    columns_to_remove = ['ptb_10285_n', 'ptb_10286_n', 'ptb_3754', 'ptb_10286_2', 'ptb_10286_3', 'ptb_10286_4',\n",
    "                         'ptb_10286_5', 'ptb_10285_2', 'ptb_10285_3', 'ptb_10285_4', 'ptb_10285_5']\n",
    "    df = df.drop(columns_to_remove, axis=1)\n",
    "    return df\n",
    "\n",
    "df = remove_irrelevant_variable(df)\n",
    "df_main = remove_irrelevant_variable(df_main)"
   ]
  },
  {
   "cell_type": "markdown",
   "metadata": {},
   "source": [
    "##### variable ptb_3792 Frequency of pain until exaustin making binary cut after once a week"
   ]
  },
  {
   "cell_type": "code",
   "execution_count": null,
   "metadata": {},
   "outputs": [],
   "source": [
    "def calculate_ptb_3792_b(df):\n",
    "    category_type_ptb_3792 = df['ptb_3792'].astype('category')\n",
    "\n",
    "    df.loc[df['ptb_3792'] == 1, 'ptb_3792_b'] = 0\n",
    "    df.loc[df['ptb_3792'] == 2, 'ptb_3792_b'] = 0\n",
    "    df.loc[df['ptb_3792'] == 3, 'ptb_3792_b'] = 0\n",
    "    df.loc[df['ptb_3792'] == 4, 'ptb_3792_b'] = 0\n",
    "    df.loc[df['ptb_3792'] == 5, 'ptb_3792_b'] = 1\n",
    "    df.loc[df['ptb_3792'] == 6, 'ptb_3792_b'] = 1\n",
    "    df.loc[df['ptb_3792'] == 7, 'ptb_3792_b'] = 1\n",
    "\n",
    "    df['ptb_3792_b'] = df['ptb_3792_b'].astype('bool')\n",
    "    df = df.drop('ptb_3792', axis=1)\n",
    "\n",
    "    return df"
   ]
  },
  {
   "cell_type": "code",
   "execution_count": null,
   "metadata": {},
   "outputs": [],
   "source": [
    "df = calculate_ptb_3792_b(df)\n",
    "df_main = calculate_ptb_3792_b(df_main)"
   ]
  },
  {
   "cell_type": "markdown",
   "metadata": {},
   "source": [
    "##### variable ptb_3777 regarding the working status"
   ]
  },
  {
   "cell_type": "code",
   "execution_count": null,
   "metadata": {},
   "outputs": [],
   "source": [
    "def calculate_ptb_3777_b(df):\n",
    "    category_type_ptb_3777_b = df['ptb_3777'].astype('category')\n",
    "\n",
    "    # dichotomize variable in are you working or studying yes(1)\n",
    "    df.loc[df['ptb_3777'] == 1, 'ptb_3777_b'] = 1\n",
    "    df.loc[df['ptb_3777'] == 2, 'ptb_3777_b'] = 0\n",
    "    df.loc[df['ptb_3777'] == 3, 'ptb_3777_b'] = 0\n",
    "    df.loc[df['ptb_3777'] == 4, 'ptb_3777_b'] = 0\n",
    "    df.loc[df['ptb_3777'] == 5, 'ptb_3777_b'] = 0\n",
    "    df.loc[df['ptb_3777'] == 6, 'ptb_3777_b'] = 0\n",
    "    df.loc[df['ptb_3777'] == 7, 'ptb_3777_b'] = 0\n",
    "\n",
    "\n",
    "    df['ptb_3777_b'] = df['ptb_3777_b'].astype(bool)\n",
    "    df = df.drop('ptb_3777', axis=1)\n",
    "    return df"
   ]
  },
  {
   "cell_type": "code",
   "execution_count": null,
   "metadata": {},
   "outputs": [],
   "source": [
    "df = calculate_ptb_3777_b(df)\n",
    "df_main = calculate_ptb_3777_b(df_main)"
   ]
  },
  {
   "cell_type": "code",
   "execution_count": null,
   "metadata": {},
   "outputs": [],
   "source": [
    "print(\"df: \", df.shape)\n",
    "print(\"df_main: \", df_main.shape)"
   ]
  },
  {
   "cell_type": "markdown",
   "metadata": {},
   "source": [
    "##### ptb_koospain"
   ]
  },
  {
   "cell_type": "code",
   "execution_count": null,
   "metadata": {},
   "outputs": [],
   "source": [
    "# !!!! **** we dont have ptb_3761. alternative is ptb_koospain_1  ****\n",
    "def calculate_ptb_koospain_1(df):\n",
    "    category_type_ptb_koospain = df['ptb_koospain_1'].astype('category')\n",
    "\n",
    "    # dichotomize data in do you have pain every day? yes(1)\n",
    "    df.loc[df['ptb_koospain_1'] == 0, 'ptb_koospain'] = 0\n",
    "    df.loc[df['ptb_koospain_1'] == 1, 'ptb_koospain'] = 0\n",
    "    df.loc[df['ptb_koospain_1'] == 2, 'ptb_koospain'] = 0\n",
    "    df.loc[df['ptb_koospain_1'] == 3, 'ptb_koospain'] = 1\n",
    "    df.loc[df['ptb_koospain_1'] == 4, 'ptb_koospain'] = 1\n",
    "\n",
    "    df['ptb_koospain'] = df['ptb_koospain'].astype(bool)\n",
    "    df = df.drop('ptb_koospain_1', axis=1)\n",
    "\n",
    "    return df"
   ]
  },
  {
   "cell_type": "code",
   "execution_count": null,
   "metadata": {},
   "outputs": [],
   "source": [
    "df = calculate_ptb_koospain_1(df)\n",
    "df_main = calculate_ptb_koospain_1(df_main)"
   ]
  },
  {
   "cell_type": "markdown",
   "metadata": {},
   "source": [
    "##### sick-leave - have you been on sick leave -> delete information on how long have on sick listed / recode 2 to 0 as no"
   ]
  },
  {
   "cell_type": "code",
   "execution_count": null,
   "metadata": {},
   "outputs": [],
   "source": [
    "def sick_leave_ptb_3772(df):\n",
    "    df.loc[df['ptb_3772'] == 2, 'ptb_3772'] = 0\n",
    "    df.drop('ptb_3776', axis=1, inplace=True)\n",
    "    return df\n",
    "\n",
    "df = sick_leave_ptb_3772(df)\n",
    "df.shape"
   ]
  },
  {
   "cell_type": "code",
   "execution_count": null,
   "metadata": {},
   "outputs": [],
   "source": [
    "df_main = sick_leave_ptb_3772(df_main)\n",
    "df_main.shape"
   ]
  },
  {
   "cell_type": "code",
   "execution_count": null,
   "metadata": {},
   "outputs": [],
   "source": [
    "print(\"df: \", df.shape)\n",
    "print(\"df_main: \", df_main.shape)"
   ]
  },
  {
   "cell_type": "markdown",
   "metadata": {},
   "source": [
    "#### Changing types of variables"
   ]
  },
  {
   "cell_type": "markdown",
   "metadata": {},
   "source": [
    "##### change 2 to 0 in binary variables"
   ]
  },
  {
   "cell_type": "code",
   "execution_count": null,
   "metadata": {},
   "outputs": [],
   "source": [
    "def get_value_counts(df, columns):\n",
    "    return {col: df[col].value_counts() for col in columns}\n",
    "\n",
    "columns = [\n",
    "    'fysb_3639', 'fysb_3642', 'fysb_op', 'ptb_3772', 'ptb_11836',\n",
    "    'testb_10392', 'ptb_10223', 'ptb_10224', 'ptb_10225', 'ptb_13118',\n",
    "    'ptb_15553', 'ptb_15554', 'ptb_15555', 'ptb_15556', 'ptb_15557',\n",
    "    'ptb_15558', 'ptb_15559', 'ptb_15560', 'ptb_15561', 'ptb_15562',\n",
    "    'ptb_15563', 'ptb_15564', 'ptb_16316', 'ptb_3758', 'ptb_3760',\n",
    "    'ptb_3762', 'ptb_3765'\n",
    "]\n",
    "\n",
    "value_counts = get_value_counts(df, columns)\n",
    "\n",
    "for col, counts in value_counts.items():\n",
    "    print(f\"Value counts for {col}:\\n{counts}\\n\")"
   ]
  },
  {
   "cell_type": "code",
   "execution_count": null,
   "metadata": {},
   "outputs": [],
   "source": [
    "def change_type_variable(df):\n",
    "    binary_variables_need_change = ['fysb_3639', 'fysb_3642', 'fysb_op', 'ptb_3772', 'ptb_11836',\n",
    "                                    'testb_10392', 'ptb_10223', 'ptb_10224', 'ptb_10225', 'ptb_13118',\n",
    "                                    'ptb_15553', 'ptb_15554', 'ptb_15555', 'ptb_15556', 'ptb_15557',\n",
    "                                    'ptb_15558', 'ptb_15559', 'ptb_15560', 'ptb_15561', 'ptb_15562',\n",
    "                                    'ptb_15563', 'ptb_15564', 'ptb_16316', 'ptb_3758', 'ptb_3760',\n",
    "                                    'ptb_3762', 'ptb_3765']\n",
    "\n",
    "\n",
    "    for i in binary_variables_need_change:\n",
    "        ind = df[df[i] == 2].index.values\n",
    "        for ii in ind:\n",
    "            df.at[ii, i] = 0\n",
    "    return df\n",
    "\n",
    "df = change_type_variable(df)\n",
    "df_main = change_type_variable(df_main)"
   ]
  },
  {
   "cell_type": "code",
   "execution_count": null,
   "metadata": {},
   "outputs": [],
   "source": [
    "print(\"df: \", df.shape)\n",
    "print(\"df_main: \", df_main.shape)"
   ]
  },
  {
   "cell_type": "markdown",
   "metadata": {},
   "source": [
    "##### change NA to 0 in variables with only yes as option and no timig"
   ]
  },
  {
   "cell_type": "code",
   "execution_count": null,
   "metadata": {},
   "outputs": [],
   "source": [
    "def change_na_to_0(df):\n",
    "    change_variable_NA_0 = ['fysb_medicin']\n",
    "\n",
    "    for i in change_variable_NA_0:\n",
    "        for ii in df[df[i].isnull()].index.values:\n",
    "            df.at[ii, i] = 0\n",
    "    return df\n",
    "\n",
    "df = change_na_to_0(df)\n",
    "df_main = change_na_to_0(df_main)\n"
   ]
  },
  {
   "cell_type": "code",
   "execution_count": null,
   "metadata": {},
   "outputs": [],
   "source": [
    "print(\"df: \", df.shape)\n",
    "print(\"df_main: \", df_main.shape)"
   ]
  },
  {
   "cell_type": "markdown",
   "metadata": {},
   "source": [
    " ##### Change type of variables accordingly #############"
   ]
  },
  {
   "cell_type": "code",
   "execution_count": null,
   "metadata": {},
   "outputs": [],
   "source": [
    "### Saved as a Integer/Nummeric variable ###\n",
    "def change_integerNummeric (df):\n",
    "    c = ['age', 'ptb_3764', 'testb_10281', 'ptb_4145', \"ptb_eq5d_vas\"]\n",
    "    for i in c:\n",
    "        df[i] = pd.to_numeric(df[i])\n",
    "    return df"
   ]
  },
  {
   "cell_type": "code",
   "execution_count": null,
   "metadata": {},
   "outputs": [],
   "source": [
    "df = change_integerNummeric (df)\n",
    "df_main = change_integerNummeric (df_main)"
   ]
  },
  {
   "cell_type": "code",
   "execution_count": null,
   "metadata": {},
   "outputs": [],
   "source": [
    "print(\"df: \", df.shape)\n",
    "print(\"df_main: \", df_main.shape)"
   ]
  },
  {
   "cell_type": "markdown",
   "metadata": {},
   "source": [
    "##### Save and change as a NUMMERIC variable  ###"
   ]
  },
  {
   "cell_type": "code",
   "execution_count": null,
   "metadata": {},
   "outputs": [],
   "source": [
    "def change_variables_to_nummeric(df):\n",
    "    NumVar = [\"fysb_BMI\", \"ptb_koos_qol_score\", \"ptb_eq5d_score_5l\",\n",
    "              \"testb_10391\", \"ptb_ases_pain_score\", \"ptb_ases_other_score\", \"ptb_sf12_pcs\",\n",
    "              \"ptb_sf12_mcs\", \"vasChaSco\"]\n",
    "    for i in NumVar:\n",
    "        df[i] = pd.to_numeric(df[i])\n",
    "    return df"
   ]
  },
  {
   "cell_type": "code",
   "execution_count": null,
   "metadata": {},
   "outputs": [],
   "source": [
    "df = change_variables_to_nummeric(df)\n",
    "df_main = change_variables_to_nummeric(df_main)"
   ]
  },
  {
   "cell_type": "code",
   "execution_count": null,
   "metadata": {},
   "outputs": [],
   "source": [
    "print(\"df: \", df.shape)\n",
    "print(\"df_main: \", df_main.shape)"
   ]
  },
  {
   "cell_type": "markdown",
   "metadata": {},
   "source": [
    "##### Save and change as a FACTOR/categroies variable  ###"
   ]
  },
  {
   "cell_type": "code",
   "execution_count": null,
   "metadata": {},
   "outputs": [],
   "source": [
    "def change_variable_to_categorical(df):\n",
    "    df[\"fysb_9349\"] = df[\"fysb_9349\"].astype(str).astype(\"category\")\n",
    "    return df\n",
    "\n",
    "df = change_variable_to_categorical(df)\n",
    "df_main = change_variable_to_categorical(df_main)"
   ]
  },
  {
   "cell_type": "code",
   "execution_count": null,
   "metadata": {},
   "outputs": [],
   "source": [
    "print(\"df: \", df.shape)\n",
    "print(\"df_main: \", df_main.shape)"
   ]
  },
  {
   "cell_type": "markdown",
   "metadata": {},
   "source": [
    "##### Save and change as a BINARY/LOGICAL variable ###"
   ]
  },
  {
   "cell_type": "code",
   "execution_count": null,
   "metadata": {},
   "outputs": [],
   "source": [
    "def change_variables_to_binary_logical(df):\n",
    "    df['ptb_32260'] = df['ptb_32260'].map({1: True, 2: False})\n",
    "    logVar = ['fysb_3639', 'testb_10392', 'ptb_13118', 'ptb_15553', 'ptb_15554', \"ptb_15555\",\n",
    "    \"ptb_15556\", \"ptb_15557\", \"ptb_15558\", \"ptb_15559\", \"ptb_15560\",\n",
    "    \"ptb_15561\", \"ptb_15562\", \"ptb_15563\", \"ptb_15564\", \"ptb_16316\", \"ptb_3758\", \"ptb_3760\",\n",
    "    \"ptb_3762\", \"ptb_3765\", \"ptb_32260\", \"ptb_10223\", \"ptb_10224\", \"ptb_10225\", \"ptb_3772\",\n",
    "    \"ptb_11836\", \"fysb_3642\", \"fysb_medicin\", \"fysb_op\" ]\n",
    "            #10225: 1 Living alone 2 Living with others (partner, family, friends or others) ==> are you alone: 1 = Yes = True\n",
    "            # gender: are you male?: 1=yes =True, 2=No=False\n",
    "    \n",
    "    for i in logVar:    \n",
    "        df[i] = df[i].astype('boolean')\n",
    "        \n",
    "\n",
    "    return df"
   ]
  },
  {
   "cell_type": "code",
   "execution_count": null,
   "metadata": {},
   "outputs": [],
   "source": [
    "df = change_variables_to_binary_logical(df)\n",
    "df_main = change_variables_to_binary_logical(df_main)"
   ]
  },
  {
   "cell_type": "code",
   "execution_count": null,
   "metadata": {},
   "outputs": [],
   "source": [
    "print(\"df: \", df.shape)\n",
    "print(\"df_main: \", df_main.shape)"
   ]
  },
  {
   "cell_type": "markdown",
   "metadata": {},
   "source": [
    "##### Gender"
   ]
  },
  {
   "cell_type": "code",
   "execution_count": null,
   "metadata": {},
   "outputs": [],
   "source": [
    "df.gender.value_counts()"
   ]
  },
  {
   "cell_type": "code",
   "execution_count": null,
   "metadata": {},
   "outputs": [],
   "source": [
    "df['gender'] = df['gender'].replace(2, 0)\n",
    "df.gender.value_counts()"
   ]
  },
  {
   "cell_type": "code",
   "execution_count": null,
   "metadata": {},
   "outputs": [],
   "source": [
    "df_main['gender'] = df_main['gender'].replace(2, 0)\n",
    "df_main.gender.value_counts()"
   ]
  },
  {
   "cell_type": "markdown",
   "metadata": {},
   "source": [
    "0: Female\n",
    "1: Male"
   ]
  },
  {
   "cell_type": "code",
   "execution_count": null,
   "metadata": {},
   "outputs": [],
   "source": [
    "print(\"df: \", df.shape)\n",
    "print(\"df_main: \", df_main.shape)"
   ]
  },
  {
   "cell_type": "markdown",
   "metadata": {},
   "source": [
    "##### Checking missing value in Outcome variables:"
   ]
  },
  {
   "cell_type": "code",
   "execution_count": null,
   "metadata": {},
   "outputs": [],
   "source": [
    "outcome_variable = [\"vasChaSco\", \"koosChaSco\", \"funcChaSco\"]\n",
    "\n",
    "missing_values = df[outcome_variable].isnull().sum().sum()\n",
    "\n",
    "print(f\"There are {missing_values} missing values in the outcome variables.\")\n"
   ]
  },
  {
   "cell_type": "markdown",
   "metadata": {},
   "source": [
    "##### Handling 'nan' in fysb_9349"
   ]
  },
  {
   "cell_type": "code",
   "execution_count": null,
   "metadata": {},
   "outputs": [],
   "source": [
    "nan_string_count = (df['fysb_9349'] == 'nan').sum()\n",
    "print(f\"Number of 'nan' string values: {nan_string_count}\")"
   ]
  },
  {
   "cell_type": "code",
   "execution_count": null,
   "metadata": {},
   "outputs": [],
   "source": [
    "df['fysb_9349'] = df['fysb_9349'].replace('nan', np.nan)"
   ]
  },
  {
   "cell_type": "code",
   "execution_count": null,
   "metadata": {},
   "outputs": [],
   "source": [
    "nan_string_count = (df['fysb_9349'] == 'nan').sum()\n",
    "print(f\"Number of 'nan' string values: {nan_string_count}\")"
   ]
  },
  {
   "cell_type": "code",
   "execution_count": null,
   "metadata": {},
   "outputs": [],
   "source": [
    "df.fysb_9349.isna().sum()"
   ]
  },
  {
   "cell_type": "markdown",
   "metadata": {},
   "source": [
    "#### list of ALL variables ()"
   ]
  },
  {
   "cell_type": "code",
   "execution_count": null,
   "metadata": {},
   "outputs": [],
   "source": [
    "df.shape"
   ]
  },
  {
   "cell_type": "code",
   "execution_count": null,
   "metadata": {},
   "outputs": [],
   "source": [
    "# Group 1: All variables still collected after 2023 (excluding information on diseases) \n",
    "group1 = [\"ptb_11836\", \"fysb_3639\", \"ptb_3764\", \"fysb_symptomvarighed\", \"ptb_eq5d_score_5l\", \"testb_10391\", \"fysb_BMI\", \"age\", \n",
    "          \"ptb_eq5d_vas\", \"pain_area\", \"testb_10281\", \"ptb_koos_qol_score\", \"ptb_4145\", \"ptb_3765\", \"ptb_10226_b\", \"ptb_16316\", \n",
    "          \"ptb_koospain\", \"fysb_9349\", \"fysb_3642\", \"ptb_low_back\", \"ptb_3792_b\", \"gender\", \"fysb_op\", \"ptb_10225\", \"ptb_3758\", \n",
    "          \"ptb_3762\", \"ptb_13118\", \"fysb_medicin\", \"ptb_3777_b\", \"ptb_3772\", \"ptb_10223\", \"testb_10392\", \"ptb_10224\", \"ptb_3754_b\", \n",
    "          \"vasChaSco\", \"koosChaSco\", \"funcChaSco\"]\n",
    "print(\"group1:\", len(group1))\n",
    "\n",
    "\n",
    "# Group 2: All Green variables with 3 koos\n",
    "group2 = [\"ptb_11836\", \"fysb_3639\", \"ptb_3764\", \"fysb_symptomvarighed\", \"ptb_eq5d_score_5l\", \"testb_10391\", \"fysb_BMI\", \"age\", \"ptb_eq5d_vas\", \n",
    "          \"pain_area\", \"testb_10281\", \"ptb_koos_qol_score\", \"ptb_4145\", \"ptb_3765\", \"ptb_10226_b\", \"ptb_16316\", \"ptb_koospain\", \"fysb_9349\", \n",
    "          \"fysb_3642\", \"ptb_low_back\", \"ptb_3792_b\", \"gender\", \"fysb_op\", \"ptb_10225\", \"ptb_3758\", \"ptb_3762\", \"ptb_13118\", \"fysb_medicin\", \n",
    "          \"ptb_3777_b\", \"ptb_3772\", \"ptb_10223\", \"testb_10392\", \"ptb_10224\", \"ptb_3754_b\",\"fysb_24607\", \n",
    "          \"fysb_24643\", \"fysb_24644\", \"fysb_24608\", \"fysb_24645\", \"fysb_24646\", \"fysb_24649\", \"fysb_24650\", \"fysb_24651\",\n",
    "          \"ptb_koos_pain_score\", \"ptb_koos_func_score\", \"ptb_koos12_score\",\n",
    "          \"vasChaSco\", \"koosChaSco\", \"funcChaSco\"]\n",
    "print(\"group2:\", len(group2))"
   ]
  },
  {
   "cell_type": "markdown",
   "metadata": {},
   "source": [
    "##### Checking mising value:"
   ]
  },
  {
   "cell_type": "code",
   "execution_count": null,
   "metadata": {},
   "outputs": [],
   "source": [
    "df_group1 = df[group1]\n",
    "print(\"shape group1:\", df_group1.shape)\n",
    "\n",
    "df_group2 = df[group2]\n",
    "print(\"shape group2:\", df_group2.shape)"
   ]
  },
  {
   "cell_type": "code",
   "execution_count": null,
   "metadata": {},
   "outputs": [],
   "source": [
    "print(\"Miss value Group 1\", df_group1.isna().sum().sum())\n",
    "print(\"Miss value Group 2\", df_group2.isna().sum().sum())"
   ]
  },
  {
   "cell_type": "code",
   "execution_count": null,
   "metadata": {},
   "outputs": [],
   "source": [
    "df_cleaned_g1 = df_group1.dropna()\n",
    "print(\"Shape of df_cleaned_g1:\", df_cleaned_g1.shape)"
   ]
  },
  {
   "cell_type": "code",
   "execution_count": null,
   "metadata": {},
   "outputs": [],
   "source": [
    "df_cleaned_g2 = df_group2.dropna()\n",
    "print(\"Shape of df_cleaned_g2:\", df_cleaned_g2.shape)"
   ]
  },
  {
   "cell_type": "code",
   "execution_count": null,
   "metadata": {},
   "outputs": [],
   "source": [
    "df_cleaned_g2.to_csv(\"Supplement.csv\", index=False)"
   ]
  },
  {
   "cell_type": "code",
   "execution_count": null,
   "metadata": {},
   "outputs": [],
   "source": [
    "df = df_cleaned_g1"
   ]
  },
  {
   "cell_type": "code",
   "execution_count": null,
   "metadata": {},
   "outputs": [],
   "source": [
    "print(\"df: \", df.shape)\n",
    "print(\"df_main: \", df_main.shape)"
   ]
  },
  {
   "cell_type": "markdown",
   "metadata": {},
   "source": [
    "##### Create df_main with common variables in df_included"
   ]
  },
  {
   "cell_type": "code",
   "execution_count": null,
   "metadata": {},
   "outputs": [],
   "source": [
    "main_variable = ['age', 'gender', 'fysb_BMI', 'fysb_3639', 'fysb_symptomvarighed', 'fysb_9349', 'fysb_3642', \n",
    "'fysb_op', 'fysb_medicin', 'testb_10391', 'testb_10392', 'testb_10281', 'ptb_10223', 'ptb_10224', \n",
    "'ptb_10225', 'ptb_13118', 'ptb_16316', 'ptb_3758', 'ptb_3762', 'ptb_3764', 'ptb_3765', 'ptb_koos_qol_score', \n",
    "'ptb_eq5d_score_5l', 'ptb_eq5d_vas', 'ptb_3772', 'ptb_11836', 'ptb_4145', 'pain_area', \n",
    "'ptb_10226_b', 'ptb_koospain', 'ptb_low_back', 'ptb_3792_b', 'ptb_3777_b', 'ptb_3754_b', 'vasChaSco']"
   ]
  },
  {
   "cell_type": "code",
   "execution_count": null,
   "metadata": {},
   "outputs": [],
   "source": [
    "df_main = df_main[main_variable]\n",
    "df_included = df[main_variable]"
   ]
  },
  {
   "cell_type": "code",
   "execution_count": null,
   "metadata": {},
   "outputs": [],
   "source": [
    "print(\"shape main\", df_main.shape)\n",
    "print(\"shape included\", df_included.shape)"
   ]
  },
  {
   "cell_type": "code",
   "execution_count": null,
   "metadata": {},
   "outputs": [],
   "source": [
    "df_ex = df_main[~df_main.index.isin(df.index)]\n",
    "\n",
    "inc = df[['fysb_symptomvarighed']]\n",
    "total= df_main[['fysb_symptomvarighed']]\n",
    "ex = df_ex[['fysb_symptomvarighed']]\n",
    "\n",
    "print(\"NaN value in total: : \", total.isna().sum())\n",
    "print(\"NaN value in included: \", inc.isna().sum())\n",
    "print(\"NaN value in excluded: : \", ex.isna().sum())"
   ]
  },
  {
   "cell_type": "code",
   "execution_count": null,
   "metadata": {},
   "outputs": [],
   "source": [
    "df_ex.isna().sum()"
   ]
  },
  {
   "cell_type": "code",
   "execution_count": null,
   "metadata": {},
   "outputs": [],
   "source": [
    "print(\"shape main\", df_main.shape)\n",
    "print(\"shape included\", df_included.shape)\n",
    "print(\"shape excluded\", df_ex.shape)"
   ]
  },
  {
   "cell_type": "markdown",
   "metadata": {},
   "source": [
    "##### Statistic"
   ]
  },
  {
   "cell_type": "code",
   "execution_count": null,
   "metadata": {},
   "outputs": [],
   "source": [
    "df.shape"
   ]
  },
  {
   "cell_type": "code",
   "execution_count": null,
   "metadata": {},
   "outputs": [],
   "source": [
    "df_ex.shape"
   ]
  },
  {
   "cell_type": "code",
   "execution_count": null,
   "metadata": {},
   "outputs": [],
   "source": [
    "continues_variable = [\"age\", \"fysb_BMI\", \"fysb_symptomvarighed\", \"testb_10391\", \"testb_10281\", \"ptb_3764\", \"pain_area\", \n",
    "                    \"ptb_4145\", \"ptb_eq5d_vas\", \"ptb_koos_qol_score\", \"ptb_eq5d_score_5l\", \"vasChaSco\"]\n",
    "\n",
    "\n",
    "binary_category_variables = [ \"gender\", \"fysb_3639\", \"fysb_9349\", \"fysb_3642\", \"fysb_medicin\", \n",
    "                             \"fysb_op\", \"testb_10392\", \"ptb_10223\", \"ptb_10224\", \"ptb_10225\", \n",
    "                             \"ptb_10226_b\", \"ptb_13118\", \"ptb_16316\", \"ptb_3754_b\", \"ptb_3758\", \n",
    "                             \"ptb_koospain\", \"ptb_3762\", \"ptb_low_back\", \"ptb_3765\", \n",
    "                             \"ptb_3777_b\", \"ptb_3772\", \"ptb_11836\", \"ptb_3792_b\"]"
   ]
  },
  {
   "cell_type": "markdown",
   "metadata": {},
   "source": [
    "##### Included"
   ]
  },
  {
   "cell_type": "code",
   "execution_count": null,
   "metadata": {},
   "outputs": [],
   "source": [
    "numerical_meta = {}\n",
    "for c_name in continues_variable:\n",
    "    target_column =  df_included[c_name]\n",
    "    numerical_meta[c_name] = {\n",
    "        \"mean\":target_column.mean(),\n",
    "        \"std\": target_column.std(),\n",
    "        \"min\": target_column.min(), \n",
    "        \"max\": target_column.max(),\n",
    "        \"nan\": (target_column.isnull()).sum()\n",
    "        # \"data-type\": target_column.dtype,\n",
    "        # \"median\": target_column.median(),\n",
    "       \n",
    "     }\n",
    "for i, (k, v) in enumerate(numerical_meta.items(), 1):\n",
    "    print(f\"{i}. {k}: {v}\")"
   ]
  },
  {
   "cell_type": "code",
   "execution_count": null,
   "metadata": {},
   "outputs": [],
   "source": [
    "categorical_meta = {}\n",
    "for c_name in binary_category_variables:\n",
    "    target_column =  df_included[c_name]\n",
    "    categorical_meta[c_name] = {\n",
    "        \"data-type\": target_column.dtype,\n",
    "        \"True\": (target_column == True).sum(),\n",
    "        \"False\": (target_column == False).sum(),\n",
    "        \"nan\": (target_column.isnull()).sum()\n",
    "        # \"unique\": np.unique(target_column.values, return_counts=True), \n",
    "        \n",
    "     }\n",
    "for i, (k, v) in enumerate(categorical_meta.items(), 1):\n",
    "    print(f\"{i}. {k}: {v}\")"
   ]
  },
  {
   "cell_type": "code",
   "execution_count": null,
   "metadata": {},
   "outputs": [],
   "source": [
    "print(df.fysb_9349.unique())\n",
    "print(\"_______\")\n",
    "print(df_included.fysb_9349.unique())\n",
    "print(\"_______\")\n",
    "print(df_included.fysb_9349.value_counts())\n",
    "print(\"_______\")\n",
    "print(df_included.fysb_9349.isna().sum())"
   ]
  },
  {
   "cell_type": "markdown",
   "metadata": {},
   "source": [
    "##### Excluded"
   ]
  },
  {
   "cell_type": "code",
   "execution_count": null,
   "metadata": {},
   "outputs": [],
   "source": [
    "df_ex.shape"
   ]
  },
  {
   "cell_type": "code",
   "execution_count": null,
   "metadata": {},
   "outputs": [],
   "source": [
    "numerical_meta = {}\n",
    "for c_name in continues_variable:\n",
    "    target_column =  df_ex[c_name]\n",
    "    numerical_meta[c_name] = {\n",
    "        \"mean\":target_column.mean(),\n",
    "        \"std\": target_column.std(),\n",
    "        \"min\": target_column.min(), \n",
    "        \"max\": target_column.max(),\n",
    "        \"nan\": (target_column.isnull()).sum()\n",
    "        # \"data-type\": target_column.dtype,\n",
    "        # \"median\": target_column.median(),\n",
    "       \n",
    "     }\n",
    "for i, (k, v) in enumerate(numerical_meta.items(), 1):\n",
    "    print(f\"{i}. {k}: {v}\")"
   ]
  },
  {
   "cell_type": "code",
   "execution_count": null,
   "metadata": {},
   "outputs": [],
   "source": [
    "categorical_meta = {}\n",
    "for c_name in binary_category_variables:\n",
    "    target_column =  df_ex[c_name]\n",
    "    categorical_meta[c_name] = {\n",
    "        # \"data-type\": target_column.dtype,\n",
    "        \"True\": (target_column == True).sum(),\n",
    "        \"False\": (target_column == False).sum(),\n",
    "        \"nan\": (target_column.isnull()).sum()\n",
    "        # \"unique\": np.unique(target_column.values, return_counts=True), \n",
    "        \n",
    "     }\n",
    "for i, (k, v) in enumerate(categorical_meta.items(), 1):\n",
    "    print(f\"{i}. {k}: {v}\")"
   ]
  },
  {
   "cell_type": "code",
   "execution_count": null,
   "metadata": {},
   "outputs": [],
   "source": [
    "print(df.fysb_9349.unique())\n",
    "print(\"_______\")\n",
    "print(df_ex.fysb_9349.unique())\n",
    "print(\"_______\")\n",
    "print(df_ex.fysb_9349.value_counts())\n",
    "print(\"_______\")\n",
    "print(df_ex.fysb_9349.isna().sum())"
   ]
  },
  {
   "cell_type": "code",
   "execution_count": null,
   "metadata": {},
   "outputs": [],
   "source": []
  }
 ],
 "metadata": {
  "kernelspec": {
   "display_name": "physioai",
   "language": "python",
   "name": "python3"
  },
  "language_info": {
   "codemirror_mode": {
    "name": "ipython",
    "version": 3
   },
   "file_extension": ".py",
   "mimetype": "text/x-python",
   "name": "python",
   "nbconvert_exporter": "python",
   "pygments_lexer": "ipython3",
   "version": "3.10.13"
  },
  "orig_nbformat": 4
 },
 "nbformat": 4,
 "nbformat_minor": 2
}
