{
 "cells": [
  {
   "cell_type": "code",
   "execution_count": null,
   "metadata": {},
   "outputs": [
    {
     "name": "stderr",
     "output_type": "stream",
     "text": [
      "/Users/mahdie/opt/anaconda3/envs/physioai/lib/python3.10/site-packages/pandas/core/arrays/masked.py:60: UserWarning: Pandas requires version '1.3.6' or newer of 'bottleneck' (version '1.3.5' currently installed).\n",
      "  from pandas.core import (\n"
     ]
    }
   ],
   "source": [
    "import pandas as pd\n",
    "import matplotlib.pyplot as plt\n",
    "import copy\n",
    "import numpy as np"
   ]
  },
  {
   "attachments": {},
   "cell_type": "markdown",
   "metadata": {},
   "source": [
    "#### Load dataset"
   ]
  },
  {
   "cell_type": "code",
   "execution_count": null,
   "metadata": {},
   "outputs": [
    {
     "name": "stdout",
     "output_type": "stream",
     "text": [
      "(66215, 1239)\n"
     ]
    }
   ],
   "source": [
    "df = pd.read_stata(\"../data.dta\")\n",
    "print(df.shape)"
   ]
  },
  {
   "attachments": {},
   "cell_type": "markdown",
   "metadata": {},
   "source": [
    "##### Hip patients are excluded (Exclusion of patients was either the patient did not register the knee as a primary joint) (ptb_3754)"
   ]
  },
  {
   "cell_type": "code",
   "execution_count": 6,
   "metadata": {},
   "outputs": [
    {
     "name": "stdout",
     "output_type": "stream",
     "text": [
      "(40411, 1239)\n"
     ]
    }
   ],
   "source": [
    "def knee_pain(df):\n",
    "    df_knee_pain = df[(df['ptb_3754'] == 5.0) | (df['ptb_3754'] == 6.0)];\n",
    "    return df_knee_pain\n",
    "\n",
    "df = knee_pain(df)\n",
    "print(df.shape)"
   ]
  },
  {
   "attachments": {},
   "cell_type": "markdown",
   "metadata": {},
   "source": [
    "##### Exclusion of patients registered their baseline characteristics (ptb_3750) before the 09th of October 2014"
   ]
  },
  {
   "cell_type": "code",
   "execution_count": 7,
   "metadata": {},
   "outputs": [
    {
     "name": "stdout",
     "output_type": "stream",
     "text": [
      "(38547, 1239)\n"
     ]
    }
   ],
   "source": [
    "def filter_date_basedOn_ptb_3750(df):\n",
    "    cut_date = pd.DataFrame(data={'a': ['2014-10-09']})\n",
    "    cut_date = cut_date.a.astype('datetime64[ns]').values[0]\n",
    "    filtered_df = df[(df['ptb_3750'].astype('datetime64[ns]') < cut_date)].index\n",
    "    return df.drop(index = filtered_df)\n",
    "\n",
    "df = filter_date_basedOn_ptb_3750(df)\n",
    "print(df.shape)"
   ]
  },
  {
   "attachments": {},
   "cell_type": "markdown",
   "metadata": {},
   "source": [
    "### adding outcome variables and remove cases with missing outcome:  "
   ]
  },
  {
   "attachments": {},
   "cell_type": "markdown",
   "metadata": {},
   "source": [
    "##### VAS change in pain score"
   ]
  },
  {
   "cell_type": "code",
   "execution_count": null,
   "metadata": {},
   "outputs": [
    {
     "name": "stdout",
     "output_type": "stream",
     "text": [
      "ptb_3564 null is:  26\n"
     ]
    },
    {
     "data": {
      "image/png": "[encoded data removed]",
      "text/plain": [
       "<Figure size 640x480 with 1 Axes>"
      ]
     },
     "metadata": {},
     "output_type": "display_data"
    },
    {
     "name": "stdout",
     "output_type": "stream",
     "text": [
      "(38547, 1240)\n",
      "(38547, 1239)\n"
     ]
    }
   ],
   "source": [
    "plot_df = copy.deepcopy(df)\n",
    "print(\"ptb_3564 null is: \",plot_df.ptb_3764.isnull().sum())\n",
    "\n",
    "# Convert the 'ptb_3750' column to a datetime object and extract the year\n",
    "plot_df['year'] = pd.to_datetime(plot_df['ptb_3750']).dt.year\n",
    "\n",
    "# Create a new data frame with only the relevant columns\n",
    "df2 = plot_df[['year', 'ptb_3764']]\n",
    "\n",
    "\n",
    "null_counts = df2.groupby('year')['ptb_3764'].apply(lambda x: x.isnull().sum())\n",
    "non_null_counts = df2.groupby('year')['ptb_3764'].apply(lambda x: x.notnull().sum())\n",
    "\n",
    "# Create a bar plot with stacked bars for null and non-null counts\n",
    "plt.bar(null_counts.index, null_counts, color='red', label='Null')\n",
    "plt.bar(non_null_counts.index, non_null_counts, bottom=null_counts, color='green', label='Non-Null')\n",
    "plt.title('Counts of Null and Non-Null Values in ptb_3764 by Year')\n",
    "plt.xlabel('Year')\n",
    "plt.ylabel('Counts')\n",
    "plt.legend()\n",
    "plt.ylim(0, 200)\n",
    "plt.show()\n",
    "\n",
    "print(plot_df.shape)\n",
    "print(df.shape)\n"
   ]
  },
  {
   "cell_type": "code",
   "execution_count": 10,
   "metadata": {},
   "outputs": [
    {
     "name": "stdout",
     "output_type": "stream",
     "text": [
      "miss value at baseline:  26\n",
      "miss value after 3 months:  10961\n"
     ]
    }
   ],
   "source": [
    "print(\"miss value at baseline: \", df.ptb_3764.isnull().sum())\n",
    "print(\"miss value after 3 months: \", df.pt3_3764.isnull().sum())"
   ]
  },
  {
   "cell_type": "code",
   "execution_count": 11,
   "metadata": {},
   "outputs": [
    {
     "name": "stdout",
     "output_type": "stream",
     "text": [
      "(38521, 1239)\n"
     ]
    }
   ],
   "source": [
    "def drop_na_ptb3764(df):\n",
    "    return df.dropna(subset=['ptb_3764'])\n",
    "\n",
    "drop_na_ptb3764_def = drop_na_ptb3764(df)\n",
    "print(drop_na_ptb3764_def.shape)\n"
   ]
  },
  {
   "cell_type": "code",
   "execution_count": 12,
   "metadata": {},
   "outputs": [
    {
     "name": "stdout",
     "output_type": "stream",
     "text": [
      "(38521, 1240)\n"
     ]
    }
   ],
   "source": [
    "def calculate_vas(df):\n",
    "    dif = df.ptb_3764.values - df.pt3_3764.values\n",
    "    new_df = copy.deepcopy(df)\n",
    "    new_df['vasChaSco'] = dif\n",
    "    return new_df\n",
    "\n",
    "calculate_vas_def = calculate_vas(drop_na_ptb3764_def)\n",
    "print(calculate_vas_def.shape)"
   ]
  },
  {
   "cell_type": "code",
   "execution_count": 13,
   "metadata": {},
   "outputs": [
    {
     "name": "stdout",
     "output_type": "stream",
     "text": [
      "[  6.   2.  nan  12.  -9.  11.   0.  45.  10.  24.  58.  -3.   9.  34.\n",
      " -18.  14.   8.  16.   1.  55.   5.  60.   3.  47.  41.  -4.  31. -13.\n",
      "  -5.  13.  -1.  -7.  25. -36. -41. -37.  -6.  40.  18. -26.  42.  54.\n",
      "  23.   7.  71.  46. -27.  44. -15.  26.  68.  15.  21. -23. -11. -77.\n",
      "   4.  49.  29. -14.  38.  17.  20.  63.  37.  27.  43. -32.  19.  77.\n",
      "  33.  22. -19.  -8.  32. -10.  -2.  56.  74.  39.  65.  35.  81.  51.\n",
      " -16.  36. -24.  67. -20. -22.  52.  30.  28. -57.  73.  53. -12.  69.\n",
      " -31. -61.  57. -34.  50.  64. -33. -30. -29. -75. -25.  59. -38.  48.\n",
      " -46. -17. -35. -28.  66. -40.  70. -21.  62. -50. -42. -45. -47.  72.\n",
      " -43.  76. -44.  97.  85.  75. -64.  80. -60. -62.  83. -49. -87. -52.\n",
      " -48. -56.  61. -51.  95.  78. -78.  88. -69. -39. -53.  93.  79. -81.\n",
      "  94. -55. -68.  86. -59. -63. -73. -65.  84. -74. -98. -54. -89.  92.\n",
      "  96.  99. -66. -72. -58.  87. -86.  82. -88. -79. -70. -71.  98. 100.\n",
      "  91. -76.]\n",
      "miss value after calculate VAS: 10950\n"
     ]
    }
   ],
   "source": [
    "# print(calculate_vas_def.vasChaSco.to_list())\n",
    "print(calculate_vas_def.vasChaSco.unique())\n",
    "print(\"miss value after calculate VAS:\", calculate_vas_def.vasChaSco.isnull().sum() )"
   ]
  },
  {
   "cell_type": "code",
   "execution_count": 14,
   "metadata": {},
   "outputs": [
    {
     "name": "stdout",
     "output_type": "stream",
     "text": [
      "miss value:  0\n",
      "(27571, 1240)\n"
     ]
    }
   ],
   "source": [
    "vas_df = calculate_vas_def.dropna(subset=['vasChaSco'])\n",
    "print(\"miss value: \", vas_df.vasChaSco.isnull().sum())\n",
    "print(vas_df.shape)"
   ]
  },
  {
   "cell_type": "code",
   "execution_count": null,
   "metadata": {},
   "outputs": [],
   "source": [
    "df = vas_df\n",
    "print(df.shape)"
   ]
  },
  {
   "attachments": {},
   "cell_type": "markdown",
   "metadata": {},
   "source": [
    "##### KOOS qol change score change in pain score"
   ]
  },
  {
   "cell_type": "code",
   "execution_count": null,
   "metadata": {},
   "outputs": [
    {
     "name": "stdout",
     "output_type": "stream",
     "text": [
      "ptb_koos_qol_score null is:  6\n"
     ]
    },
    {
     "data": {
      "image/png": "[encoded data removed]",
      "text/plain": [
       "<Figure size 640x480 with 1 Axes>"
      ]
     },
     "metadata": {},
     "output_type": "display_data"
    }
   ],
   "source": [
    "plot_df = copy.deepcopy(df)\n",
    "\n",
    "print(\"ptb_koos_qol_score null is: \",plot_df.ptb_koos_qol_score.isnull().sum())\n",
    "\n",
    "# Convert the 'ptb_3750' column to a datetime object and extract the year\n",
    "plot_df['year'] = pd.to_datetime(plot_df['ptb_3750']).dt.year\n",
    "\n",
    "# Create a new data frame with only the relevant columns\n",
    "df2 = plot_df[['year', 'ptb_koos_qol_score']]\n",
    "\n",
    "null_counts = df2.groupby('year')['ptb_koos_qol_score'].apply(lambda x: x.isnull().sum())\n",
    "non_null_counts = df2.groupby('year')['ptb_koos_qol_score'].apply(lambda x: x.notnull().sum())\n",
    "\n",
    "# Create a bar plot with stacked bars for null and non-null counts\n",
    "plt.bar(null_counts.index, null_counts, color='red', label='Null')\n",
    "plt.bar(non_null_counts.index, non_null_counts, bottom=null_counts, color='green', label='Non-Null')\n",
    "plt.title('Counts of Null and Non-Null Values in ptb_koos_qol_score by Year')\n",
    "plt.xlabel('Year')\n",
    "plt.ylabel('Counts')\n",
    "plt.legend()\n",
    "plt.ylim(0, 200)\n",
    "plt.show()"
   ]
  },
  {
   "cell_type": "code",
   "execution_count": 18,
   "metadata": {},
   "outputs": [
    {
     "name": "stdout",
     "output_type": "stream",
     "text": [
      "miss value at baseline:  6\n",
      "miss value after 3 months:  12\n"
     ]
    }
   ],
   "source": [
    "print(\"miss value at baseline: \", df.ptb_koos_qol_score.isnull().sum())\n",
    "print(\"miss value after 3 months: \", df.pt3_koos_qol_score.isnull().sum())"
   ]
  },
  {
   "cell_type": "code",
   "execution_count": 19,
   "metadata": {},
   "outputs": [
    {
     "name": "stdout",
     "output_type": "stream",
     "text": [
      "(27565, 1240)\n"
     ]
    }
   ],
   "source": [
    "def drop_na_ptb_koos_qol_score(df):\n",
    "    return df.dropna(subset=['ptb_koos_qol_score'])\n",
    "\n",
    "drop_na_ptb_koos_qol_score_def =  drop_na_ptb_koos_qol_score(df)\n",
    "\n",
    "print(drop_na_ptb_koos_qol_score_def.shape)"
   ]
  },
  {
   "cell_type": "code",
   "execution_count": 20,
   "metadata": {},
   "outputs": [
    {
     "name": "stdout",
     "output_type": "stream",
     "text": [
      "(27565, 1241)\n"
     ]
    }
   ],
   "source": [
    "def calculate_koos(df):\n",
    "    dif = df.ptb_koos_qol_score.values - df.pt3_koos_qol_score.values\n",
    "    new_df = copy.deepcopy(df)\n",
    "    new_df['koosChaSco'] = dif\n",
    "    return new_df\n",
    "\n",
    "calculate_koos_def = calculate_koos(drop_na_ptb_koos_qol_score_def)\n",
    "print(calculate_koos_def.shape)"
   ]
  },
  {
   "cell_type": "code",
   "execution_count": 21,
   "metadata": {},
   "outputs": [
    {
     "name": "stdout",
     "output_type": "stream",
     "text": [
      "miss value after calculate KOOS:  12\n"
     ]
    }
   ],
   "source": [
    "print(\"miss value after calculate KOOS: \", calculate_koos_def.koosChaSco.isnull().sum())"
   ]
  },
  {
   "cell_type": "code",
   "execution_count": 22,
   "metadata": {},
   "outputs": [
    {
     "name": "stdout",
     "output_type": "stream",
     "text": [
      "(27553, 1240)\n",
      "miss value:  0\n"
     ]
    }
   ],
   "source": [
    "koos_df = calculate_koos_def.dropna(subset=['koosChaSco']).drop(columns=['pt3_koos_qol_score'])\n",
    "print(koos_df.shape)\n",
    "print(\"miss value: \", koos_df.koosChaSco.isnull().sum())"
   ]
  },
  {
   "cell_type": "code",
   "execution_count": null,
   "metadata": {},
   "outputs": [],
   "source": [
    "df = koos_df\n",
    "print(df.shape)"
   ]
  },
  {
   "cell_type": "code",
   "execution_count": null,
   "metadata": {},
   "outputs": [
    {
     "name": "stdout",
     "output_type": "stream",
     "text": [
      "is null: 0\n",
      "unique:  [  6.25        18.75       -12.5         -6.25        12.5\n",
      " -25.         -31.25         0.         -37.5        -43.75\n",
      "  31.25        25.         -18.75       -56.25       -50.\n",
      "  56.25        27.08333333  37.5        -10.41666667  43.75\n",
      "  27.08333333  -4.16666667 -81.25       -62.5         68.75\n",
      "  16.66666667  50.         -68.75        22.91666667 -75.        ]\n",
      "shape:  (27553, 1240)\n"
     ]
    }
   ],
   "source": [
    "########## change type of variable to numeric  ####\n",
    "koos_df['koosChaSco'] = pd.to_numeric(koos_df['koosChaSco'].apply(lambda x: re.sub(',', '.', str(x))))\n",
    "print(\"is null:\", koos_df.koosChaSco.isnull().sum())\n",
    "print(\"unique: \", koos_df.koosChaSco.unique())\n",
    "print(\"shape: \", koos_df.shape)\n",
    "\n",
    "print(df.shape)"
   ]
  },
  {
   "attachments": {},
   "cell_type": "markdown",
   "metadata": {},
   "source": [
    "##### 40m walking change score change in pain score"
   ]
  },
  {
   "cell_type": "code",
   "execution_count": null,
   "metadata": {},
   "outputs": [
    {
     "name": "stdout",
     "output_type": "stream",
     "text": [
      "testb_10391 null is:  1548\n"
     ]
    },
    {
     "data": {
      "image/png": "[encoded data removed]",
      "text/plain": [
       "<Figure size 640x480 with 1 Axes>"
      ]
     },
     "metadata": {},
     "output_type": "display_data"
    }
   ],
   "source": [
    "plot_df = copy.deepcopy(df)\n",
    "\n",
    "print(\"testb_10391 null is: \",plot_df.testb_10391.isnull().sum())\n",
    "\n",
    "# Convert the 'ptb_3750' column to a datetime object and extract the year\n",
    "plot_df['year'] = pd.to_datetime(plot_df['ptb_3750']).dt.year\n",
    "\n",
    "# Create a new data frame with only the relevant columns\n",
    "df2 = plot_df[['year', 'testb_10391']]\n",
    "null_counts = df2.groupby('year')['testb_10391'].apply(lambda x: x.isnull().sum())\n",
    "non_null_counts = df2.groupby('year')['testb_10391'].apply(lambda x: x.notnull().sum())\n",
    "\n",
    "# Create a bar plot with stacked bars for null and non-null counts\n",
    "plt.bar(null_counts.index, null_counts, color='red', label='Null')\n",
    "plt.bar(non_null_counts.index, non_null_counts, bottom=null_counts, color='green', label='Non-Null')\n",
    "\n",
    "plt.title('Counts of Null and Non-Null Values in testb_10391 by Year')\n",
    "plt.xlabel('Year')\n",
    "plt.ylabel('Counts')\n",
    "plt.legend()\n",
    "plt.show()"
   ]
  },
  {
   "cell_type": "code",
   "execution_count": 27,
   "metadata": {},
   "outputs": [
    {
     "name": "stdout",
     "output_type": "stream",
     "text": [
      "miss value at baseline:  1548\n",
      "miss value after 3 months:  7798\n"
     ]
    }
   ],
   "source": [
    "print(\"miss value at baseline: \", df.testb_10391.isnull().sum())\n",
    "print(\"miss value after 3 months: \", df.test3_10391.isnull().sum())"
   ]
  },
  {
   "cell_type": "code",
   "execution_count": 29,
   "metadata": {},
   "outputs": [
    {
     "name": "stdout",
     "output_type": "stream",
     "text": [
      "(26005, 1240)\n"
     ]
    }
   ],
   "source": [
    "def drop_na_ptb_speed_walk(df):\n",
    "    return df.dropna(subset=['testb_10391'])\n",
    "\n",
    "drop_na_ptb_speed_walk_def = drop_na_ptb_speed_walk(df)\n",
    "print(drop_na_ptb_speed_walk_def.shape)\n",
    "\n",
    "## Sup comment: change np.nans of df.test3_10391 to zeros \n"
   ]
  },
  {
   "cell_type": "code",
   "execution_count": null,
   "metadata": {},
   "outputs": [
    {
     "name": "stdout",
     "output_type": "stream",
     "text": [
      "(26005, 1241)\n"
     ]
    }
   ],
   "source": [
    "def calculate_speed_walk(df):\n",
    "    dif = (40/df.testb_10391.values) - (40/df.test3_10391.values)\n",
    "    new_df = copy.deepcopy(df)\n",
    "    new_df['funcChaSco'] = dif\n",
    "    return new_df\n",
    "\n",
    "calculate_speed_walk_def = calculate_speed_walk(drop_na_ptb_speed_walk_def)\n",
    "print(calculate_speed_walk_def.shape)"
   ]
  },
  {
   "cell_type": "code",
   "execution_count": 31,
   "metadata": {},
   "outputs": [
    {
     "name": "stdout",
     "output_type": "stream",
     "text": [
      "miss value after calculate speed walk:  6654\n"
     ]
    }
   ],
   "source": [
    "print(\"miss value after calculate speed walk: \", calculate_speed_walk_def.funcChaSco.isnull().sum())"
   ]
  },
  {
   "cell_type": "code",
   "execution_count": 32,
   "metadata": {},
   "outputs": [
    {
     "name": "stdout",
     "output_type": "stream",
     "text": [
      "(19351, 1240)\n",
      "miss value:  0\n"
     ]
    }
   ],
   "source": [
    "speedwalk_df = calculate_speed_walk_def.dropna(subset=['funcChaSco']).drop(columns=['test3_10391'])\n",
    "print(speedwalk_df.shape)\n",
    "print(\"miss value: \", speedwalk_df.funcChaSco.isnull().sum())"
   ]
  },
  {
   "attachments": {},
   "cell_type": "markdown",
   "metadata": {},
   "source": [
    "##### change type of variable to numeric"
   ]
  },
  {
   "cell_type": "code",
   "execution_count": 33,
   "metadata": {},
   "outputs": [
    {
     "name": "stdout",
     "output_type": "stream",
     "text": [
      "is null: 0\n",
      "unique:  [-0.02861245 -0.21592443 -0.15959669 ... -0.14110819 -0.03651159\n",
      " -0.12296502]\n",
      "shape:  (19351, 1240)\n"
     ]
    }
   ],
   "source": [
    "speedwalk_df['funcChaSco'] = pd.to_numeric(speedwalk_df['funcChaSco'].apply(lambda x: re.sub(',', '.', str(x))))\n",
    "print(\"is null:\", speedwalk_df.funcChaSco.isnull().sum())\n",
    "print(\"unique: \", speedwalk_df.funcChaSco.unique())\n",
    "print(\"shape: \", speedwalk_df.shape)"
   ]
  },
  {
   "cell_type": "code",
   "execution_count": null,
   "metadata": {},
   "outputs": [],
   "source": [
    "df = speedwalk_df\n",
    "print(df.shape)"
   ]
  },
  {
   "attachments": {},
   "cell_type": "markdown",
   "metadata": {},
   "source": [
    "#### VARIABLE PREPRATION"
   ]
  },
  {
   "attachments": {},
   "cell_type": "markdown",
   "metadata": {},
   "source": [
    "##### Calculate mean,sd,min,max,Nan"
   ]
  },
  {
   "cell_type": "code",
   "execution_count": 36,
   "metadata": {},
   "outputs": [
    {
     "name": "stdout",
     "output_type": "stream",
     "text": [
      "14257291\n"
     ]
    }
   ],
   "source": [
    "print(df.isna().sum().sum())"
   ]
  },
  {
   "attachments": {},
   "cell_type": "markdown",
   "metadata": {},
   "source": [
    "##### Exclude cases between 2016-05-13 & 2016-11-12"
   ]
  },
  {
   "cell_type": "code",
   "execution_count": 37,
   "metadata": {},
   "outputs": [
    {
     "name": "stdout",
     "output_type": "stream",
     "text": [
      "(17634, 1240)\n"
     ]
    }
   ],
   "source": [
    "def filter_date_basedOn_ptb_3750(df):\n",
    "    filtered_df = df[(df['fysb_3629'].astype(\"datetime64[ns]\") > '2016-05-13') & (df['fysb_3629'].astype(\"datetime64[ns]\") < '2016-11-12')].index\n",
    "    return df.drop(index = filtered_df)\n",
    "\n",
    "\n",
    "df = filter_date_basedOn_ptb_3750(df)\n",
    "print(df.shape)\n"
   ]
  },
  {
   "cell_type": "code",
   "execution_count": 38,
   "metadata": {},
   "outputs": [
    {
     "name": "stdout",
     "output_type": "stream",
     "text": [
      "(17634, 1239)\n"
     ]
    }
   ],
   "source": [
    "def drop_fysb_3629(df):\n",
    "    return df.drop(columns=['fysb_3629'])\n",
    "\n",
    "df = drop_fysb_3629(df)\n",
    "\n",
    "print(df.shape)"
   ]
  },
  {
   "attachments": {},
   "cell_type": "markdown",
   "metadata": {},
   "source": [
    "#### Merge variables:"
   ]
  },
  {
   "attachments": {},
   "cell_type": "markdown",
   "metadata": {},
   "source": [
    "#####  X_ray signs, persons who did not get an x-ray ->"
   ]
  },
  {
   "cell_type": "code",
   "execution_count": 39,
   "metadata": {},
   "outputs": [
    {
     "name": "stdout",
     "output_type": "stream",
     "text": [
      "(17634, 1238)\n"
     ]
    }
   ],
   "source": [
    "def x_ray(df):\n",
    "    x_ray_ind = df[df['fysb_3637'] == 1].index.values\n",
    "    df.loc[x_ray_ind, 'fysb_9349'] = 3\n",
    "    df = df.drop(columns=['fysb_3637'])\n",
    "    return df\n",
    "\n",
    "df = x_ray(df)\n",
    "print(df.shape)"
   ]
  },
  {
   "cell_type": "code",
   "execution_count": 40,
   "metadata": {},
   "outputs": [
    {
     "data": {
      "text/plain": [
       "array([ 1.,  3., nan,  2.])"
      ]
     },
     "execution_count": 40,
     "metadata": {},
     "output_type": "execute_result"
    }
   ],
   "source": [
    "df.fysb_9349.unique()"
   ]
  },
  {
   "attachments": {},
   "cell_type": "markdown",
   "metadata": {},
   "source": [
    "##### changing chair-stand-test outcome to 0 for those who were not able to do one chair stand"
   ]
  },
  {
   "cell_type": "code",
   "execution_count": 41,
   "metadata": {},
   "outputs": [
    {
     "name": "stdout",
     "output_type": "stream",
     "text": [
      "(17634, 1237)\n"
     ]
    }
   ],
   "source": [
    "def chair_stand(df):\n",
    "    chair_stand_ind = df[df['testb_10393'] == 2].index.values\n",
    "    df.loc[chair_stand_ind, 'testb_10281'] = 0\n",
    "    df = df.drop(columns=['testb_10393'])\n",
    "    return df\n",
    "df = chair_stand(df)\n",
    "print(df.shape)"
   ]
  },
  {
   "attachments": {},
   "cell_type": "markdown",
   "metadata": {},
   "source": [
    "##### change NA to 0 in variables with only yes as option and Timing  "
   ]
  },
  {
   "cell_type": "code",
   "execution_count": 42,
   "metadata": {},
   "outputs": [],
   "source": [
    "def pain_area(df):\n",
    "    area_part_body_pain = [\"ptb_15026_1\",  \"ptb_15026_2\", \"ptb_15026_3\", \"ptb_15026_4\", \"ptb_15026_5\",\n",
    "                 \"ptb_15026_6\", \"ptb_15026_7\", \"ptb_15026_8\", \"ptb_15026_9\", \"ptb_15026_10\",\n",
    "                 \"ptb_15026_11\", \"ptb_15026_12\", \"ptb_15026_13\", \"ptb_15026_14\", \"ptb_15026_15\",\n",
    "                 \"ptb_15026_16\", \"ptb_15026_17\", \"ptb_15026_18\", \"ptb_15026_19\", \"ptb_15026_20\",\n",
    "                 \"ptb_15026_21\", \"ptb_15026_22\", \"ptb_15026_23\", \"ptb_15026_24\", \"ptb_15026_25\",\n",
    "                 \"ptb_15026_26\", \"ptb_15027_1\",  \"ptb_15027_2\", \"ptb_15027_3\", \"ptb_15027_4\",\n",
    "                 \"ptb_15027_5\", \"ptb_15027_6\", \"ptb_15027_7\", \"ptb_15027_8\", \"ptb_15027_9\",\n",
    "                 \"ptb_15027_10\", \"ptb_15027_11\", \"ptb_15027_12\", \"ptb_15027_13\", \"ptb_15027_14\",\n",
    "                 \"ptb_15027_15\", \"ptb_15027_16\", \"ptb_15027_17\", \"ptb_15027_18\", \"ptb_15027_19\",\n",
    "                 \"ptb_15027_20\", \"ptb_15027_21\", \"ptb_15027_22\", \"ptb_15027_23\", \"ptb_15027_24\",\n",
    "                 \"ptb_15027_25\", \"ptb_15027_26\", \"ptb_15027_27\", \"ptb_15027_28\", \"ptb_15027_29\",\n",
    "                 \"ptb_15027_30\"]\n",
    "\n",
    "    stichtag= pd.DataFrame(data={'a': ['2014-04-12']})\n",
    "    stichtag = stichtag.a.astype('datetime64[ns]').values[0]\n",
    "    survey_after_date = df[(df['ptb_3750'].notna()) & (df['ptb_3750'].astype('datetime64[ns]') >= stichtag)].index.values\n",
    "    # survey_after_date = df['ptb_3750'].astype('datetime64') >= stichtag\n",
    "\n",
    "\n",
    "    for ind, i in enumerate(area_part_body_pain):\n",
    "        change_na = df[df[i].isnull()].index.values\n",
    "        # change_na = df[i].isna()\n",
    "        inter = list(set(survey_after_date).intersection(set(change_na)))\n",
    "        # the intersection is always ZERO\n",
    "\n",
    "        for j in inter:\n",
    "           # df.loc[j][i] = 0\n",
    "            df.at[j, i] = 0\n",
    "        # df.loc[survey_after_date & change_na, i] = 0\n",
    "\n",
    "    return df"
   ]
  },
  {
   "cell_type": "code",
   "execution_count": 43,
   "metadata": {},
   "outputs": [
    {
     "data": {
      "text/plain": [
       "(17634, 1237)"
      ]
     },
     "execution_count": 43,
     "metadata": {},
     "output_type": "execute_result"
    }
   ],
   "source": [
    "df = pain_area(df)\n",
    "df.shape"
   ]
  },
  {
   "attachments": {},
   "cell_type": "markdown",
   "metadata": {},
   "source": [
    "##### creating 2 new variables pain_area and ptb_low_back"
   ]
  },
  {
   "cell_type": "code",
   "execution_count": 44,
   "metadata": {},
   "outputs": [],
   "source": [
    "def new_variable_pain_area(df):\n",
    "    df['pain_area'] = df.ptb_15026_1 + df.ptb_15026_2 + df.ptb_15026_3 + df.ptb_15026_4 + df.ptb_15026_5\\\n",
    "                      + df.ptb_15026_6 + df.ptb_15026_7 + df.ptb_15026_8 + df.ptb_15026_9 + df.ptb_15026_10+\\\n",
    "                      df.ptb_15026_11 + df.ptb_15026_12 + df.ptb_15026_13 + df.ptb_15026_14 + df.ptb_15026_15 +\\\n",
    "                      df.ptb_15026_16 + df.ptb_15026_17 + df.ptb_15026_18+ df.ptb_15026_19 + df.ptb_15026_20 +\\\n",
    "                      df.ptb_15026_21 + df.ptb_15026_22 + df.ptb_15026_23 + df.ptb_15026_24 + df.ptb_15026_25 +\\\n",
    "                      df.ptb_15026_26 + df.ptb_15027_1 + df.ptb_15027_2 + df.ptb_15027_3 + df.ptb_15027_4 +\\\n",
    "                      df.ptb_15027_5 + df.ptb_15027_6 + df.ptb_15027_7 + df.ptb_15027_8 + df.ptb_15027_9 +\\\n",
    "                      df.ptb_15027_10 + df.ptb_15027_11 + df.ptb_15027_12 + df.ptb_15027_13 + df.ptb_15027_14 +\\\n",
    "                      df.ptb_15027_15 + df.ptb_15027_16 + df.ptb_15027_17 + df.ptb_15027_18 + df.ptb_15027_19 +\\\n",
    "                      df.ptb_15027_20 + df.ptb_15027_21 + df.ptb_15027_22 + df.ptb_15027_23 + df.ptb_15027_24 +\\\n",
    "                      df.ptb_15027_25 + df.ptb_15027_26 + df.ptb_15027_27 + df.ptb_15027_28 + df.ptb_15027_29 +\\\n",
    "                      df.ptb_15027_30\n",
    "    return df\n",
    "\n",
    "\n",
    "def new_variable_ptb_low_back(df):\n",
    "\n",
    "    df['ptb_low_back'] = True\n",
    "    ind = df[(df['ptb_15027_13'] == 0) & (df['ptb_15027_11'] == 0) & (df['ptb_15027_14'] == 0) &\n",
    "           (df['ptb_15027_21'] == 0) & (df['ptb_15027_22'] == 0) & (df['ptb_15027_12'] == 0)].index.values\n",
    "    for i in ind:\n",
    "        df.at[i, 'ptb_low_back'] = False\n",
    "\n",
    "\n",
    "    # # df['ptb_low_back'] = df['ptb_low_back'].astype(bool)\n",
    "\n",
    "    return df"
   ]
  },
  {
   "cell_type": "code",
   "execution_count": 45,
   "metadata": {},
   "outputs": [
    {
     "data": {
      "text/plain": [
       "(17634, 1238)"
      ]
     },
     "execution_count": 45,
     "metadata": {},
     "output_type": "execute_result"
    }
   ],
   "source": [
    "df = new_variable_pain_area(df)\n",
    "df.shape"
   ]
  },
  {
   "cell_type": "code",
   "execution_count": 46,
   "metadata": {},
   "outputs": [
    {
     "data": {
      "text/plain": [
       "(17634, 1239)"
      ]
     },
     "execution_count": 46,
     "metadata": {},
     "output_type": "execute_result"
    }
   ],
   "source": [
    "df = new_variable_ptb_low_back(df)\n",
    "df.shape"
   ]
  },
  {
   "cell_type": "code",
   "execution_count": 47,
   "metadata": {},
   "outputs": [
    {
     "data": {
      "text/plain": [
       "array([False,  True])"
      ]
     },
     "execution_count": 47,
     "metadata": {},
     "output_type": "execute_result"
    }
   ],
   "source": [
    "df.fysb_symptomvarighed.dtype\n",
    "df.ptb_low_back.unique()"
   ]
  },
  {
   "attachments": {},
   "cell_type": "markdown",
   "metadata": {},
   "source": [
    "##### removing individual questions"
   ]
  },
  {
   "cell_type": "code",
   "execution_count": 48,
   "metadata": {},
   "outputs": [
    {
     "name": "stdout",
     "output_type": "stream",
     "text": [
      "(17634, 1183)\n"
     ]
    }
   ],
   "source": [
    "def remove_individual_question_variable(df, variables_dropped):\n",
    "    df = df.drop(variables_dropped, axis=1)\n",
    "    return df\n",
    "\n",
    "\n",
    "variables_removed = [\"ptb_15026_1\",  \"ptb_15026_2\", \"ptb_15026_3\", \"ptb_15026_4\", \"ptb_15026_5\",\n",
    "                 \"ptb_15026_6\", \"ptb_15026_7\", \"ptb_15026_8\", \"ptb_15026_9\", \"ptb_15026_10\",\n",
    "                 \"ptb_15026_11\", \"ptb_15026_12\", \"ptb_15026_13\", \"ptb_15026_14\", \"ptb_15026_15\",\n",
    "                 \"ptb_15026_16\", \"ptb_15026_17\", \"ptb_15026_18\", \"ptb_15026_19\", \"ptb_15026_20\",\n",
    "                 \"ptb_15026_21\", \"ptb_15026_22\", \"ptb_15026_23\", \"ptb_15026_24\", \"ptb_15026_25\",\n",
    "                 \"ptb_15026_26\", \"ptb_15027_1\",  \"ptb_15027_2\", \"ptb_15027_3\", \"ptb_15027_4\",\n",
    "                 \"ptb_15027_5\", \"ptb_15027_6\", \"ptb_15027_7\", \"ptb_15027_8\", \"ptb_15027_9\",\n",
    "                 \"ptb_15027_10\", \"ptb_15027_11\", \"ptb_15027_12\", \"ptb_15027_13\", \"ptb_15027_14\",\n",
    "                 \"ptb_15027_15\", \"ptb_15027_16\", \"ptb_15027_17\", \"ptb_15027_18\", \"ptb_15027_19\",\n",
    "                 \"ptb_15027_20\", \"ptb_15027_21\", \"ptb_15027_22\", \"ptb_15027_23\", \"ptb_15027_24\",\n",
    "                 \"ptb_15027_25\", \"ptb_15027_26\", \"ptb_15027_27\", \"ptb_15027_28\", \"ptb_15027_29\",\n",
    "                 \"ptb_15027_30\"]\n",
    "\n",
    "df = remove_individual_question_variable(df, variables_removed)\n",
    "\n",
    "print(df.shape)"
   ]
  },
  {
   "attachments": {},
   "cell_type": "markdown",
   "metadata": {},
   "source": [
    "##### creating variables per right/left knee are additional joints affected"
   ]
  },
  {
   "cell_type": "code",
   "execution_count": 49,
   "metadata": {},
   "outputs": [],
   "source": [
    "def calculate_ptb_1028_5_6(df):\n",
    "    df['ptb_10285_n'], df['ptb_10285_n'] = None, None\n",
    "    for a in range(5, 7):\n",
    "        ind1 = df[df[f\"ptb_1028{a}_2\"] == 1].index.values\n",
    "        df.loc[ind1, f\"ptb_1028{a}_n\"] = 0\n",
    "\n",
    "        for i in range(3, 6):\n",
    "            ind = df[df[f\"ptb_1028{a}_{i}\"] == 1].index.values\n",
    "            df.loc[ind, f'ptb_1028{a}_n'] = 1\n",
    "\n",
    "    return df\n",
    "\n",
    "def calculate_ptb_3754_b(df):\n",
    "    df['ptb_3754_b'] = np.where(df['ptb_10285_n'].notna(), df['ptb_10285_n'], df['ptb_10286_n'])\n",
    "    # 1 means no additonnal joint is affected and 2 means there are more than one joint affected\n",
    "    # change to do you have additional effected joints? 1= yes 0 = no\n",
    "    df.loc[df['ptb_3754_b'] == 1, 'ptb_3754_b'] = 0\n",
    "    df.loc[df['ptb_3754_b'] == 2, 'ptb_3754_b'] = 1\n",
    "    # change to boolean\n",
    "    df['ptb_3754_b'] = df['ptb_3754_b'].astype(bool)\n",
    "    return df\n",
    "\n",
    "\n",
    "def remove_irrelevant_variable(df):\n",
    "    columns_to_remove = ['ptb_10285_n', 'ptb_10286_n', 'ptb_3754', 'ptb_10286_2', 'ptb_10286_3', 'ptb_10286_4',\n",
    "                         'ptb_10286_5', 'ptb_10285_2', 'ptb_10285_3', 'ptb_10285_4', 'ptb_10285_5']\n",
    "    df = df.drop(columns_to_remove, axis=1)\n",
    "    return df"
   ]
  },
  {
   "cell_type": "code",
   "execution_count": 50,
   "metadata": {},
   "outputs": [
    {
     "data": {
      "text/plain": [
       "(17634, 1175)"
      ]
     },
     "execution_count": 50,
     "metadata": {},
     "output_type": "execute_result"
    }
   ],
   "source": [
    "df = calculate_ptb_1028_5_6(df)\n",
    "df = calculate_ptb_3754_b(df)\n",
    "df = remove_irrelevant_variable(df)\n",
    "df.shape"
   ]
  },
  {
   "attachments": {},
   "cell_type": "markdown",
   "metadata": {},
   "source": [
    "##### variable ptb_3792 Frequency of pain until exaustin making binary cut after once a week"
   ]
  },
  {
   "cell_type": "code",
   "execution_count": null,
   "metadata": {},
   "outputs": [],
   "source": [
    "def calculate_ptb_3792_b(df):\n",
    "    category_type_ptb_3792 = df['ptb_3792'].astype('category')\n",
    "\n",
    "    # replace values in column 'ptb_3792_b'\n",
    "    df.loc[df['ptb_3792'] == 1, 'ptb_3792_b'] = 0\n",
    "    df.loc[df['ptb_3792'] == 2, 'ptb_3792_b'] = 0\n",
    "    df.loc[df['ptb_3792'] == 3, 'ptb_3792_b'] = 0\n",
    "    df.loc[df['ptb_3792'] == 4, 'ptb_3792_b'] = 0\n",
    "    df.loc[df['ptb_3792'] == 5, 'ptb_3792_b'] = 1\n",
    "    df.loc[df['ptb_3792'] == 6, 'ptb_3792_b'] = 1\n",
    "    df.loc[df['ptb_3792'] == 7, 'ptb_3792_b'] = 1\n",
    "\n",
    "    df['ptb_3792_b'] = df['ptb_3792_b'].astype('bool')\n",
    "    df = df.drop('ptb_3792', axis=1)\n",
    "\n",
    "    return df"
   ]
  },
  {
   "cell_type": "code",
   "execution_count": 52,
   "metadata": {},
   "outputs": [
    {
     "data": {
      "text/plain": [
       "(17634, 1175)"
      ]
     },
     "execution_count": 52,
     "metadata": {},
     "output_type": "execute_result"
    }
   ],
   "source": [
    "df = calculate_ptb_3792_b(df)\n",
    "df.shape"
   ]
  },
  {
   "attachments": {},
   "cell_type": "markdown",
   "metadata": {},
   "source": [
    "##### variable ptb_3777 regarding the working status"
   ]
  },
  {
   "cell_type": "code",
   "execution_count": null,
   "metadata": {},
   "outputs": [],
   "source": [
    "def calculate_ptb_3777_b(df):\n",
    "    category_type_ptb_3777_b = df['ptb_3777'].astype('category')\n",
    "\n",
    "    # dichotomize variable in are you working or studying yes(1)\n",
    "    df.loc[df['ptb_3777'] == 1, 'ptb_3777_b'] = 1\n",
    "    df.loc[df['ptb_3777'] == 2, 'ptb_3777_b'] = 0\n",
    "    df.loc[df['ptb_3777'] == 3, 'ptb_3777_b'] = 0\n",
    "    df.loc[df['ptb_3777'] == 4, 'ptb_3777_b'] = 0\n",
    "    df.loc[df['ptb_3777'] == 5, 'ptb_3777_b'] = 0\n",
    "    df.loc[df['ptb_3777'] == 6, 'ptb_3777_b'] = 0\n",
    "    df.loc[df['ptb_3777'] == 7, 'ptb_3777_b'] = 0\n",
    "\n",
    "    df['ptb_3777_b'] = df['ptb_3777_b'].astype(bool)\n",
    "    df = df.drop('ptb_3777', axis=1)\n",
    "    return df"
   ]
  },
  {
   "cell_type": "code",
   "execution_count": 54,
   "metadata": {},
   "outputs": [
    {
     "data": {
      "text/plain": [
       "(17634, 1175)"
      ]
     },
     "execution_count": 54,
     "metadata": {},
     "output_type": "execute_result"
    }
   ],
   "source": [
    "df = calculate_ptb_3777_b(df)\n",
    "df.shape"
   ]
  },
  {
   "cell_type": "code",
   "execution_count": null,
   "metadata": {},
   "outputs": [],
   "source": [
    "# !!!! **** we dont have ptb_3761 (Old version). alternative is ptb_koospain_1  ****\n",
    "def calculate_ptb_koospain_1(df):\n",
    "    category_type_ptb_koospain = df['ptb_koospain_1'].astype('category')\n",
    "\n",
    "    # dichotomize data in do you have pain every day? yes(1)\n",
    "    df.loc[df['ptb_koospain_1'] == 0, 'ptb_koospain'] = 0\n",
    "    df.loc[df['ptb_koospain_1'] == 1, 'ptb_koospain'] = 0\n",
    "    df.loc[df['ptb_koospain_1'] == 2, 'ptb_koospain'] = 0\n",
    "    df.loc[df['ptb_koospain_1'] == 3, 'ptb_koospain'] = 1\n",
    "    df.loc[df['ptb_koospain_1'] == 4, 'ptb_koospain'] = 1\n",
    "\n",
    "    df['ptb_koospain'] = df['ptb_koospain'].astype(bool)\n",
    "    df = df.drop('ptb_koospain_1', axis=1)\n",
    "\n",
    "    return df"
   ]
  },
  {
   "cell_type": "code",
   "execution_count": 56,
   "metadata": {},
   "outputs": [
    {
     "data": {
      "text/plain": [
       "(17634, 1175)"
      ]
     },
     "execution_count": 56,
     "metadata": {},
     "output_type": "execute_result"
    }
   ],
   "source": [
    "df = calculate_ptb_koospain_1(df)\n",
    "df.shape"
   ]
  },
  {
   "cell_type": "code",
   "execution_count": null,
   "metadata": {},
   "outputs": [],
   "source": [
    "def calculate_ptb_10226_b(df):\n",
    "    category_type_ptb_10226_b = df['ptb_10226'].astype('category')\n",
    "\n",
    "    # dichotomize data in do you have a higher eductaion than secondary education\n",
    "    df['ptb_10226_b'] = 0\n",
    "    df.loc[df['ptb_10226'] == 3, 'ptb_10226_b'] = 1\n",
    "    df.loc[df['ptb_10226'] == 4, 'ptb_10226_b'] = 1\n",
    "    df.loc[df['ptb_10226'] == 5, 'ptb_10226_b'] = 1\n",
    "\n",
    "    df['ptb_10226_b'] = df['ptb_10226_b'].astype(bool)\n",
    "    df = df.drop('ptb_10226', axis=1)\n",
    "\n",
    "    return df"
   ]
  },
  {
   "cell_type": "code",
   "execution_count": 58,
   "metadata": {},
   "outputs": [
    {
     "data": {
      "text/plain": [
       "(17634, 1175)"
      ]
     },
     "execution_count": 58,
     "metadata": {},
     "output_type": "execute_result"
    }
   ],
   "source": [
    "df = calculate_ptb_10226_b(df)\n",
    "df.shape"
   ]
  },
  {
   "attachments": {},
   "cell_type": "markdown",
   "metadata": {},
   "source": [
    "##### sick-leave - have you been on sick leave -> delete information on how long have on sick listed / recode 2 to 0 as no"
   ]
  },
  {
   "cell_type": "code",
   "execution_count": 59,
   "metadata": {},
   "outputs": [
    {
     "data": {
      "text/plain": [
       "(17634, 1174)"
      ]
     },
     "execution_count": 59,
     "metadata": {},
     "output_type": "execute_result"
    }
   ],
   "source": [
    "def sick_leave_ptb_3772(df):\n",
    "    df.loc[df['ptb_3772'] == 2, 'ptb_3772'] = 0\n",
    "    df.drop('ptb_3776', axis=1, inplace=True)\n",
    "    return df\n",
    "\n",
    "df = sick_leave_ptb_3772(df)\n",
    "df.shape"
   ]
  },
  {
   "attachments": {},
   "cell_type": "markdown",
   "metadata": {},
   "source": [
    "#### Changing types of variables"
   ]
  },
  {
   "attachments": {},
   "cell_type": "markdown",
   "metadata": {},
   "source": [
    "##### change 2 to 0 in binary variables"
   ]
  },
  {
   "cell_type": "code",
   "execution_count": 60,
   "metadata": {},
   "outputs": [
    {
     "data": {
      "text/plain": [
       "(17634, 1174)"
      ]
     },
     "execution_count": 60,
     "metadata": {},
     "output_type": "execute_result"
    }
   ],
   "source": [
    "def change_type_variable(df):\n",
    "    binary_variables_need_change = ['fysb_3639', 'fysb_3642', 'fysb_op', 'ptb_3772', 'ptb_11836',\n",
    "                                    'testb_10392', 'ptb_10223', 'ptb_10224', 'ptb_10225', 'ptb_13118',\n",
    "                                    'ptb_15553', 'ptb_15554', 'ptb_15555', 'ptb_15556', 'ptb_15557',\n",
    "                                    'ptb_15558', 'ptb_15559', 'ptb_15560', 'ptb_15561', 'ptb_15562',\n",
    "                                    'ptb_15563', 'ptb_15564', 'ptb_16316', 'ptb_3758', 'ptb_3760',\n",
    "                                    'ptb_3762', 'ptb_3765']\n",
    "\n",
    "\n",
    "    for i in binary_variables_need_change:\n",
    "        ind = df[df[i] == 2].index.values\n",
    "        for ii in ind:\n",
    "            df.at[ii, i] = 0\n",
    "    return df\n",
    "\n",
    "df = change_type_variable(df)\n",
    "df.shape"
   ]
  },
  {
   "attachments": {},
   "cell_type": "markdown",
   "metadata": {},
   "source": [
    "##### change NA to 0 in variables with only yes as option and no timig"
   ]
  },
  {
   "cell_type": "code",
   "execution_count": 61,
   "metadata": {},
   "outputs": [
    {
     "data": {
      "text/plain": [
       "(17634, 1174)"
      ]
     },
     "execution_count": 61,
     "metadata": {},
     "output_type": "execute_result"
    }
   ],
   "source": [
    "def change_na_to_0(df):\n",
    "    change_variable_NA_0 = ['fysb_medicin']\n",
    "\n",
    "    for i in change_variable_NA_0:\n",
    "        for ii in df[df[i].isnull()].index.values:\n",
    "            df.at[ii, i] = 0\n",
    "    return df\n",
    "\n",
    "df = change_na_to_0(df)\n",
    "df.shape"
   ]
  },
  {
   "attachments": {},
   "cell_type": "markdown",
   "metadata": {},
   "source": [
    " ##### Change type of variables accordingly #############"
   ]
  },
  {
   "cell_type": "code",
   "execution_count": null,
   "metadata": {},
   "outputs": [],
   "source": [
    "### Saved as a Integer/Nummeric variable ###\n",
    "### Point! ptb_4145 in previouse study paper is ptb_ucla and ptb_eq5d_vas in previous study is ptb_15240\n",
    "\n",
    "def change_integerNummeric (df):\n",
    "\n",
    "    c = ['age', 'ptb_3764', 'testb_10281', 'ptb_4145', \"ptb_eq5d_vas\"]\n",
    "    for i in c:\n",
    "        df[i] = pd.to_numeric(df[i])\n",
    "\n",
    "        # print(df[i].unique())\n",
    "        # print(df[i].dtype)\n",
    "\n",
    "        # print(df[i].astype('Int32').unique())\n",
    "        # print(df[i].astype('Floa32').dtype)\n",
    "        # df[i] = df[i].astype(int)\n",
    "    return df\n",
    "df=change_integerNummeric (df)\n"
   ]
  },
  {
   "attachments": {},
   "cell_type": "markdown",
   "metadata": {},
   "source": [
    "##### Save and change as a NUMMERIC variable  ###"
   ]
  },
  {
   "cell_type": "code",
   "execution_count": 63,
   "metadata": {},
   "outputs": [],
   "source": [
    "# Change all `False` values to 0\n",
    "def change_variables_to_nummeric(df):\n",
    "    NumVar = [\"fysb_BMI\", \"ptb_koos_qol_score\", \"ptb_eq5d_score_5l\",\n",
    "              \"testb_10391\", \"ptb_ases_pain_score\", \"ptb_ases_other_score\", \"ptb_sf12_pcs\",\n",
    "              \"ptb_sf12_mcs\", \"vasChaSco\"]\n",
    "    for i in NumVar:\n",
    "        # print(df[i].dtypes)\n",
    "        # print(df[i].unique())        \n",
    "        # print(pd.to_numeric(df[i]).unique())\n",
    "        df[i] = pd.to_numeric(df[i])\n",
    "    return df\n",
    "\n",
    "\n",
    "df = change_variables_to_nummeric(df)\n"
   ]
  },
  {
   "attachments": {},
   "cell_type": "markdown",
   "metadata": {},
   "source": [
    "##### Save and change as a FACTOR/categroies variable  ###"
   ]
  },
  {
   "cell_type": "code",
   "execution_count": 65,
   "metadata": {},
   "outputs": [
    {
     "data": {
      "text/plain": [
       "(17634, 1174)"
      ]
     },
     "execution_count": 65,
     "metadata": {},
     "output_type": "execute_result"
    }
   ],
   "source": [
    "def change_variable_to_categorical(df):\n",
    "    df[\"fysb_9349\"] = df[\"fysb_9349\"].astype(str).astype(\"category\")\n",
    "    return df\n",
    "\n",
    "df = change_variable_to_categorical(df)\n",
    "df.shape"
   ]
  },
  {
   "attachments": {},
   "cell_type": "markdown",
   "metadata": {},
   "source": [
    "##### Save and change as a BINARY/LOGICAL variable ###"
   ]
  },
  {
   "cell_type": "code",
   "execution_count": 67,
   "metadata": {},
   "outputs": [],
   "source": [
    "def change_variables_to_binary_logical(df):\n",
    "    df['ptb_32260'] = df['ptb_32260'].map({1: True, 2: False})\n",
    "    logVar = ['fysb_3639', 'testb_10392', 'ptb_13118', 'ptb_15553', 'ptb_15554', \"ptb_15555\",\n",
    "    \"ptb_15556\", \"ptb_15557\", \"ptb_15558\", \"ptb_15559\", \"ptb_15560\",\n",
    "    \"ptb_15561\", \"ptb_15562\", \"ptb_15563\", \"ptb_15564\", \"ptb_16316\", \"ptb_3758\", \"ptb_3760\",\n",
    "    \"ptb_3762\", \"ptb_3765\", \"ptb_32260\", \"ptb_10223\", \"ptb_10224\", \"ptb_10225\", \"ptb_3772\",\n",
    "    \"ptb_11836\", \"fysb_3642\", \"fysb_medicin\", \"fysb_op\" ]\n",
    "            #10225: 1 Living alone 2 Living with others (partner, family, friends or others) ==> are you alone: 1 = Yes = True\n",
    "            # gender: are you male?: 1=yes =True, 2=No=False\n",
    "    \n",
    "    for i in logVar:    \n",
    "        df[i] = df[i].astype('boolean')\n",
    "        \n",
    "\n",
    "    return df\n",
    "\n",
    "df = change_variables_to_binary_logical(df)\n"
   ]
  },
  {
   "attachments": {},
   "cell_type": "markdown",
   "metadata": {},
   "source": [
    "Gender:"
   ]
  },
  {
   "cell_type": "code",
   "execution_count": 69,
   "metadata": {},
   "outputs": [
    {
     "data": {
      "text/plain": [
       "gender\n",
       "0    12420\n",
       "1     5214\n",
       "Name: count, dtype: int64"
      ]
     },
     "execution_count": 69,
     "metadata": {},
     "output_type": "execute_result"
    }
   ],
   "source": [
    "df['gender'] = df['gender'].replace(2, 0)\n",
    "df.gender.value_counts()"
   ]
  },
  {
   "cell_type": "markdown",
   "metadata": {},
   "source": [
    "0: Female\n",
    "1: Male"
   ]
  },
  {
   "attachments": {},
   "cell_type": "markdown",
   "metadata": {},
   "source": [
    "##### Checking missing value in Outcome variables:"
   ]
  },
  {
   "cell_type": "code",
   "execution_count": 70,
   "metadata": {},
   "outputs": [
    {
     "name": "stdout",
     "output_type": "stream",
     "text": [
      "There are 0 missing values in the outcome variables.\n"
     ]
    }
   ],
   "source": [
    "outcome_variable = [\"vasChaSco\", \"koosChaSco\", \"funcChaSco\"]\n",
    "\n",
    "# Count the number of missing values in all three columns\n",
    "missing_values = df[outcome_variable].isnull().sum().sum()\n",
    "\n",
    "print(f\"There are {missing_values} missing values in the outcome variables.\")\n"
   ]
  },
  {
   "attachments": {},
   "cell_type": "markdown",
   "metadata": {},
   "source": [
    "#### list of ALL variables ()"
   ]
  },
  {
   "cell_type": "code",
   "execution_count": 71,
   "metadata": {},
   "outputs": [
    {
     "data": {
      "text/plain": [
       "(17634, 1174)"
      ]
     },
     "execution_count": 71,
     "metadata": {},
     "output_type": "execute_result"
    }
   ],
   "source": [
    "df.shape"
   ]
  },
  {
   "cell_type": "code",
   "execution_count": 72,
   "metadata": {},
   "outputs": [
    {
     "name": "stdout",
     "output_type": "stream",
     "text": [
      "group1: 38\n",
      "group2: 46\n",
      "group3: 49\n"
     ]
    }
   ],
   "source": [
    "# Group 1: All variables still collected after 2023 (excluding information on diseases) \n",
    "group1 = [\"ptb_11836\", \"fysb_3639\", \"ptb_3764\", \"fysb_symptomvarighed\", \"ptb_eq5d_score_5l\", \"testb_10391\", \"fysb_BMI\", \"age\", \n",
    "          \"ptb_eq5d_vas\", \"pain_area\", \"testb_10281\", \"ptb_koos_qol_score\", \"ptb_4145\", \"ptb_3765\", \"ptb_10226_b\", \"ptb_16316\", \n",
    "          \"ptb_koospain\", \"fysb_9349\", \"fysb_3642\", \"ptb_low_back\", \"ptb_3792_b\", \"gender\", \"fysb_op\", \"ptb_10225\", \"ptb_3758\", \n",
    "          \"ptb_3762\", \"ptb_13118\", \"fysb_medicin\", \"ptb_3777_b\", \"ptb_3772\", \"ptb_10223\", \"testb_10392\", \"ptb_10224\", \"ptb_3754_b\", \n",
    "          \"vasChaSco\", \"koosChaSco\", \"funcChaSco\", \"pt3_3764\"]\n",
    "print(\"group1:\", len(group1))\n",
    "\n",
    "# Group 2: All Green variables\n",
    "group2 = [\"ptb_11836\", \"fysb_3639\", \"ptb_3764\", \"fysb_symptomvarighed\", \"ptb_eq5d_score_5l\", \"testb_10391\", \"fysb_BMI\", \"age\", \"ptb_eq5d_vas\", \n",
    "          \"pain_area\", \"testb_10281\", \"ptb_koos_qol_score\", \"ptb_4145\", \"ptb_3765\", \"ptb_10226_b\", \"ptb_16316\", \"ptb_koospain\", \"fysb_9349\", \n",
    "          \"fysb_3642\", \"ptb_low_back\", \"ptb_3792_b\", \"gender\", \"fysb_op\", \"ptb_10225\", \"ptb_3758\", \"ptb_3762\", \"ptb_13118\", \"fysb_medicin\", \n",
    "          \"ptb_3777_b\", \"ptb_3772\", \"ptb_10223\", \"testb_10392\", \"ptb_10224\", \"ptb_3754_b\", \"fysb_24607\", \n",
    "          \"fysb_24643\", \"fysb_24644\", \"fysb_24608\", \"fysb_24645\", \"fysb_24646\", \"fysb_24649\", \"fysb_24650\", \"fysb_24651\",\n",
    "          \"vasChaSco\", \"koosChaSco\", \"funcChaSco\"]\n",
    "print(\"group2:\",len(group2))\n",
    "\n",
    "# Group 3: All Green variables with 3 koos\n",
    "group3 = [\"ptb_11836\", \"fysb_3639\", \"ptb_3764\", \"fysb_symptomvarighed\", \"ptb_eq5d_score_5l\", \"testb_10391\", \"fysb_BMI\", \"age\", \"ptb_eq5d_vas\", \n",
    "          \"pain_area\", \"testb_10281\", \"ptb_koos_qol_score\", \"ptb_4145\", \"ptb_3765\", \"ptb_10226_b\", \"ptb_16316\", \"ptb_koospain\", \"fysb_9349\", \n",
    "          \"fysb_3642\", \"ptb_low_back\", \"ptb_3792_b\", \"gender\", \"fysb_op\", \"ptb_10225\", \"ptb_3758\", \"ptb_3762\", \"ptb_13118\", \"fysb_medicin\", \n",
    "          \"ptb_3777_b\", \"ptb_3772\", \"ptb_10223\", \"testb_10392\", \"ptb_10224\", \"ptb_3754_b\",\"fysb_24607\", \n",
    "          \"fysb_24643\", \"fysb_24644\", \"fysb_24608\", \"fysb_24645\", \"fysb_24646\", \"fysb_24649\", \"fysb_24650\", \"fysb_24651\",\n",
    "          \"ptb_koos_pain_score\", \"ptb_koos_func_score\", \"ptb_koos12_score\",\n",
    "          \"vasChaSco\", \"koosChaSco\", \"funcChaSco\" ]\n",
    "print(\"group3:\", len(group3))"
   ]
  },
  {
   "attachments": {},
   "cell_type": "markdown",
   "metadata": {},
   "source": [
    "##### Checking mising value:"
   ]
  },
  {
   "cell_type": "code",
   "execution_count": 73,
   "metadata": {},
   "outputs": [
    {
     "name": "stdout",
     "output_type": "stream",
     "text": [
      "shape group1: (17634, 38)\n",
      "shape group2: (17634, 46)\n",
      "shape group3: (17634, 49)\n"
     ]
    }
   ],
   "source": [
    "df_group1 = df[group1]\n",
    "print(\"shape group1:\", df_group1.shape)\n",
    "df_group2 = df[group2]\n",
    "print(\"shape group2:\", df_group2.shape)\n",
    "df_group3 = df[group3]\n",
    "print(\"shape group3:\", df_group3.shape)"
   ]
  },
  {
   "cell_type": "markdown",
   "metadata": {},
   "source": [
    "##### Cheking percentage of missing value for each column in each Group:"
   ]
  },
  {
   "cell_type": "code",
   "execution_count": null,
   "metadata": {},
   "outputs": [
    {
     "name": "stdout",
     "output_type": "stream",
     "text": [
      "Missing Value Percentages in df_group1:\n",
      "ptb_11836                3.810820\n",
      "fysb_3639               19.564478\n",
      "ptb_3764                 0.000000\n",
      "fysb_symptomvarighed     0.277872\n",
      "ptb_eq5d_score_5l        0.039696\n",
      "testb_10391              0.000000\n",
      "fysb_BMI                 0.465011\n",
      "age                      0.000000\n",
      "ptb_eq5d_vas             0.017013\n",
      "pain_area                0.000000\n",
      "testb_10281              0.017013\n",
      "ptb_koos_qol_score       0.000000\n",
      "ptb_4145                 0.028354\n",
      "ptb_3765                 0.056709\n",
      "ptb_10226_b              0.000000\n",
      "ptb_16316                0.017013\n",
      "ptb_koospain             0.000000\n",
      "fysb_9349                0.000000\n",
      "fysb_3642                0.000000\n",
      "ptb_low_back             0.000000\n",
      "ptb_3792_b               0.000000\n",
      "gender                   0.000000\n",
      "fysb_op                  0.000000\n",
      "ptb_10225                0.011342\n",
      "ptb_3758                 0.022683\n",
      "ptb_3762                 0.011342\n",
      "ptb_13118                0.022683\n",
      "fysb_medicin             0.000000\n",
      "ptb_3777_b               0.000000\n",
      "ptb_3772                 0.073721\n",
      "ptb_10223                0.011342\n",
      "testb_10392              0.000000\n",
      "ptb_10224                0.011342\n",
      "ptb_3754_b               0.000000\n",
      "vasChaSco                0.000000\n",
      "koosChaSco               0.000000\n",
      "funcChaSco               0.000000\n",
      "pt3_3764                 0.000000\n",
      "dtype: float64\n",
      "\n",
      "\n",
      "Missing Value Percentages in df_group2:\n",
      "ptb_11836                3.810820\n",
      "fysb_3639               19.564478\n",
      "ptb_3764                 0.000000\n",
      "fysb_symptomvarighed     0.277872\n",
      "ptb_eq5d_score_5l        0.039696\n",
      "testb_10391              0.000000\n",
      "fysb_BMI                 0.465011\n",
      "age                      0.000000\n",
      "ptb_eq5d_vas             0.017013\n",
      "pain_area                0.000000\n",
      "testb_10281              0.017013\n",
      "ptb_koos_qol_score       0.000000\n",
      "ptb_4145                 0.028354\n",
      "ptb_3765                 0.056709\n",
      "ptb_10226_b              0.000000\n",
      "ptb_16316                0.017013\n",
      "ptb_koospain             0.000000\n",
      "fysb_9349                0.000000\n",
      "fysb_3642                0.000000\n",
      "ptb_low_back             0.000000\n",
      "ptb_3792_b               0.000000\n",
      "gender                   0.000000\n",
      "fysb_op                  0.000000\n",
      "ptb_10225                0.011342\n",
      "ptb_3758                 0.022683\n",
      "ptb_3762                 0.011342\n",
      "ptb_13118                0.022683\n",
      "fysb_medicin             0.000000\n",
      "ptb_3777_b               0.000000\n",
      "ptb_3772                 0.073721\n",
      "ptb_10223                0.011342\n",
      "testb_10392              0.000000\n",
      "ptb_10224                0.011342\n",
      "ptb_3754_b               0.000000\n",
      "fysb_24607              30.917546\n",
      "fysb_24643              30.917546\n",
      "fysb_24644              30.917546\n",
      "fysb_24608              30.917546\n",
      "fysb_24645              30.917546\n",
      "fysb_24646              30.923217\n",
      "fysb_24649              30.923217\n",
      "fysb_24650              30.917546\n",
      "fysb_24651              30.928887\n",
      "vasChaSco                0.000000\n",
      "koosChaSco               0.000000\n",
      "funcChaSco               0.000000\n",
      "dtype: float64\n",
      "\n",
      "\n",
      "Missing Value Percentages in df_group3:\n",
      "ptb_11836                3.810820\n",
      "fysb_3639               19.564478\n",
      "ptb_3764                 0.000000\n",
      "fysb_symptomvarighed     0.277872\n",
      "ptb_eq5d_score_5l        0.039696\n",
      "testb_10391              0.000000\n",
      "fysb_BMI                 0.465011\n",
      "age                      0.000000\n",
      "ptb_eq5d_vas             0.017013\n",
      "pain_area                0.000000\n",
      "testb_10281              0.017013\n",
      "ptb_koos_qol_score       0.000000\n",
      "ptb_4145                 0.028354\n",
      "ptb_3765                 0.056709\n",
      "ptb_10226_b              0.000000\n",
      "ptb_16316                0.017013\n",
      "ptb_koospain             0.000000\n",
      "fysb_9349                0.000000\n",
      "fysb_3642                0.000000\n",
      "ptb_low_back             0.000000\n",
      "ptb_3792_b               0.000000\n",
      "gender                   0.000000\n",
      "fysb_op                  0.000000\n",
      "ptb_10225                0.011342\n",
      "ptb_3758                 0.022683\n",
      "ptb_3762                 0.011342\n",
      "ptb_13118                0.022683\n",
      "fysb_medicin             0.000000\n",
      "ptb_3777_b               0.000000\n",
      "ptb_3772                 0.073721\n",
      "ptb_10223                0.011342\n",
      "testb_10392              0.000000\n",
      "ptb_10224                0.011342\n",
      "ptb_3754_b               0.000000\n",
      "fysb_24607              30.917546\n",
      "fysb_24643              30.917546\n",
      "fysb_24644              30.917546\n",
      "fysb_24608              30.917546\n",
      "fysb_24645              30.917546\n",
      "fysb_24646              30.923217\n",
      "fysb_24649              30.923217\n",
      "fysb_24650              30.917546\n",
      "fysb_24651              30.928887\n",
      "ptb_koos_pain_score     51.933764\n",
      "ptb_koos_func_score     51.945106\n",
      "ptb_koos12_score        51.950777\n",
      "vasChaSco                0.000000\n",
      "koosChaSco               0.000000\n",
      "funcChaSco               0.000000\n",
      "dtype: float64\n",
      "\n",
      "\n"
     ]
    }
   ],
   "source": [
    "dataframes = [df_group1, df_group2, df_group3]\n",
    "dataframe_names = ['df_group1', 'df_group2', 'df_group3']\n",
    "\n",
    "for df, name in zip(dataframes, dataframe_names):\n",
    "    total_rows = len(df)\n",
    "    missing_percentage = (df.isnull().sum() / total_rows) * 100\n",
    "    print(f\"Missing Value Percentages in {name}:\")\n",
    "    print(missing_percentage)\n",
    "    print(\"\\n\")\n"
   ]
  },
  {
   "cell_type": "code",
   "execution_count": 75,
   "metadata": {},
   "outputs": [
    {
     "data": {
      "text/plain": [
       "4313"
      ]
     },
     "execution_count": 75,
     "metadata": {},
     "output_type": "execute_result"
    }
   ],
   "source": [
    "df_group1.isna().sum().sum()"
   ]
  },
  {
   "cell_type": "markdown",
   "metadata": {},
   "source": [
    "##### Clear missing value in 3 Groups:"
   ]
  },
  {
   "cell_type": "code",
   "execution_count": null,
   "metadata": {},
   "outputs": [
    {
     "name": "stdout",
     "output_type": "stream",
     "text": [
      "Shape of df_cleaned_g1: (14037, 38)\n",
      "Shape of df_cleaned_g2: (8747, 46)\n",
      "Shape of df_cleaned_g3: (4941, 49)\n"
     ]
    }
   ],
   "source": [
    "df_cleaned_g1 = df_group1.dropna()\n",
    "df_cleaned_g2 = df_group2.dropna()\n",
    "df_cleaned_g3 = df_group3.dropna()\n",
    "\n",
    "print(\"Shape of df_cleaned_g1:\", df_cleaned_g1.shape)\n",
    "print(\"Shape of df_cleaned_g2:\", df_cleaned_g2.shape)\n",
    "print(\"Shape of df_cleaned_g3:\", df_cleaned_g3.shape)\n"
   ]
  },
  {
   "cell_type": "code",
   "execution_count": 77,
   "metadata": {},
   "outputs": [
    {
     "data": {
      "text/plain": [
       "['1.0', '3.0', 'nan', '2.0']\n",
       "Categories (4, object): ['1.0', '2.0', '3.0', 'nan']"
      ]
     },
     "execution_count": 77,
     "metadata": {},
     "output_type": "execute_result"
    }
   ],
   "source": [
    "df_cleaned_g1.fysb_9349.unique()"
   ]
  },
  {
   "cell_type": "markdown",
   "metadata": {},
   "source": [
    "##### Remove missing value for fysb_9349"
   ]
  },
  {
   "cell_type": "code",
   "execution_count": 78,
   "metadata": {},
   "outputs": [],
   "source": [
    "df_cleaned_g1.to_csv(\"test1.csv\", sep=',')\n",
    "df_cleaned_g2.to_csv(\"test2.csv\", sep=',')\n",
    "df_cleaned_g3.to_csv(\"test3.csv\", sep=',')"
   ]
  },
  {
   "cell_type": "code",
   "execution_count": 79,
   "metadata": {},
   "outputs": [
    {
     "name": "stdout",
     "output_type": "stream",
     "text": [
      "df1 shape (14037, 38)\n",
      "df2 shape (8747, 46)\n",
      "df3 shape (4941, 49)\n"
     ]
    }
   ],
   "source": [
    "df1 = pd.read_csv(\"test1.csv\", sep=',').drop('Unnamed: 0', axis=1)\n",
    "print(\"df1 shape\" ,df1.shape)\n",
    "df2 = pd.read_csv(\"test2.csv\", sep=',').drop('Unnamed: 0', axis=1)\n",
    "print(\"df2 shape\" ,df2.shape)\n",
    "df3 = pd.read_csv(\"test3.csv\", sep=',').drop('Unnamed: 0', axis=1)\n",
    "print(\"df3 shape\" ,df3.shape)"
   ]
  },
  {
   "cell_type": "code",
   "execution_count": 80,
   "metadata": {},
   "outputs": [
    {
     "name": "stdout",
     "output_type": "stream",
     "text": [
      "[ 1.  3. nan  2.]\n",
      "[ 1.  3. nan  2.]\n",
      "[ 1.  2. nan  3.]\n"
     ]
    }
   ],
   "source": [
    "print(df1.fysb_9349.unique())\n",
    "print(df2.fysb_9349.unique())\n",
    "print(df3.fysb_9349.unique())"
   ]
  },
  {
   "cell_type": "code",
   "execution_count": 81,
   "metadata": {},
   "outputs": [
    {
     "name": "stdout",
     "output_type": "stream",
     "text": [
      "[ 1.  3. nan  2.]\n",
      "[ 1.  3. nan  2.]\n",
      "[ 1.  2. nan  3.]\n"
     ]
    }
   ],
   "source": [
    "print(df1.fysb_9349.unique())\n",
    "print(df2.fysb_9349.unique())\n",
    "print(df3.fysb_9349.unique())"
   ]
  },
  {
   "cell_type": "code",
   "execution_count": 82,
   "metadata": {},
   "outputs": [
    {
     "name": "stdout",
     "output_type": "stream",
     "text": [
      "106\n",
      "53\n",
      "33\n"
     ]
    }
   ],
   "source": [
    "print(df1.isna().sum().sum())\n",
    "print(df2.isna().sum().sum())\n",
    "print(df3.isna().sum().sum())"
   ]
  },
  {
   "cell_type": "code",
   "execution_count": 83,
   "metadata": {},
   "outputs": [
    {
     "name": "stdout",
     "output_type": "stream",
     "text": [
      "[1. 3. 2.]\n",
      "[1. 3. 2.]\n",
      "[1. 2. 3.]\n"
     ]
    }
   ],
   "source": [
    "df1 = df1.dropna()\n",
    "print(df1.fysb_9349.unique())\n",
    "df2 = df2.dropna()\n",
    "print(df2.fysb_9349.unique())\n",
    "df3 = df3.dropna()\n",
    "print(df3.fysb_9349.unique())"
   ]
  },
  {
   "cell_type": "code",
   "execution_count": 84,
   "metadata": {},
   "outputs": [
    {
     "name": "stdout",
     "output_type": "stream",
     "text": [
      "[1. 3. 2.]\n",
      "[1. 3. 2.]\n",
      "[1. 2. 3.]\n"
     ]
    }
   ],
   "source": [
    "print(df1.fysb_9349.unique()) \n",
    "print(df2.fysb_9349.unique()) \n",
    "print(df3.fysb_9349.unique()) "
   ]
  },
  {
   "cell_type": "code",
   "execution_count": 85,
   "metadata": {},
   "outputs": [
    {
     "data": {
      "text/plain": [
       "0"
      ]
     },
     "execution_count": 85,
     "metadata": {},
     "output_type": "execute_result"
    }
   ],
   "source": [
    "df1.isna().sum().sum()\n",
    "df2.isna().sum().sum()\n",
    "df3.isna().sum().sum()\n"
   ]
  },
  {
   "cell_type": "code",
   "execution_count": 86,
   "metadata": {},
   "outputs": [
    {
     "name": "stdout",
     "output_type": "stream",
     "text": [
      "0\n",
      "[1. 3. 2.]\n"
     ]
    }
   ],
   "source": [
    "print(df1.fysb_9349.isna().sum() )\n",
    "temp1=df1.dropna()\n",
    "# print(temp1.fysb_9349.unique())\n",
    "# ind = df1[df1['fysb_9349'] == 'nan'].index\n",
    "# print(ind)\n",
    "# temp1=df1.drop(ind)\n",
    "print(temp1.fysb_9349.unique())"
   ]
  },
  {
   "cell_type": "code",
   "execution_count": 87,
   "metadata": {},
   "outputs": [],
   "source": [
    "df1.to_csv(\"group1.csv\", sep=',', index=False)\n",
    "df2.to_csv(\"group2.csv\", sep=',', index=False)\n",
    "df3.to_csv(\"group3.csv\", sep=',', index=False)"
   ]
  },
  {
   "cell_type": "code",
   "execution_count": 88,
   "metadata": {},
   "outputs": [
    {
     "data": {
      "text/html": [
       "<div>\n",
       "<style scoped>\n",
       "    .dataframe tbody tr th:only-of-type {\n",
       "        vertical-align: middle;\n",
       "    }\n",
       "\n",
       "    .dataframe tbody tr th {\n",
       "        vertical-align: top;\n",
       "    }\n",
       "\n",
       "    .dataframe thead th {\n",
       "        text-align: right;\n",
       "    }\n",
       "</style>\n",
       "<table border=\"1\" class=\"dataframe\">\n",
       "  <thead>\n",
       "    <tr style=\"text-align: right;\">\n",
       "      <th></th>\n",
       "      <th>ptb_11836</th>\n",
       "      <th>fysb_3639</th>\n",
       "      <th>ptb_3764</th>\n",
       "      <th>fysb_symptomvarighed</th>\n",
       "      <th>ptb_eq5d_score_5l</th>\n",
       "      <th>testb_10391</th>\n",
       "      <th>fysb_BMI</th>\n",
       "      <th>age</th>\n",
       "      <th>ptb_eq5d_vas</th>\n",
       "      <th>pain_area</th>\n",
       "      <th>...</th>\n",
       "      <th>ptb_3777_b</th>\n",
       "      <th>ptb_3772</th>\n",
       "      <th>ptb_10223</th>\n",
       "      <th>testb_10392</th>\n",
       "      <th>ptb_10224</th>\n",
       "      <th>ptb_3754_b</th>\n",
       "      <th>vasChaSco</th>\n",
       "      <th>koosChaSco</th>\n",
       "      <th>funcChaSco</th>\n",
       "      <th>pt3_3764</th>\n",
       "    </tr>\n",
       "  </thead>\n",
       "  <tbody>\n",
       "    <tr>\n",
       "      <th>0</th>\n",
       "      <td>False</td>\n",
       "      <td>False</td>\n",
       "      <td>38.0</td>\n",
       "      <td>48.0</td>\n",
       "      <td>0.911</td>\n",
       "      <td>25.59</td>\n",
       "      <td>25.08</td>\n",
       "      <td>66</td>\n",
       "      <td>90.0</td>\n",
       "      <td>2.0</td>\n",
       "      <td>...</td>\n",
       "      <td>False</td>\n",
       "      <td>False</td>\n",
       "      <td>True</td>\n",
       "      <td>False</td>\n",
       "      <td>True</td>\n",
       "      <td>False</td>\n",
       "      <td>2.0</td>\n",
       "      <td>18.75</td>\n",
       "      <td>-0.028612</td>\n",
       "      <td>36.0</td>\n",
       "    </tr>\n",
       "    <tr>\n",
       "      <th>1</th>\n",
       "      <td>False</td>\n",
       "      <td>False</td>\n",
       "      <td>63.0</td>\n",
       "      <td>3.0</td>\n",
       "      <td>0.360</td>\n",
       "      <td>26.00</td>\n",
       "      <td>31.44</td>\n",
       "      <td>55</td>\n",
       "      <td>57.0</td>\n",
       "      <td>10.0</td>\n",
       "      <td>...</td>\n",
       "      <td>False</td>\n",
       "      <td>False</td>\n",
       "      <td>True</td>\n",
       "      <td>False</td>\n",
       "      <td>True</td>\n",
       "      <td>False</td>\n",
       "      <td>2.0</td>\n",
       "      <td>-12.50</td>\n",
       "      <td>-0.215924</td>\n",
       "      <td>61.0</td>\n",
       "    </tr>\n",
       "    <tr>\n",
       "      <th>2</th>\n",
       "      <td>True</td>\n",
       "      <td>False</td>\n",
       "      <td>30.0</td>\n",
       "      <td>300.0</td>\n",
       "      <td>0.819</td>\n",
       "      <td>27.77</td>\n",
       "      <td>25.46</td>\n",
       "      <td>68</td>\n",
       "      <td>70.0</td>\n",
       "      <td>5.0</td>\n",
       "      <td>...</td>\n",
       "      <td>False</td>\n",
       "      <td>False</td>\n",
       "      <td>True</td>\n",
       "      <td>False</td>\n",
       "      <td>True</td>\n",
       "      <td>False</td>\n",
       "      <td>12.0</td>\n",
       "      <td>-12.50</td>\n",
       "      <td>-0.159597</td>\n",
       "      <td>18.0</td>\n",
       "    </tr>\n",
       "    <tr>\n",
       "      <th>3</th>\n",
       "      <td>False</td>\n",
       "      <td>False</td>\n",
       "      <td>59.0</td>\n",
       "      <td>120.0</td>\n",
       "      <td>0.097</td>\n",
       "      <td>22.89</td>\n",
       "      <td>34.09</td>\n",
       "      <td>53</td>\n",
       "      <td>50.0</td>\n",
       "      <td>2.0</td>\n",
       "      <td>...</td>\n",
       "      <td>False</td>\n",
       "      <td>False</td>\n",
       "      <td>True</td>\n",
       "      <td>False</td>\n",
       "      <td>True</td>\n",
       "      <td>False</td>\n",
       "      <td>45.0</td>\n",
       "      <td>-12.50</td>\n",
       "      <td>0.003048</td>\n",
       "      <td>14.0</td>\n",
       "    </tr>\n",
       "    <tr>\n",
       "      <th>4</th>\n",
       "      <td>False</td>\n",
       "      <td>False</td>\n",
       "      <td>30.0</td>\n",
       "      <td>6.0</td>\n",
       "      <td>0.911</td>\n",
       "      <td>27.80</td>\n",
       "      <td>26.09</td>\n",
       "      <td>65</td>\n",
       "      <td>84.0</td>\n",
       "      <td>6.0</td>\n",
       "      <td>...</td>\n",
       "      <td>False</td>\n",
       "      <td>False</td>\n",
       "      <td>True</td>\n",
       "      <td>False</td>\n",
       "      <td>True</td>\n",
       "      <td>False</td>\n",
       "      <td>10.0</td>\n",
       "      <td>6.25</td>\n",
       "      <td>-0.189816</td>\n",
       "      <td>20.0</td>\n",
       "    </tr>\n",
       "    <tr>\n",
       "      <th>...</th>\n",
       "      <td>...</td>\n",
       "      <td>...</td>\n",
       "      <td>...</td>\n",
       "      <td>...</td>\n",
       "      <td>...</td>\n",
       "      <td>...</td>\n",
       "      <td>...</td>\n",
       "      <td>...</td>\n",
       "      <td>...</td>\n",
       "      <td>...</td>\n",
       "      <td>...</td>\n",
       "      <td>...</td>\n",
       "      <td>...</td>\n",
       "      <td>...</td>\n",
       "      <td>...</td>\n",
       "      <td>...</td>\n",
       "      <td>...</td>\n",
       "      <td>...</td>\n",
       "      <td>...</td>\n",
       "      <td>...</td>\n",
       "      <td>...</td>\n",
       "    </tr>\n",
       "    <tr>\n",
       "      <th>13926</th>\n",
       "      <td>False</td>\n",
       "      <td>False</td>\n",
       "      <td>57.0</td>\n",
       "      <td>220.0</td>\n",
       "      <td>0.332</td>\n",
       "      <td>21.99</td>\n",
       "      <td>30.07</td>\n",
       "      <td>66</td>\n",
       "      <td>59.0</td>\n",
       "      <td>0.0</td>\n",
       "      <td>...</td>\n",
       "      <td>False</td>\n",
       "      <td>False</td>\n",
       "      <td>True</td>\n",
       "      <td>False</td>\n",
       "      <td>True</td>\n",
       "      <td>False</td>\n",
       "      <td>24.0</td>\n",
       "      <td>-18.75</td>\n",
       "      <td>-0.162170</td>\n",
       "      <td>33.0</td>\n",
       "    </tr>\n",
       "    <tr>\n",
       "      <th>13927</th>\n",
       "      <td>False</td>\n",
       "      <td>False</td>\n",
       "      <td>60.0</td>\n",
       "      <td>24.0</td>\n",
       "      <td>0.825</td>\n",
       "      <td>27.00</td>\n",
       "      <td>24.49</td>\n",
       "      <td>73</td>\n",
       "      <td>69.0</td>\n",
       "      <td>8.0</td>\n",
       "      <td>...</td>\n",
       "      <td>False</td>\n",
       "      <td>False</td>\n",
       "      <td>True</td>\n",
       "      <td>False</td>\n",
       "      <td>True</td>\n",
       "      <td>False</td>\n",
       "      <td>36.0</td>\n",
       "      <td>0.00</td>\n",
       "      <td>0.080431</td>\n",
       "      <td>24.0</td>\n",
       "    </tr>\n",
       "    <tr>\n",
       "      <th>13928</th>\n",
       "      <td>False</td>\n",
       "      <td>False</td>\n",
       "      <td>34.0</td>\n",
       "      <td>12.0</td>\n",
       "      <td>0.767</td>\n",
       "      <td>19.80</td>\n",
       "      <td>26.15</td>\n",
       "      <td>67</td>\n",
       "      <td>81.0</td>\n",
       "      <td>4.0</td>\n",
       "      <td>...</td>\n",
       "      <td>False</td>\n",
       "      <td>False</td>\n",
       "      <td>True</td>\n",
       "      <td>False</td>\n",
       "      <td>True</td>\n",
       "      <td>False</td>\n",
       "      <td>34.0</td>\n",
       "      <td>-31.25</td>\n",
       "      <td>-0.171579</td>\n",
       "      <td>0.0</td>\n",
       "    </tr>\n",
       "    <tr>\n",
       "      <th>13929</th>\n",
       "      <td>False</td>\n",
       "      <td>False</td>\n",
       "      <td>79.0</td>\n",
       "      <td>8.0</td>\n",
       "      <td>0.288</td>\n",
       "      <td>30.77</td>\n",
       "      <td>25.13</td>\n",
       "      <td>68</td>\n",
       "      <td>91.0</td>\n",
       "      <td>3.0</td>\n",
       "      <td>...</td>\n",
       "      <td>False</td>\n",
       "      <td>False</td>\n",
       "      <td>True</td>\n",
       "      <td>False</td>\n",
       "      <td>True</td>\n",
       "      <td>False</td>\n",
       "      <td>26.0</td>\n",
       "      <td>-6.25</td>\n",
       "      <td>0.040522</td>\n",
       "      <td>53.0</td>\n",
       "    </tr>\n",
       "    <tr>\n",
       "      <th>13930</th>\n",
       "      <td>False</td>\n",
       "      <td>False</td>\n",
       "      <td>40.0</td>\n",
       "      <td>12.0</td>\n",
       "      <td>0.873</td>\n",
       "      <td>24.84</td>\n",
       "      <td>26.51</td>\n",
       "      <td>60</td>\n",
       "      <td>70.0</td>\n",
       "      <td>0.0</td>\n",
       "      <td>...</td>\n",
       "      <td>True</td>\n",
       "      <td>False</td>\n",
       "      <td>True</td>\n",
       "      <td>False</td>\n",
       "      <td>True</td>\n",
       "      <td>False</td>\n",
       "      <td>5.0</td>\n",
       "      <td>0.00</td>\n",
       "      <td>0.154702</td>\n",
       "      <td>35.0</td>\n",
       "    </tr>\n",
       "  </tbody>\n",
       "</table>\n",
       "<p>13931 rows × 38 columns</p>\n",
       "</div>"
      ],
      "text/plain": [
       "       ptb_11836  fysb_3639  ptb_3764  fysb_symptomvarighed  \\\n",
       "0          False      False      38.0                  48.0   \n",
       "1          False      False      63.0                   3.0   \n",
       "2           True      False      30.0                 300.0   \n",
       "3          False      False      59.0                 120.0   \n",
       "4          False      False      30.0                   6.0   \n",
       "...          ...        ...       ...                   ...   \n",
       "13926      False      False      57.0                 220.0   \n",
       "13927      False      False      60.0                  24.0   \n",
       "13928      False      False      34.0                  12.0   \n",
       "13929      False      False      79.0                   8.0   \n",
       "13930      False      False      40.0                  12.0   \n",
       "\n",
       "       ptb_eq5d_score_5l  testb_10391  fysb_BMI  age  ptb_eq5d_vas  pain_area  \\\n",
       "0                  0.911        25.59     25.08   66          90.0        2.0   \n",
       "1                  0.360        26.00     31.44   55          57.0       10.0   \n",
       "2                  0.819        27.77     25.46   68          70.0        5.0   \n",
       "3                  0.097        22.89     34.09   53          50.0        2.0   \n",
       "4                  0.911        27.80     26.09   65          84.0        6.0   \n",
       "...                  ...          ...       ...  ...           ...        ...   \n",
       "13926              0.332        21.99     30.07   66          59.0        0.0   \n",
       "13927              0.825        27.00     24.49   73          69.0        8.0   \n",
       "13928              0.767        19.80     26.15   67          81.0        4.0   \n",
       "13929              0.288        30.77     25.13   68          91.0        3.0   \n",
       "13930              0.873        24.84     26.51   60          70.0        0.0   \n",
       "\n",
       "       ...  ptb_3777_b  ptb_3772  ptb_10223  testb_10392  ptb_10224  \\\n",
       "0      ...       False     False       True        False       True   \n",
       "1      ...       False     False       True        False       True   \n",
       "2      ...       False     False       True        False       True   \n",
       "3      ...       False     False       True        False       True   \n",
       "4      ...       False     False       True        False       True   \n",
       "...    ...         ...       ...        ...          ...        ...   \n",
       "13926  ...       False     False       True        False       True   \n",
       "13927  ...       False     False       True        False       True   \n",
       "13928  ...       False     False       True        False       True   \n",
       "13929  ...       False     False       True        False       True   \n",
       "13930  ...        True     False       True        False       True   \n",
       "\n",
       "       ptb_3754_b  vasChaSco  koosChaSco  funcChaSco  pt3_3764  \n",
       "0           False        2.0       18.75   -0.028612      36.0  \n",
       "1           False        2.0      -12.50   -0.215924      61.0  \n",
       "2           False       12.0      -12.50   -0.159597      18.0  \n",
       "3           False       45.0      -12.50    0.003048      14.0  \n",
       "4           False       10.0        6.25   -0.189816      20.0  \n",
       "...           ...        ...         ...         ...       ...  \n",
       "13926       False       24.0      -18.75   -0.162170      33.0  \n",
       "13927       False       36.0        0.00    0.080431      24.0  \n",
       "13928       False       34.0      -31.25   -0.171579       0.0  \n",
       "13929       False       26.0       -6.25    0.040522      53.0  \n",
       "13930       False        5.0        0.00    0.154702      35.0  \n",
       "\n",
       "[13931 rows x 38 columns]"
      ]
     },
     "execution_count": 88,
     "metadata": {},
     "output_type": "execute_result"
    }
   ],
   "source": [
    "df1 = pd.read_csv(\"group1.csv\", sep=',')\n",
    "df1"
   ]
  },
  {
   "cell_type": "code",
   "execution_count": 89,
   "metadata": {},
   "outputs": [],
   "source": [
    "df_included = df1"
   ]
  },
  {
   "cell_type": "code",
   "execution_count": 90,
   "metadata": {},
   "outputs": [
    {
     "data": {
      "text/html": [
       "<div>\n",
       "<style scoped>\n",
       "    .dataframe tbody tr th:only-of-type {\n",
       "        vertical-align: middle;\n",
       "    }\n",
       "\n",
       "    .dataframe tbody tr th {\n",
       "        vertical-align: top;\n",
       "    }\n",
       "\n",
       "    .dataframe thead th {\n",
       "        text-align: right;\n",
       "    }\n",
       "</style>\n",
       "<table border=\"1\" class=\"dataframe\">\n",
       "  <thead>\n",
       "    <tr style=\"text-align: right;\">\n",
       "      <th></th>\n",
       "      <th>ptb_11836</th>\n",
       "      <th>fysb_3639</th>\n",
       "      <th>ptb_3764</th>\n",
       "      <th>fysb_symptomvarighed</th>\n",
       "      <th>ptb_eq5d_score_5l</th>\n",
       "      <th>testb_10391</th>\n",
       "      <th>fysb_BMI</th>\n",
       "      <th>age</th>\n",
       "      <th>ptb_eq5d_vas</th>\n",
       "      <th>pain_area</th>\n",
       "      <th>...</th>\n",
       "      <th>fysb_24644</th>\n",
       "      <th>fysb_24608</th>\n",
       "      <th>fysb_24645</th>\n",
       "      <th>fysb_24646</th>\n",
       "      <th>fysb_24649</th>\n",
       "      <th>fysb_24650</th>\n",
       "      <th>fysb_24651</th>\n",
       "      <th>vasChaSco</th>\n",
       "      <th>koosChaSco</th>\n",
       "      <th>funcChaSco</th>\n",
       "    </tr>\n",
       "  </thead>\n",
       "  <tbody>\n",
       "    <tr>\n",
       "      <th>0</th>\n",
       "      <td>False</td>\n",
       "      <td>False</td>\n",
       "      <td>53.0</td>\n",
       "      <td>120.0</td>\n",
       "      <td>0.819</td>\n",
       "      <td>24.22</td>\n",
       "      <td>43.70</td>\n",
       "      <td>67</td>\n",
       "      <td>80.0</td>\n",
       "      <td>4.0</td>\n",
       "      <td>...</td>\n",
       "      <td>1.0</td>\n",
       "      <td>1.0</td>\n",
       "      <td>2.0</td>\n",
       "      <td>2.0</td>\n",
       "      <td>2.0</td>\n",
       "      <td>2.0</td>\n",
       "      <td>1.0</td>\n",
       "      <td>-4.0</td>\n",
       "      <td>25.00</td>\n",
       "      <td>-0.064474</td>\n",
       "    </tr>\n",
       "    <tr>\n",
       "      <th>1</th>\n",
       "      <td>False</td>\n",
       "      <td>False</td>\n",
       "      <td>32.0</td>\n",
       "      <td>12.0</td>\n",
       "      <td>0.952</td>\n",
       "      <td>23.05</td>\n",
       "      <td>32.27</td>\n",
       "      <td>67</td>\n",
       "      <td>69.0</td>\n",
       "      <td>4.0</td>\n",
       "      <td>...</td>\n",
       "      <td>1.0</td>\n",
       "      <td>2.0</td>\n",
       "      <td>2.0</td>\n",
       "      <td>2.0</td>\n",
       "      <td>2.0</td>\n",
       "      <td>2.0</td>\n",
       "      <td>1.0</td>\n",
       "      <td>0.0</td>\n",
       "      <td>0.00</td>\n",
       "      <td>0.000000</td>\n",
       "    </tr>\n",
       "    <tr>\n",
       "      <th>2</th>\n",
       "      <td>False</td>\n",
       "      <td>False</td>\n",
       "      <td>49.0</td>\n",
       "      <td>6.0</td>\n",
       "      <td>0.839</td>\n",
       "      <td>29.12</td>\n",
       "      <td>24.44</td>\n",
       "      <td>73</td>\n",
       "      <td>90.0</td>\n",
       "      <td>2.0</td>\n",
       "      <td>...</td>\n",
       "      <td>1.0</td>\n",
       "      <td>1.0</td>\n",
       "      <td>1.0</td>\n",
       "      <td>1.0</td>\n",
       "      <td>2.0</td>\n",
       "      <td>1.0</td>\n",
       "      <td>1.0</td>\n",
       "      <td>18.0</td>\n",
       "      <td>0.00</td>\n",
       "      <td>-0.079334</td>\n",
       "    </tr>\n",
       "    <tr>\n",
       "      <th>3</th>\n",
       "      <td>True</td>\n",
       "      <td>False</td>\n",
       "      <td>67.0</td>\n",
       "      <td>60.0</td>\n",
       "      <td>0.251</td>\n",
       "      <td>34.20</td>\n",
       "      <td>25.71</td>\n",
       "      <td>77</td>\n",
       "      <td>21.0</td>\n",
       "      <td>2.0</td>\n",
       "      <td>...</td>\n",
       "      <td>1.0</td>\n",
       "      <td>1.0</td>\n",
       "      <td>1.0</td>\n",
       "      <td>2.0</td>\n",
       "      <td>2.0</td>\n",
       "      <td>2.0</td>\n",
       "      <td>1.0</td>\n",
       "      <td>32.0</td>\n",
       "      <td>6.25</td>\n",
       "      <td>-0.037774</td>\n",
       "    </tr>\n",
       "    <tr>\n",
       "      <th>4</th>\n",
       "      <td>False</td>\n",
       "      <td>False</td>\n",
       "      <td>60.0</td>\n",
       "      <td>120.0</td>\n",
       "      <td>0.819</td>\n",
       "      <td>25.84</td>\n",
       "      <td>21.45</td>\n",
       "      <td>59</td>\n",
       "      <td>90.0</td>\n",
       "      <td>4.0</td>\n",
       "      <td>...</td>\n",
       "      <td>1.0</td>\n",
       "      <td>1.0</td>\n",
       "      <td>2.0</td>\n",
       "      <td>2.0</td>\n",
       "      <td>1.0</td>\n",
       "      <td>2.0</td>\n",
       "      <td>1.0</td>\n",
       "      <td>29.0</td>\n",
       "      <td>-18.75</td>\n",
       "      <td>-0.161414</td>\n",
       "    </tr>\n",
       "    <tr>\n",
       "      <th>...</th>\n",
       "      <td>...</td>\n",
       "      <td>...</td>\n",
       "      <td>...</td>\n",
       "      <td>...</td>\n",
       "      <td>...</td>\n",
       "      <td>...</td>\n",
       "      <td>...</td>\n",
       "      <td>...</td>\n",
       "      <td>...</td>\n",
       "      <td>...</td>\n",
       "      <td>...</td>\n",
       "      <td>...</td>\n",
       "      <td>...</td>\n",
       "      <td>...</td>\n",
       "      <td>...</td>\n",
       "      <td>...</td>\n",
       "      <td>...</td>\n",
       "      <td>...</td>\n",
       "      <td>...</td>\n",
       "      <td>...</td>\n",
       "      <td>...</td>\n",
       "    </tr>\n",
       "    <tr>\n",
       "      <th>8689</th>\n",
       "      <td>False</td>\n",
       "      <td>False</td>\n",
       "      <td>57.0</td>\n",
       "      <td>220.0</td>\n",
       "      <td>0.332</td>\n",
       "      <td>21.99</td>\n",
       "      <td>30.07</td>\n",
       "      <td>66</td>\n",
       "      <td>59.0</td>\n",
       "      <td>0.0</td>\n",
       "      <td>...</td>\n",
       "      <td>1.0</td>\n",
       "      <td>2.0</td>\n",
       "      <td>2.0</td>\n",
       "      <td>2.0</td>\n",
       "      <td>1.0</td>\n",
       "      <td>2.0</td>\n",
       "      <td>1.0</td>\n",
       "      <td>24.0</td>\n",
       "      <td>-18.75</td>\n",
       "      <td>-0.162170</td>\n",
       "    </tr>\n",
       "    <tr>\n",
       "      <th>8690</th>\n",
       "      <td>False</td>\n",
       "      <td>False</td>\n",
       "      <td>60.0</td>\n",
       "      <td>24.0</td>\n",
       "      <td>0.825</td>\n",
       "      <td>27.00</td>\n",
       "      <td>24.49</td>\n",
       "      <td>73</td>\n",
       "      <td>69.0</td>\n",
       "      <td>8.0</td>\n",
       "      <td>...</td>\n",
       "      <td>2.0</td>\n",
       "      <td>1.0</td>\n",
       "      <td>2.0</td>\n",
       "      <td>2.0</td>\n",
       "      <td>2.0</td>\n",
       "      <td>2.0</td>\n",
       "      <td>2.0</td>\n",
       "      <td>36.0</td>\n",
       "      <td>0.00</td>\n",
       "      <td>0.080431</td>\n",
       "    </tr>\n",
       "    <tr>\n",
       "      <th>8691</th>\n",
       "      <td>False</td>\n",
       "      <td>False</td>\n",
       "      <td>34.0</td>\n",
       "      <td>12.0</td>\n",
       "      <td>0.767</td>\n",
       "      <td>19.80</td>\n",
       "      <td>26.15</td>\n",
       "      <td>67</td>\n",
       "      <td>81.0</td>\n",
       "      <td>4.0</td>\n",
       "      <td>...</td>\n",
       "      <td>1.0</td>\n",
       "      <td>1.0</td>\n",
       "      <td>2.0</td>\n",
       "      <td>2.0</td>\n",
       "      <td>2.0</td>\n",
       "      <td>2.0</td>\n",
       "      <td>2.0</td>\n",
       "      <td>34.0</td>\n",
       "      <td>-31.25</td>\n",
       "      <td>-0.171579</td>\n",
       "    </tr>\n",
       "    <tr>\n",
       "      <th>8692</th>\n",
       "      <td>False</td>\n",
       "      <td>False</td>\n",
       "      <td>79.0</td>\n",
       "      <td>8.0</td>\n",
       "      <td>0.288</td>\n",
       "      <td>30.77</td>\n",
       "      <td>25.13</td>\n",
       "      <td>68</td>\n",
       "      <td>91.0</td>\n",
       "      <td>3.0</td>\n",
       "      <td>...</td>\n",
       "      <td>1.0</td>\n",
       "      <td>1.0</td>\n",
       "      <td>1.0</td>\n",
       "      <td>1.0</td>\n",
       "      <td>2.0</td>\n",
       "      <td>1.0</td>\n",
       "      <td>2.0</td>\n",
       "      <td>26.0</td>\n",
       "      <td>-6.25</td>\n",
       "      <td>0.040522</td>\n",
       "    </tr>\n",
       "    <tr>\n",
       "      <th>8693</th>\n",
       "      <td>False</td>\n",
       "      <td>False</td>\n",
       "      <td>40.0</td>\n",
       "      <td>12.0</td>\n",
       "      <td>0.873</td>\n",
       "      <td>24.84</td>\n",
       "      <td>26.51</td>\n",
       "      <td>60</td>\n",
       "      <td>70.0</td>\n",
       "      <td>0.0</td>\n",
       "      <td>...</td>\n",
       "      <td>1.0</td>\n",
       "      <td>1.0</td>\n",
       "      <td>2.0</td>\n",
       "      <td>1.0</td>\n",
       "      <td>1.0</td>\n",
       "      <td>1.0</td>\n",
       "      <td>2.0</td>\n",
       "      <td>5.0</td>\n",
       "      <td>0.00</td>\n",
       "      <td>0.154702</td>\n",
       "    </tr>\n",
       "  </tbody>\n",
       "</table>\n",
       "<p>8694 rows × 46 columns</p>\n",
       "</div>"
      ],
      "text/plain": [
       "      ptb_11836  fysb_3639  ptb_3764  fysb_symptomvarighed  ptb_eq5d_score_5l  \\\n",
       "0         False      False      53.0                 120.0              0.819   \n",
       "1         False      False      32.0                  12.0              0.952   \n",
       "2         False      False      49.0                   6.0              0.839   \n",
       "3          True      False      67.0                  60.0              0.251   \n",
       "4         False      False      60.0                 120.0              0.819   \n",
       "...         ...        ...       ...                   ...                ...   \n",
       "8689      False      False      57.0                 220.0              0.332   \n",
       "8690      False      False      60.0                  24.0              0.825   \n",
       "8691      False      False      34.0                  12.0              0.767   \n",
       "8692      False      False      79.0                   8.0              0.288   \n",
       "8693      False      False      40.0                  12.0              0.873   \n",
       "\n",
       "      testb_10391  fysb_BMI  age  ptb_eq5d_vas  pain_area  ...  fysb_24644  \\\n",
       "0           24.22     43.70   67          80.0        4.0  ...         1.0   \n",
       "1           23.05     32.27   67          69.0        4.0  ...         1.0   \n",
       "2           29.12     24.44   73          90.0        2.0  ...         1.0   \n",
       "3           34.20     25.71   77          21.0        2.0  ...         1.0   \n",
       "4           25.84     21.45   59          90.0        4.0  ...         1.0   \n",
       "...           ...       ...  ...           ...        ...  ...         ...   \n",
       "8689        21.99     30.07   66          59.0        0.0  ...         1.0   \n",
       "8690        27.00     24.49   73          69.0        8.0  ...         2.0   \n",
       "8691        19.80     26.15   67          81.0        4.0  ...         1.0   \n",
       "8692        30.77     25.13   68          91.0        3.0  ...         1.0   \n",
       "8693        24.84     26.51   60          70.0        0.0  ...         1.0   \n",
       "\n",
       "      fysb_24608  fysb_24645  fysb_24646  fysb_24649  fysb_24650  fysb_24651  \\\n",
       "0            1.0         2.0         2.0         2.0         2.0         1.0   \n",
       "1            2.0         2.0         2.0         2.0         2.0         1.0   \n",
       "2            1.0         1.0         1.0         2.0         1.0         1.0   \n",
       "3            1.0         1.0         2.0         2.0         2.0         1.0   \n",
       "4            1.0         2.0         2.0         1.0         2.0         1.0   \n",
       "...          ...         ...         ...         ...         ...         ...   \n",
       "8689         2.0         2.0         2.0         1.0         2.0         1.0   \n",
       "8690         1.0         2.0         2.0         2.0         2.0         2.0   \n",
       "8691         1.0         2.0         2.0         2.0         2.0         2.0   \n",
       "8692         1.0         1.0         1.0         2.0         1.0         2.0   \n",
       "8693         1.0         2.0         1.0         1.0         1.0         2.0   \n",
       "\n",
       "      vasChaSco  koosChaSco  funcChaSco  \n",
       "0          -4.0       25.00   -0.064474  \n",
       "1           0.0        0.00    0.000000  \n",
       "2          18.0        0.00   -0.079334  \n",
       "3          32.0        6.25   -0.037774  \n",
       "4          29.0      -18.75   -0.161414  \n",
       "...         ...         ...         ...  \n",
       "8689       24.0      -18.75   -0.162170  \n",
       "8690       36.0        0.00    0.080431  \n",
       "8691       34.0      -31.25   -0.171579  \n",
       "8692       26.0       -6.25    0.040522  \n",
       "8693        5.0        0.00    0.154702  \n",
       "\n",
       "[8694 rows x 46 columns]"
      ]
     },
     "execution_count": 90,
     "metadata": {},
     "output_type": "execute_result"
    }
   ],
   "source": [
    "df2 = pd.read_csv(\"group2.csv\", sep=',')\n",
    "df2"
   ]
  },
  {
   "cell_type": "code",
   "execution_count": 91,
   "metadata": {},
   "outputs": [
    {
     "data": {
      "text/html": [
       "<div>\n",
       "<style scoped>\n",
       "    .dataframe tbody tr th:only-of-type {\n",
       "        vertical-align: middle;\n",
       "    }\n",
       "\n",
       "    .dataframe tbody tr th {\n",
       "        vertical-align: top;\n",
       "    }\n",
       "\n",
       "    .dataframe thead th {\n",
       "        text-align: right;\n",
       "    }\n",
       "</style>\n",
       "<table border=\"1\" class=\"dataframe\">\n",
       "  <thead>\n",
       "    <tr style=\"text-align: right;\">\n",
       "      <th></th>\n",
       "      <th>ptb_11836</th>\n",
       "      <th>fysb_3639</th>\n",
       "      <th>ptb_3764</th>\n",
       "      <th>fysb_symptomvarighed</th>\n",
       "      <th>ptb_eq5d_score_5l</th>\n",
       "      <th>testb_10391</th>\n",
       "      <th>fysb_BMI</th>\n",
       "      <th>age</th>\n",
       "      <th>ptb_eq5d_vas</th>\n",
       "      <th>pain_area</th>\n",
       "      <th>...</th>\n",
       "      <th>fysb_24646</th>\n",
       "      <th>fysb_24649</th>\n",
       "      <th>fysb_24650</th>\n",
       "      <th>fysb_24651</th>\n",
       "      <th>ptb_koos_pain_score</th>\n",
       "      <th>ptb_koos_func_score</th>\n",
       "      <th>ptb_koos12_score</th>\n",
       "      <th>vasChaSco</th>\n",
       "      <th>koosChaSco</th>\n",
       "      <th>funcChaSco</th>\n",
       "    </tr>\n",
       "  </thead>\n",
       "  <tbody>\n",
       "    <tr>\n",
       "      <th>0</th>\n",
       "      <td>False</td>\n",
       "      <td>False</td>\n",
       "      <td>67.0</td>\n",
       "      <td>2.0</td>\n",
       "      <td>0.288</td>\n",
       "      <td>59.15</td>\n",
       "      <td>38.73</td>\n",
       "      <td>62</td>\n",
       "      <td>49.0</td>\n",
       "      <td>0.0</td>\n",
       "      <td>...</td>\n",
       "      <td>1.0</td>\n",
       "      <td>2.0</td>\n",
       "      <td>2.0</td>\n",
       "      <td>1.0</td>\n",
       "      <td>18.75</td>\n",
       "      <td>18.75</td>\n",
       "      <td>25.000000</td>\n",
       "      <td>8.0</td>\n",
       "      <td>-6.25</td>\n",
       "      <td>-0.348868</td>\n",
       "    </tr>\n",
       "    <tr>\n",
       "      <th>1</th>\n",
       "      <td>False</td>\n",
       "      <td>False</td>\n",
       "      <td>36.0</td>\n",
       "      <td>26.0</td>\n",
       "      <td>0.878</td>\n",
       "      <td>24.79</td>\n",
       "      <td>25.74</td>\n",
       "      <td>49</td>\n",
       "      <td>71.0</td>\n",
       "      <td>0.0</td>\n",
       "      <td>...</td>\n",
       "      <td>2.0</td>\n",
       "      <td>2.0</td>\n",
       "      <td>1.0</td>\n",
       "      <td>2.0</td>\n",
       "      <td>68.75</td>\n",
       "      <td>68.75</td>\n",
       "      <td>60.416667</td>\n",
       "      <td>29.0</td>\n",
       "      <td>-25.00</td>\n",
       "      <td>-0.189060</td>\n",
       "    </tr>\n",
       "    <tr>\n",
       "      <th>2</th>\n",
       "      <td>False</td>\n",
       "      <td>False</td>\n",
       "      <td>75.0</td>\n",
       "      <td>9.0</td>\n",
       "      <td>0.538</td>\n",
       "      <td>43.65</td>\n",
       "      <td>37.83</td>\n",
       "      <td>60</td>\n",
       "      <td>47.0</td>\n",
       "      <td>0.0</td>\n",
       "      <td>...</td>\n",
       "      <td>1.0</td>\n",
       "      <td>2.0</td>\n",
       "      <td>1.0</td>\n",
       "      <td>2.0</td>\n",
       "      <td>43.75</td>\n",
       "      <td>37.50</td>\n",
       "      <td>33.333333</td>\n",
       "      <td>25.0</td>\n",
       "      <td>-18.75</td>\n",
       "      <td>-0.207215</td>\n",
       "    </tr>\n",
       "    <tr>\n",
       "      <th>3</th>\n",
       "      <td>False</td>\n",
       "      <td>False</td>\n",
       "      <td>75.0</td>\n",
       "      <td>1.0</td>\n",
       "      <td>0.832</td>\n",
       "      <td>26.00</td>\n",
       "      <td>33.42</td>\n",
       "      <td>54</td>\n",
       "      <td>80.0</td>\n",
       "      <td>0.0</td>\n",
       "      <td>...</td>\n",
       "      <td>2.0</td>\n",
       "      <td>2.0</td>\n",
       "      <td>2.0</td>\n",
       "      <td>2.0</td>\n",
       "      <td>25.00</td>\n",
       "      <td>50.00</td>\n",
       "      <td>39.583333</td>\n",
       "      <td>48.0</td>\n",
       "      <td>-12.50</td>\n",
       "      <td>0.109890</td>\n",
       "    </tr>\n",
       "    <tr>\n",
       "      <th>4</th>\n",
       "      <td>True</td>\n",
       "      <td>False</td>\n",
       "      <td>9.0</td>\n",
       "      <td>7.0</td>\n",
       "      <td>0.878</td>\n",
       "      <td>25.66</td>\n",
       "      <td>31.37</td>\n",
       "      <td>54</td>\n",
       "      <td>78.0</td>\n",
       "      <td>0.0</td>\n",
       "      <td>...</td>\n",
       "      <td>2.0</td>\n",
       "      <td>1.0</td>\n",
       "      <td>1.0</td>\n",
       "      <td>2.0</td>\n",
       "      <td>50.00</td>\n",
       "      <td>68.75</td>\n",
       "      <td>58.333333</td>\n",
       "      <td>-3.0</td>\n",
       "      <td>31.25</td>\n",
       "      <td>0.027453</td>\n",
       "    </tr>\n",
       "    <tr>\n",
       "      <th>...</th>\n",
       "      <td>...</td>\n",
       "      <td>...</td>\n",
       "      <td>...</td>\n",
       "      <td>...</td>\n",
       "      <td>...</td>\n",
       "      <td>...</td>\n",
       "      <td>...</td>\n",
       "      <td>...</td>\n",
       "      <td>...</td>\n",
       "      <td>...</td>\n",
       "      <td>...</td>\n",
       "      <td>...</td>\n",
       "      <td>...</td>\n",
       "      <td>...</td>\n",
       "      <td>...</td>\n",
       "      <td>...</td>\n",
       "      <td>...</td>\n",
       "      <td>...</td>\n",
       "      <td>...</td>\n",
       "      <td>...</td>\n",
       "      <td>...</td>\n",
       "    </tr>\n",
       "    <tr>\n",
       "      <th>4903</th>\n",
       "      <td>False</td>\n",
       "      <td>False</td>\n",
       "      <td>57.0</td>\n",
       "      <td>220.0</td>\n",
       "      <td>0.332</td>\n",
       "      <td>21.99</td>\n",
       "      <td>30.07</td>\n",
       "      <td>66</td>\n",
       "      <td>59.0</td>\n",
       "      <td>0.0</td>\n",
       "      <td>...</td>\n",
       "      <td>2.0</td>\n",
       "      <td>1.0</td>\n",
       "      <td>2.0</td>\n",
       "      <td>1.0</td>\n",
       "      <td>62.50</td>\n",
       "      <td>43.75</td>\n",
       "      <td>43.750000</td>\n",
       "      <td>24.0</td>\n",
       "      <td>-18.75</td>\n",
       "      <td>-0.162170</td>\n",
       "    </tr>\n",
       "    <tr>\n",
       "      <th>4904</th>\n",
       "      <td>False</td>\n",
       "      <td>False</td>\n",
       "      <td>60.0</td>\n",
       "      <td>24.0</td>\n",
       "      <td>0.825</td>\n",
       "      <td>27.00</td>\n",
       "      <td>24.49</td>\n",
       "      <td>73</td>\n",
       "      <td>69.0</td>\n",
       "      <td>8.0</td>\n",
       "      <td>...</td>\n",
       "      <td>2.0</td>\n",
       "      <td>2.0</td>\n",
       "      <td>2.0</td>\n",
       "      <td>2.0</td>\n",
       "      <td>37.50</td>\n",
       "      <td>56.25</td>\n",
       "      <td>47.916667</td>\n",
       "      <td>36.0</td>\n",
       "      <td>0.00</td>\n",
       "      <td>0.080431</td>\n",
       "    </tr>\n",
       "    <tr>\n",
       "      <th>4905</th>\n",
       "      <td>False</td>\n",
       "      <td>False</td>\n",
       "      <td>34.0</td>\n",
       "      <td>12.0</td>\n",
       "      <td>0.767</td>\n",
       "      <td>19.80</td>\n",
       "      <td>26.15</td>\n",
       "      <td>67</td>\n",
       "      <td>81.0</td>\n",
       "      <td>4.0</td>\n",
       "      <td>...</td>\n",
       "      <td>2.0</td>\n",
       "      <td>2.0</td>\n",
       "      <td>2.0</td>\n",
       "      <td>2.0</td>\n",
       "      <td>50.00</td>\n",
       "      <td>81.25</td>\n",
       "      <td>62.500000</td>\n",
       "      <td>34.0</td>\n",
       "      <td>-31.25</td>\n",
       "      <td>-0.171579</td>\n",
       "    </tr>\n",
       "    <tr>\n",
       "      <th>4906</th>\n",
       "      <td>False</td>\n",
       "      <td>False</td>\n",
       "      <td>79.0</td>\n",
       "      <td>8.0</td>\n",
       "      <td>0.288</td>\n",
       "      <td>30.77</td>\n",
       "      <td>25.13</td>\n",
       "      <td>68</td>\n",
       "      <td>91.0</td>\n",
       "      <td>3.0</td>\n",
       "      <td>...</td>\n",
       "      <td>1.0</td>\n",
       "      <td>2.0</td>\n",
       "      <td>1.0</td>\n",
       "      <td>2.0</td>\n",
       "      <td>25.00</td>\n",
       "      <td>43.75</td>\n",
       "      <td>37.500000</td>\n",
       "      <td>26.0</td>\n",
       "      <td>-6.25</td>\n",
       "      <td>0.040522</td>\n",
       "    </tr>\n",
       "    <tr>\n",
       "      <th>4907</th>\n",
       "      <td>False</td>\n",
       "      <td>False</td>\n",
       "      <td>40.0</td>\n",
       "      <td>12.0</td>\n",
       "      <td>0.873</td>\n",
       "      <td>24.84</td>\n",
       "      <td>26.51</td>\n",
       "      <td>60</td>\n",
       "      <td>70.0</td>\n",
       "      <td>0.0</td>\n",
       "      <td>...</td>\n",
       "      <td>1.0</td>\n",
       "      <td>1.0</td>\n",
       "      <td>1.0</td>\n",
       "      <td>2.0</td>\n",
       "      <td>43.75</td>\n",
       "      <td>62.50</td>\n",
       "      <td>47.916667</td>\n",
       "      <td>5.0</td>\n",
       "      <td>0.00</td>\n",
       "      <td>0.154702</td>\n",
       "    </tr>\n",
       "  </tbody>\n",
       "</table>\n",
       "<p>4908 rows × 49 columns</p>\n",
       "</div>"
      ],
      "text/plain": [
       "      ptb_11836  fysb_3639  ptb_3764  fysb_symptomvarighed  ptb_eq5d_score_5l  \\\n",
       "0         False      False      67.0                   2.0              0.288   \n",
       "1         False      False      36.0                  26.0              0.878   \n",
       "2         False      False      75.0                   9.0              0.538   \n",
       "3         False      False      75.0                   1.0              0.832   \n",
       "4          True      False       9.0                   7.0              0.878   \n",
       "...         ...        ...       ...                   ...                ...   \n",
       "4903      False      False      57.0                 220.0              0.332   \n",
       "4904      False      False      60.0                  24.0              0.825   \n",
       "4905      False      False      34.0                  12.0              0.767   \n",
       "4906      False      False      79.0                   8.0              0.288   \n",
       "4907      False      False      40.0                  12.0              0.873   \n",
       "\n",
       "      testb_10391  fysb_BMI  age  ptb_eq5d_vas  pain_area  ...  fysb_24646  \\\n",
       "0           59.15     38.73   62          49.0        0.0  ...         1.0   \n",
       "1           24.79     25.74   49          71.0        0.0  ...         2.0   \n",
       "2           43.65     37.83   60          47.0        0.0  ...         1.0   \n",
       "3           26.00     33.42   54          80.0        0.0  ...         2.0   \n",
       "4           25.66     31.37   54          78.0        0.0  ...         2.0   \n",
       "...           ...       ...  ...           ...        ...  ...         ...   \n",
       "4903        21.99     30.07   66          59.0        0.0  ...         2.0   \n",
       "4904        27.00     24.49   73          69.0        8.0  ...         2.0   \n",
       "4905        19.80     26.15   67          81.0        4.0  ...         2.0   \n",
       "4906        30.77     25.13   68          91.0        3.0  ...         1.0   \n",
       "4907        24.84     26.51   60          70.0        0.0  ...         1.0   \n",
       "\n",
       "      fysb_24649  fysb_24650  fysb_24651  ptb_koos_pain_score  \\\n",
       "0            2.0         2.0         1.0                18.75   \n",
       "1            2.0         1.0         2.0                68.75   \n",
       "2            2.0         1.0         2.0                43.75   \n",
       "3            2.0         2.0         2.0                25.00   \n",
       "4            1.0         1.0         2.0                50.00   \n",
       "...          ...         ...         ...                  ...   \n",
       "4903         1.0         2.0         1.0                62.50   \n",
       "4904         2.0         2.0         2.0                37.50   \n",
       "4905         2.0         2.0         2.0                50.00   \n",
       "4906         2.0         1.0         2.0                25.00   \n",
       "4907         1.0         1.0         2.0                43.75   \n",
       "\n",
       "      ptb_koos_func_score  ptb_koos12_score  vasChaSco  koosChaSco  funcChaSco  \n",
       "0                   18.75         25.000000        8.0       -6.25   -0.348868  \n",
       "1                   68.75         60.416667       29.0      -25.00   -0.189060  \n",
       "2                   37.50         33.333333       25.0      -18.75   -0.207215  \n",
       "3                   50.00         39.583333       48.0      -12.50    0.109890  \n",
       "4                   68.75         58.333333       -3.0       31.25    0.027453  \n",
       "...                   ...               ...        ...         ...         ...  \n",
       "4903                43.75         43.750000       24.0      -18.75   -0.162170  \n",
       "4904                56.25         47.916667       36.0        0.00    0.080431  \n",
       "4905                81.25         62.500000       34.0      -31.25   -0.171579  \n",
       "4906                43.75         37.500000       26.0       -6.25    0.040522  \n",
       "4907                62.50         47.916667        5.0        0.00    0.154702  \n",
       "\n",
       "[4908 rows x 49 columns]"
      ]
     },
     "execution_count": 91,
     "metadata": {},
     "output_type": "execute_result"
    }
   ],
   "source": [
    "df3 = pd.read_csv(\"group3.csv\", sep=',')\n",
    "df3"
   ]
  },
  {
   "cell_type": "code",
   "execution_count": 95,
   "metadata": {},
   "outputs": [],
   "source": [
    "numeric_variable = [\n",
    "    \"ptb_3764\", \"fysb_symptomvarighed\", \"ptb_eq5d_score_5l\", \"testb_10391\", \"fysb_BMI\", \"age\", \n",
    "    \"ptb_eq5d_vas\", \"pain_area\", \"testb_10281\", \"ptb_koos_qol_score\", \"ptb_4145\",\"vasChaSco\"\n",
    "]\n",
    "binary_category_variables = [\n",
    "    \"ptb_11836\", \"fysb_3639\", \"ptb_3765\", \"ptb_10226_b\", \"ptb_16316\",\n",
    "    \"ptb_koospain\", \"fysb_9349\", \"fysb_3642\", \"ptb_low_back\", \"ptb_3792_b\", \"gender\", \"fysb_op\", \"ptb_10225\", \"ptb_3758\",\n",
    "    \"ptb_3762\", \"ptb_13118\", \"fysb_medicin\", \"ptb_3777_b\", \"ptb_3772\", \"ptb_10223\", \"testb_10392\", \"ptb_10224\", \"ptb_3754_b\",\n",
    "    \n",
    "]"
   ]
  },
  {
   "cell_type": "code",
   "execution_count": 96,
   "metadata": {},
   "outputs": [
    {
     "name": "stdout",
     "output_type": "stream",
     "text": [
      "1. ptb_3764: {'mean': 46.40693417557964, 'std': 21.66257932831825, 'min': 0.0, 'max': 100.0}\n",
      "2. fysb_symptomvarighed: {'mean': 40.547484028425814, 'std': 64.10494208231172, 'min': 0.0, 'max': 756.0}\n",
      "3. ptb_eq5d_score_5l: {'mean': 0.7824159069700667, 'std': 0.1801050738694662, 'min': -0.5050000000000001, 'max': 1.0}\n",
      "4. testb_10391: {'mean': 28.236840140693417, 'std': 7.691171487129642, 'min': 10.0, 'max': 234.91}\n",
      "5. fysb_BMI: {'mean': 28.658157346924124, 'std': 5.291197319499265, 'min': 15.23, 'max': 70.03}\n",
      "6. age: {'mean': 65.33364439020889, 'std': 9.28680458899114, 'min': 23, 'max': 94}\n",
      "7. ptb_eq5d_vas: {'mean': 70.53441963965257, 'std': 18.54506210515478, 'min': 0.0, 'max': 100.0}\n",
      "8. pain_area: {'mean': 2.789247003086641, 'std': 3.255623322215988, 'min': 0.0, 'max': 40.0}\n",
      "9. testb_10281: {'mean': 11.972076663556098, 'std': 3.7007608482391205, 'min': 0.0, 'max': 40.0}\n",
      "10. ptb_koos_qol_score: {'mean': 46.175047256717626, 'std': 15.125137404318727, 'min': 0.0, 'max': 100.0}\n",
      "11. ptb_4145: {'mean': 5.729165171200918, 'std': 1.7770802939678831, 'min': 1.0, 'max': 10.0}\n",
      "12. vasChaSco: {'mean': 14.066039767425167, 'std': 22.754186354508587, 'min': -88.0, 'max': 99.0}\n"
     ]
    }
   ],
   "source": [
    "numerical_meta = {}\n",
    "for c_name in numeric_variable:\n",
    "    target_column =  df1[c_name]\n",
    "    numerical_meta[c_name] = {\n",
    "        \"mean\":target_column.mean(),\n",
    "        \"std\": target_column.std(),\n",
    "        \"min\": target_column.min(), \n",
    "        \"max\": target_column.max(),\n",
    "        # \"data-type\": target_column.dtype,\n",
    "        # \"median\": target_column.median(),\n",
    "       \n",
    "     }\n",
    "for i, (k, v) in enumerate(numerical_meta.items(), 1):\n",
    "    print(f\"{i}. {k}: {v}\")"
   ]
  },
  {
   "cell_type": "code",
   "execution_count": 97,
   "metadata": {},
   "outputs": [
    {
     "name": "stdout",
     "output_type": "stream",
     "text": [
      "1. ptb_11836: {'data-type': dtype('bool'), 'True': 1252, 'False': 12679, 'nan': 0}\n",
      "2. fysb_3639: {'data-type': dtype('bool'), 'True': 207, 'False': 13724, 'nan': 0}\n",
      "3. ptb_3765: {'data-type': dtype('bool'), 'True': 1549, 'False': 12382, 'nan': 0}\n",
      "4. ptb_10226_b: {'data-type': dtype('bool'), 'True': 9895, 'False': 4036, 'nan': 0}\n",
      "5. ptb_16316: {'data-type': dtype('bool'), 'True': 7063, 'False': 6868, 'nan': 0}\n",
      "6. ptb_koospain: {'data-type': dtype('bool'), 'True': 11214, 'False': 2717, 'nan': 0}\n",
      "7. fysb_9349: {'data-type': dtype('float64'), 'True': 11079, 'False': 0, 'nan': 0}\n",
      "8. fysb_3642: {'data-type': dtype('bool'), 'True': 4644, 'False': 9287, 'nan': 0}\n",
      "9. ptb_low_back: {'data-type': dtype('bool'), 'True': 2690, 'False': 11241, 'nan': 0}\n",
      "10. ptb_3792_b: {'data-type': dtype('bool'), 'True': 6972, 'False': 6959, 'nan': 0}\n",
      "11. gender: {'data-type': dtype('int64'), 'True': 4085, 'False': 9846, 'nan': 0}\n",
      "12. fysb_op: {'data-type': dtype('bool'), 'True': 3790, 'False': 10141, 'nan': 0}\n",
      "13. ptb_10225: {'data-type': dtype('bool'), 'True': 3361, 'False': 10570, 'nan': 0}\n",
      "14. ptb_3758: {'data-type': dtype('bool'), 'True': 10716, 'False': 3215, 'nan': 0}\n",
      "15. ptb_3762: {'data-type': dtype('bool'), 'True': 2028, 'False': 11903, 'nan': 0}\n",
      "16. ptb_13118: {'data-type': dtype('bool'), 'True': 1066, 'False': 12865, 'nan': 0}\n",
      "17. fysb_medicin: {'data-type': dtype('bool'), 'True': 8809, 'False': 5122, 'nan': 0}\n",
      "18. ptb_3777_b: {'data-type': dtype('bool'), 'True': 4111, 'False': 9820, 'nan': 0}\n",
      "19. ptb_3772: {'data-type': dtype('bool'), 'True': 1510, 'False': 12421, 'nan': 0}\n",
      "20. ptb_10223: {'data-type': dtype('bool'), 'True': 13442, 'False': 489, 'nan': 0}\n",
      "21. testb_10392: {'data-type': dtype('bool'), 'True': 229, 'False': 13702, 'nan': 0}\n",
      "22. ptb_10224: {'data-type': dtype('bool'), 'True': 13718, 'False': 213, 'nan': 0}\n",
      "23. ptb_3754_b: {'data-type': dtype('bool'), 'True': 1, 'False': 13930, 'nan': 0}\n"
     ]
    }
   ],
   "source": [
    "categorical_meta = {}\n",
    "for c_name in binary_category_variables:\n",
    "    target_column =  df1[c_name]\n",
    "    categorical_meta[c_name] = {\n",
    "        \"data-type\": target_column.dtype,\n",
    "        \"True\": (target_column == True).sum(),\n",
    "        \"False\": (target_column == False).sum(),\n",
    "        \"nan\": (target_column.isnull()).sum()\n",
    "        # \"unique\": np.unique(target_column.values, return_counts=True), \n",
    "        \n",
    "     }\n",
    "for i, (k, v) in enumerate(categorical_meta.items(), 1):\n",
    "    print(f\"{i}. {k}: {v}\")"
   ]
  },
  {
   "cell_type": "code",
   "execution_count": null,
   "metadata": {},
   "outputs": [
    {
     "name": "stdout",
     "output_type": "stream",
     "text": [
      "Average Improvement in Pain: -14.066039767425167\n"
     ]
    }
   ],
   "source": [
    "df1['improvement'] = df1['pt3_3764'] - df1['ptb_3764']\n",
    "# Calculate the average improvement\n",
    "average_improvement = df1['improvement'].mean()\n",
    "\n",
    "print(\"Average Improvement in Pain:\", average_improvement)\n"
   ]
  },
  {
   "cell_type": "code",
   "execution_count": 99,
   "metadata": {},
   "outputs": [
    {
     "data": {
      "text/plain": [
       "-14.066039767425167"
      ]
     },
     "execution_count": 99,
     "metadata": {},
     "output_type": "execute_result"
    }
   ],
   "source": [
    "average_improvement = np.mean(df1['improvement'])\n",
    "average_improvement "
   ]
  },
  {
   "cell_type": "code",
   "execution_count": 100,
   "metadata": {},
   "outputs": [
    {
     "data": {
      "text/plain": [
       "-14.066039767425167"
      ]
     },
     "execution_count": 100,
     "metadata": {},
     "output_type": "execute_result"
    }
   ],
   "source": [
    "total_improvement = df1['improvement'].sum()\n",
    "count_improvement = df1['improvement'].count()\n",
    "average_improvement = total_improvement / count_improvement\n",
    "average_improvement "
   ]
  }
 ],
 "metadata": {
  "kernelspec": {
   "display_name": "physioai",
   "language": "python",
   "name": "python3"
  },
  "language_info": {
   "codemirror_mode": {
    "name": "ipython",
    "version": 3
   },
   "file_extension": ".py",
   "mimetype": "text/x-python",
   "name": "python",
   "nbconvert_exporter": "python",
   "pygments_lexer": "ipython3",
   "version": "3.10.13"
  },
  "orig_nbformat": 4
 },
 "nbformat": 4,
 "nbformat_minor": 2
}
