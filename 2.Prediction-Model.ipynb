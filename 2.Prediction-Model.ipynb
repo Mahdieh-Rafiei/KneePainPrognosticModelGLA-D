{
 "cells": [
  {
   "cell_type": "code",
   "execution_count": null,
   "metadata": {},
   "outputs": [],
   "source": [
    "import pandas as pd\n",
    "import numpy as np\n",
    "from sklearn.ensemble import RandomForestRegressor\n",
    "from sklearn.metrics import mean_squared_error, r2_score\n",
    "from sklearn.model_selection import KFold\n",
    "import matplotlib.pyplot as plt\n",
    "import seaborn as sns\n",
    "from sklearn.model_selection import KFold"
   ]
  },
  {
   "cell_type": "markdown",
   "metadata": {},
   "source": [
    "#### Group 1: All variables still collected after 2023 (excluding information on diseases)"
   ]
  },
  {
   "cell_type": "markdown",
   "metadata": {},
   "source": [
    "##### Read data"
   ]
  },
  {
   "cell_type": "code",
   "execution_count": null,
   "metadata": {},
   "outputs": [],
   "source": [
    "data_vs= pd.read_csv('../remove_four_variables/group1.csv',index_col=False).drop(columns=['koosChaSco', 'funcChaSco'])\n",
    "print(\"data shape:\", data_vs.shape)\n",
    "print(\"number of missing values:\", data_vs.isna().sum().sum())"
   ]
  },
  {
   "cell_type": "code",
   "execution_count": null,
   "metadata": {},
   "outputs": [],
   "source": [
    "data_vs['improvement'] = data_vs['ptb_3764'] - data_vs['pt3_3764']\n",
    "\n",
    "# Calculate the average improvement\n",
    "average_improvement = data_vs['improvement'].mean()\n",
    "\n",
    "print(\"Average Improvement in Pain:\", average_improvement)\n"
   ]
  },
  {
   "cell_type": "code",
   "execution_count": null,
   "metadata": {},
   "outputs": [],
   "source": [
    "# Group 1: All variables still collected after 2023 (excluding information on diseases) \n",
    "group1 = [\"ptb_11836\", \"fysb_3639\", \"ptb_3764\", \"fysb_symptomvarighed\", \"ptb_eq5d_score_5l\", \"testb_10391\", \"fysb_BMI\", \"age\", \n",
    "          \"ptb_eq5d_vas\", \"pain_area\", \"testb_10281\", \"ptb_koos_qol_score\", \"ptb_4145\", \"ptb_3765\", \"ptb_10226_b\", \"ptb_16316\", \n",
    "          \"ptb_koospain\", \"fysb_9349\", \"fysb_3642\", \"ptb_low_back\", \"ptb_3792_b\", \"gender\", \"fysb_op\", \"ptb_10225\", \"ptb_3758\", \n",
    "          \"ptb_3762\", \"ptb_13118\", \"fysb_medicin\", \"ptb_3777_b\", \"ptb_3772\", \"ptb_10223\", \"testb_10392\", \"ptb_10224\", \"ptb_3754_b\", \n",
    "          \"vasChaSco\"]\n",
    "print(\"group1:\", len(group1))\n",
    "print(len(data_vs.columns))\n"
   ]
  },
  {
   "cell_type": "markdown",
   "metadata": {},
   "source": [
    "##### Desciption Of VAS"
   ]
  },
  {
   "cell_type": "code",
   "execution_count": null,
   "metadata": {},
   "outputs": [],
   "source": [
    "description = data_vs['vasChaSco'].describe()\n",
    "description"
   ]
  },
  {
   "cell_type": "code",
   "execution_count": null,
   "metadata": {},
   "outputs": [],
   "source": [
    "average_reduction = np.mean(data_vs.vasChaSco)\n",
    "average_reduction"
   ]
  },
  {
   "attachments": {},
   "cell_type": "markdown",
   "metadata": {},
   "source": [
    "##### Feature selection"
   ]
  },
  {
   "cell_type": "code",
   "execution_count": null,
   "metadata": {},
   "outputs": [],
   "source": [
    "###########  ---------------------- Function for create list of feature selection --------------------- ###############\n",
    "def feature_selection(X_train, X_test, y_train, y_test, n_features):\n",
    "    \n",
    "    # 1. Fit a random forest regression model to the training set\n",
    "    rf = RandomForestRegressor(n_estimators=100, max_depth=10, random_state=42)\n",
    "    rf.fit(X_train, y_train)\n",
    "\n",
    "\n",
    "    # 2.Get the feature importances and select the top k features\n",
    "    importances = rf.feature_importances_\n",
    "    indices = np.argsort(importances)[::-1]\n",
    "\n",
    "    k = n_features\n",
    "    selected_indices = indices[:k]\n",
    "    selected_features = X_train.columns[selected_indices]\n",
    "    print(selected_features)\n",
    "\n",
    "    # 3. Train a new random forest regression model using only the selected features\n",
    "    rf_selected = RandomForestRegressor(n_estimators=100, max_depth=10, random_state=42)\n",
    "    rf_selected.fit(X_train[selected_features], y_train)\n",
    "\n",
    "    # 4. Evaluate the performance of the new model on the testing set\n",
    "    y_pred = rf_selected.predict(X_test[selected_features])\n",
    "    mse = mean_squared_error(y_pred, y_test)\n",
    "    rmse = mse ** 0.5\n",
    "    rsquared = rf_selected.score(X_test[selected_features], y_test)\n",
    "\n",
    "    print(mean_squared_error(y_pred, y_test))\n",
    "    print(f\"RMSE: {rmse:.2f}\")\n",
    "    print(f\"R-squared: {rsquared:.2f}\")\n",
    "    \n",
    "    return selected_features, rmse, rsquared"
   ]
  },
  {
   "attachments": {},
   "cell_type": "markdown",
   "metadata": {},
   "source": [
    "##### Cross validation"
   ]
  },
  {
   "cell_type": "code",
   "execution_count": null,
   "metadata": {},
   "outputs": [],
   "source": [
    "###########  ---------------------- Cross Validation --------------------- ###############\n",
    "# Feature selection, train model with cross validation\n",
    "def feature_selection_kfold(data, num_features=34, target_column='vasChaSco', num_folds=10, random_state=42, n_features=11):\n",
    "    features = data.iloc[:, :num_features]\n",
    "    y = data[target_column]\n",
    "    kf = KFold(n_splits=num_folds, shuffle=True, random_state=random_state)\n",
    "    model = RandomForestRegressor()\n",
    "    mse_scores = []\n",
    "    list_select_features = []\n",
    "    rmse_list = []\n",
    "    rsquared_list = []\n",
    "    for train_index, val_index in kf.split(features):\n",
    "        # Get the training and validation data for this fold\n",
    "        X_train, y_train = features.iloc[train_index], y.iloc[train_index]\n",
    "        X_test, y_test = features.iloc[val_index], y.iloc[val_index]\n",
    "        list_features, rmse_feature, rsquared_feature = feature_selection(X_train, X_test, y_train.values, y_test.values, n_features=n_features)\n",
    "        list_select_features.append(list_features)\n",
    "        rmse_list.append(rmse_feature)\n",
    "        rsquared_list.append(rsquared_feature)\n",
    "    print(\"------------------------------------------------------------\")\n",
    "    print(\"RMSE list: \", rmse_list) \n",
    "    print('\\n')\n",
    "    print(\"RSquared list: \", rsquared_list)\n",
    "    print('\\n')\n",
    "    print(\"Mean RMSE in k-fold: \", np.mean(rmse_list))\n",
    "    print(\"Mean RSquared in k fold: \", np.mean(rsquared_list))\n",
    "    \n",
    "    return list_select_features, rmse_list, rsquared_list"
   ]
  },
  {
   "cell_type": "code",
   "execution_count": null,
   "metadata": {},
   "outputs": [],
   "source": [
    "list_select_features, rmse_list, rsquared_list = feature_selection_kfold(data_vs, num_features=34, target_column='vasChaSco', num_folds=10, random_state=42)"
   ]
  },
  {
   "cell_type": "markdown",
   "metadata": {},
   "source": [
    "##### Feature selection 11 Top variables"
   ]
  },
  {
   "cell_type": "code",
   "execution_count": null,
   "metadata": {},
   "outputs": [],
   "source": [
    "# How many times every feature repeat ?\n",
    "dict_features = {}\n",
    "for i in list_select_features:\n",
    "    for j in i:\n",
    "        if j in dict_features:\n",
    "            dict_features[j]+=1  \n",
    "        else:\n",
    "            dict_features[j] = 1  \n",
    "print (dict_features)"
   ]
  },
  {
   "cell_type": "markdown",
   "metadata": {},
   "source": [
    "##### Gini - variables importance"
   ]
  },
  {
   "cell_type": "code",
   "execution_count": null,
   "metadata": {},
   "outputs": [],
   "source": [
    "# Function to fit the model and get the feature importances\n",
    "def get_feature_importances(data, target_column, num_features=34):\n",
    "  \n",
    "    features = data.iloc[:, :num_features]\n",
    "    y = data[target_column]\n",
    "    \n",
    "\n",
    "    rf = RandomForestRegressor(n_estimators=100, max_depth=10, random_state=42)\n",
    "    rf.fit(features, y)\n",
    "    \n",
    "\n",
    "    importances = rf.feature_importances_\n",
    "    \n",
    "\n",
    "    feature_importance_df = pd.DataFrame({\n",
    "        'Variable': features.columns,\n",
    "        'Importance': importances\n",
    "    })\n",
    "    \n",
    "\n",
    "    feature_importance_df = feature_importance_df.sort_values(by='Importance', ascending=False)\n",
    "    \n",
    "    return feature_importance_df\n",
    "\n",
    "feature_importance_df = get_feature_importances(data_vs, target_column='vasChaSco')\n",
    "\n",
    "all_feaatures = feature_importance_df\n",
    "top_15_features = feature_importance_df.head(15)\n",
    "print(all_feaatures)\n",
    "print(\"------------------------------------------------------------\")\n",
    "print(top_15_features)"
   ]
  },
  {
   "cell_type": "code",
   "execution_count": null,
   "metadata": {},
   "outputs": [],
   "source": [
    "def plot_feature_importances(data, target_column, num_features=34, n_top_features=15):\n",
    "    features = data.iloc[:, :num_features]\n",
    "    y = data[target_column]\n",
    "    \n",
    "    rf = RandomForestRegressor(n_estimators=100, max_depth=10, random_state=42)\n",
    "    rf.fit(features, y)\n",
    "    \n",
    "    importances = rf.feature_importances_\n",
    "    indices = np.argsort(importances)[::-1]\n",
    "    \n",
    "    top_indices = indices[:n_top_features]\n",
    "    top_importances = importances[top_indices]\n",
    "    top_features = features.columns[top_indices]\n",
    "    \n",
    "    plt.figure(figsize=(10, 6))\n",
    "    sns.barplot(x=top_importances, y=top_features)\n",
    "    plt.title('Top 11 Variables Importances using Gini Impurity')\n",
    "    plt.xlabel('Relative Importance')\n",
    "    plt.ylabel('Variables')\n",
    "    plt.show()\n",
    "\n",
    "\n",
    "    feature_importance_df = pd.DataFrame({\n",
    "        'Variable': features.columns[indices],\n",
    "        'Importance': importances[indices]\n",
    "    })\n",
    "    return feature_importance_df\n",
    "\n",
    "feature_importance_df = plot_feature_importances(data_vs, target_column='vasChaSco')"
   ]
  },
  {
   "cell_type": "code",
   "execution_count": null,
   "metadata": {},
   "outputs": [],
   "source": [
    "feature = [\n",
    "\"ptb_3764\",\"ptb_eq5d_score_5l\",\"testb_10391\",\"fysb_symptomvarighed\",\"fysb_BMI\",\n",
    "\"ptb_eq5d_vas\",\"age\",\"ptb_koos_qol_score\",\"testb_10281\",\"pain_area\",\"ptb_4145\",\n",
    "]"
   ]
  },
  {
   "cell_type": "code",
   "execution_count": null,
   "metadata": {},
   "outputs": [],
   "source": [
    "top_features = [\n",
    "\"Pain intensity in the index joint during the last month (VAS scale 0-100, no pain to worst pain)\",\n",
    "\"EQ-5D-5L score(-0.757 - 1, worst to best)\",\n",
    "\"Time to complete 40m walking test\",\n",
    "\"Duration of symptoms\",\n",
    "\"BMI\",\n",
    "\"EQ VAS general health (0-100, worst to best)\",\n",
    "\"Age\",\n",
    "\"KOOS-12 Quality of life subscale score\",\n",
    "\"Number of chair stands during 30sec\",\n",
    "\"Number of painful body areas (collected via pain manneqin, 0-56)\",\n",
    "\"UCLA - physical activity score\",\n",
    "\"Are your knee problems so severe that you would like an operation?\",\n",
    "\"Educational level -Do you have an education higher than secondary education?\",\n",
    "\"Knee pain at least every day?\",\n",
    "\"Have you had a joint replacement in knee?\",\n",
    "\"Previous injury in the index joint that caused you to consult a medical doctor\",\n",
    "\"Radiographic signs of knee OA\",\n",
    "\"Previous contact to physiotherapist because of the current joint problems\",\n",
    "\"Frequency of exercise to the point of breathlessness or sweatingat least 2-3 times a week?\",\n",
    "\"Gender\",\n",
    "\"Pain in the lower back (collected via pain manneqin)\",\n",
    "\"Use of painkillers (paracetamol/NSAID/opiods) in the last three months\",\n",
    "\"Prior surgery in the index joint\",\n",
    "\"Working status -Are you working or studying?\",\n",
    "\"Walking problems due to the knee problems\",\n",
    "\"Smoking\",\n",
    "\"Living situation\",\n",
    "\"Waitlisted for knee surgery\",\n",
    "\"Sick leave during the last year bbecause of knee problems\",\n",
    "\"Afraid that your joints will be damaged from physical activity and exercise\",\n",
    "\"Born in Denmark\",\n",
    "\"Use of walking aid during the 40 m walking test\",\n",
    "\"Danish citizen\",\n",
    "\"Pain in other knee joints than the index joint?\"\n",
    "]\n",
    "\n",
    "\n",
    "top_importances = [\n",
    "0.530013,\n",
    "0.065382,\n",
    "0.054660,\n",
    "0.054654,\n",
    "0.043376,\n",
    "0.040781,\n",
    "0.037102,\n",
    "0.028261,\n",
    "0.025484,\n",
    "0.022765,\n",
    "0.017916,\n",
    "0.009908,\n",
    "0.005545,\n",
    "0.004907,\n",
    "0.004705,\n",
    "0.004384,\n",
    "0.004321,\n",
    "0.004273,\n",
    "0.004015,\n",
    "0.004001,\n",
    "0.003733,\n",
    "0.003607,\n",
    "0.003501,\n",
    "0.003104,\n",
    "0.003003,\n",
    "0.002851,\n",
    "0.002753,\n",
    "0.002581,\n",
    "0.002477,\n",
    "0.002316,\n",
    "0.001813,\n",
    "0.001020,\n",
    "0.000770,\n",
    "0.000016\n",
    "]\n",
    "\n",
    "\n",
    "\n",
    "plt.figure(figsize=(12, 14))\n",
    "sns.barplot(x=top_importances, y=top_features)\n",
    "plt.title('Random forest regressor Variable Importances using Gini Impurity for VAS pain change score in 34 Variables', fontsize=14)\n",
    "plt.xlabel('Relative Importance', fontsize=12)\n",
    "plt.ylabel('Variables', fontsize=12)\n",
    "plt.yticks(fontsize=10)\n",
    "plt.xlim(left=-0.01)\n",
    "plt.tight_layout()\n",
    "plt.show()"
   ]
  },
  {
   "attachments": {},
   "cell_type": "markdown",
   "metadata": {},
   "source": [
    "##### Elbow"
   ]
  },
  {
   "cell_type": "code",
   "execution_count": null,
   "metadata": {},
   "outputs": [],
   "source": [
    "avg_rmse = []\n",
    "avg_rsquared = []\n",
    "for k in range(1,34):\n",
    "    list_select_features, rmse_list, rsquared_list = feature_selection_kfold(data_vs, num_features=34, target_column='vasChaSco', num_folds=10, random_state=42, n_features=k)\n",
    "    avg_rmse.append(np.average(rmse_list))\n",
    "    avg_rsquared.append(np.average(rsquared_list))"
   ]
  },
  {
   "cell_type": "code",
   "execution_count": null,
   "metadata": {},
   "outputs": [],
   "source": [
    "plt.scatter(range(1, 34), avg_rmse)\n",
    "plt.xlabel('Number of variables')\n",
    "plt.ylabel('Average RMSE')\n",
    "plt.title('RMSE vs Number of variables')\n",
    "plt.show()"
   ]
  },
  {
   "attachments": {},
   "cell_type": "markdown",
   "metadata": {},
   "source": [
    "#### Clinical relevent"
   ]
  },
  {
   "attachments": {},
   "cell_type": "markdown",
   "metadata": {},
   "source": [
    "#### different interval (with all variables and other categorizing)"
   ]
  },
  {
   "cell_type": "code",
   "execution_count": null,
   "metadata": {},
   "outputs": [],
   "source": [
    "def calculate(avg_prediction, personilize_prediction, y_test, interval):\n",
    "    upperBound = y_test + interval\n",
    "    lowerBound = y_test - interval\n",
    "    number_samples = len(y_test)\n",
    "    \n",
    "    personilized_prediction_inside_interval = np.logical_and(lowerBound <= personilize_prediction, personilize_prediction <= upperBound)\n",
    "    avg_prediction_inside_interval = np.logical_and(lowerBound <= avg_prediction, avg_prediction <= upperBound)\n",
    "    \n",
    "    return (np.sum(personilized_prediction_inside_interval)/number_samples * 100, np.sum(avg_prediction_inside_interval)/number_samples * 100)\n",
    "\n",
    "def clinical_relevance(data, column_names, target_column='vasChaSco', num_folds=10, random_state=42, intervals=[5, 10, 15, 20]):\n",
    "    kf = KFold(n_splits=num_folds, shuffle=True, random_state=random_state)\n",
    "    features = data[column_names]\n",
    "    y = data[target_column]\n",
    "    detailed_results = []\n",
    "\n",
    "    for interval in intervals:\n",
    "        fold_results = []\n",
    "        for fold, (train_index, val_index) in enumerate(kf.split(features)):\n",
    "            X_train, y_train = features.iloc[train_index], y.iloc[train_index]\n",
    "            X_test, y_test = features.iloc[val_index], y.iloc[val_index]\n",
    "            rf = RandomForestRegressor(n_estimators=100, max_depth=10, random_state=42)\n",
    "            rf.fit(X_train, y_train)\n",
    "            \n",
    "            personilize_prediction = rf.predict(X_test)\n",
    "            avg_prediction = np.mean(y_train)\n",
    "            \n",
    "            personal_percent, avg_percent = calculate(avg_prediction, personilize_prediction, y_test, interval)\n",
    "            fold_results.append({\n",
    "                'fold': fold + 1,\n",
    "                'personalized_percent': personal_percent,\n",
    "                'avg_percent': avg_percent\n",
    "            })\n",
    "        \n",
    "        interval_avg_personalized = np.mean([fr['personalized_percent'] for fr in fold_results])\n",
    "        interval_avg_avg = np.mean([fr['avg_percent'] for fr in fold_results])\n",
    "        detailed_results.append({\n",
    "            'interval': interval,\n",
    "            'fold_results': fold_results,\n",
    "            'interval_avg_personalized': interval_avg_personalized,\n",
    "            'interval_avg_avg': interval_avg_avg\n",
    "        })\n",
    "    \n",
    "    return detailed_results\n"
   ]
  },
  {
   "cell_type": "code",
   "execution_count": null,
   "metadata": {},
   "outputs": [],
   "source": [
    "# Full Model:\n",
    "all_34variables = [\"ptb_11836\", \"fysb_3639\", \"ptb_3764\", \"fysb_symptomvarighed\", \"ptb_eq5d_score_5l\", \"testb_10391\", \"fysb_BMI\", \"age\", \n",
    "          \"ptb_eq5d_vas\", \"pain_area\", \"testb_10281\", \"ptb_koos_qol_score\", \"ptb_4145\", \"ptb_3765\", \"ptb_10226_b\", \"ptb_16316\", \n",
    "          \"ptb_koospain\", \"fysb_9349\", \"fysb_3642\", \"ptb_low_back\", \"ptb_3792_b\", \"gender\", \"fysb_op\", \"ptb_10225\", \"ptb_3758\", \n",
    "          \"ptb_3762\", \"ptb_13118\", \"fysb_medicin\", \"ptb_3777_b\", \"ptb_3772\", \"ptb_10223\", \"testb_10392\", \"ptb_10224\", \"ptb_3754_b\"]\n",
    "# Example call to the clinical_relevance function\n",
    "detailed_results = clinical_relevance(data_vs, all_34variables, target_column='vasChaSco', num_folds=10, random_state=42)\n",
    "\n",
    "# Printing the detailed results\n",
    "for result in detailed_results:\n",
    "    print(f\"Interval: {result['interval']}\")\n",
    "    print(f\"Overall Average Personalized Prediction Inside Interval: {result['interval_avg_personalized']}%\")\n",
    "    print(f\"Overall Average Prediction Inside Interval: {result['interval_avg_avg']}%\")\n",
    "    print(\"Fold-wise Results:\")\n",
    "    for fold_result in result['fold_results']:\n",
    "        print(f\"  Fold {fold_result['fold']}: Personalized {fold_result['personalized_percent']}%, Average {fold_result['avg_percent']}%\")\n",
    "    print('-------------------------------------------')"
   ]
  },
  {
   "cell_type": "code",
   "execution_count": null,
   "metadata": {},
   "outputs": [],
   "source": [
    "# Continiues Model:\n",
    "all_11variables = [\"ptb_3764\", \"ptb_eq5d_score_5l\", \"testb_10391\", \"fysb_symptomvarighed\", \"fysb_BMI\", \"ptb_eq5d_vas\", \n",
    "                   \"age\", \"ptb_koos_qol_score\", \"testb_10281\", \"pain_area\", \"ptb_4145\"]\n",
    "# Example call to the clinical_relevance function\n",
    "detailed_results = clinical_relevance(data_vs, all_11variables, target_column='vasChaSco', num_folds=10, random_state=42)\n",
    "\n",
    "# Printing the detailed results\n",
    "for result in detailed_results:\n",
    "    print(f\"Interval: {result['interval']}\")\n",
    "    print(f\"Overall Average Personalized Prediction Inside Interval: {result['interval_avg_personalized']}%\")\n",
    "    print(f\"Overall Average Prediction Inside Interval: {result['interval_avg_avg']}%\")\n",
    "    print(\"Fold-wise Results:\")\n",
    "    for fold_result in result['fold_results']:\n",
    "        print(f\"  Fold {fold_result['fold']}: Personalized {fold_result['personalized_percent']}%, Average {fold_result['avg_percent']}%\")\n",
    "    print('-------------------------------------------')"
   ]
  },
  {
   "cell_type": "code",
   "execution_count": null,
   "metadata": {},
   "outputs": [],
   "source": [
    "# Manageable Model:\n",
    "all_6variables = ['age', 'fysb_BMI','ptb_3764','fysb_symptomvarighed', 'testb_10391', 'ptb_eq5d_score_5l']\n",
    "# Example call to the clinical_relevance function\n",
    "detailed_results = clinical_relevance(data_vs, all_6variables, target_column='vasChaSco', num_folds=10, random_state=42)\n",
    "\n",
    "# Printing the detailed results\n",
    "for result in detailed_results:\n",
    "    print(f\"Interval: {result['interval']}\")\n",
    "    print(f\"Overall Average Personalized Prediction Inside Interval: {result['interval_avg_personalized']}%\")\n",
    "    print(f\"Overall Average Prediction Inside Interval: {result['interval_avg_avg']}%\")\n",
    "    print(\"Fold-wise Results:\")\n",
    "    for fold_result in result['fold_results']:\n",
    "        print(f\"  Fold {fold_result['fold']}: Personalized {fold_result['personalized_percent']}%, Average {fold_result['avg_percent']}%\")\n",
    "    print('-------------------------------------------')"
   ]
  },
  {
   "attachments": {},
   "cell_type": "markdown",
   "metadata": {},
   "source": [
    "##### New evaluation with all variables and different category"
   ]
  },
  {
   "cell_type": "code",
   "execution_count": null,
   "metadata": {},
   "outputs": [],
   "source": [
    "def calculate(avg_prediction, personilize_prediction, y_test):\n",
    "    intervals = [5, 10, 15, 20]\n",
    "    num_samples = len(y_test)\n",
    "\n",
    "    personilized_percentage = []\n",
    "    avg_percentage = []\n",
    "\n",
    "    for interval in intervals:\n",
    "        upper_bound = y_test + interval\n",
    "        lower_bound = y_test - interval\n",
    "        \n",
    "        personilized_prediction_inside_interval = np.logical_and(lower_bound <= personilize_prediction, personilize_prediction <= upper_bound)\n",
    "        avg_prediction_inside_interval = np.logical_and(lower_bound <= avg_prediction, avg_prediction <= upper_bound)\n",
    "        \n",
    "        personilized_percentage.append(np.sum(personilized_prediction_inside_interval) / num_samples * 100)\n",
    "        avg_percentage.append(np.sum(avg_prediction_inside_interval) / num_samples * 100)\n",
    "\n",
    "    return personilized_percentage, avg_percentage\n",
    "\n",
    "\n",
    "def clinical_relevance(data, column_names, target_column='vasChaSco', num_folds=10, random_state=42):\n",
    "    \n",
    "    kf = KFold(n_splits=num_folds, shuffle=True, random_state=random_state)\n",
    "    features = data[column_names]\n",
    "    y = data[target_column]\n",
    "    \n",
    "    personilized_percentages = []\n",
    "    avg_percentages = []\n",
    "    \n",
    "    for train_index, val_index in kf.split(features):\n",
    "\n",
    "        X_train, y_train = features.iloc[train_index], y.iloc[train_index]\n",
    "        X_test, y_test = features.iloc[val_index], y.iloc[val_index]\n",
    "        \n",
    "        rf = RandomForestRegressor(n_estimators=100, max_depth=10, random_state=42)\n",
    "        rf.fit(X_train, y_train)\n",
    "        \n",
    " \n",
    "        personilize_prediction = rf.predict(X_test)\n",
    "        avg_prediction = np.mean(y_train)\n",
    "        \n",
    "        personilized_percentage, avg_percentage = calculate(avg_prediction, personilize_prediction, y_test)\n",
    "        personilized_percentages.append(personilized_percentage)\n",
    "        avg_percentages.append(avg_percentage)\n",
    "\n",
    "    return personilized_percentages, avg_percentages\n",
    "\n",
    "def create_plot(data_vs, column_names):\n",
    "\n",
    "    personilized_percentages, avg_percentages = clinical_relevance(data_vs, column_names, target_column='vasChaSco', num_folds=10, random_state=42)\n",
    "\n",
    "\n",
    "    intervals = [5, 10, 15, 20]\n",
    "    plt.plot(intervals, np.mean(personilized_percentages, axis=0), label='Personalized Prediction')\n",
    "    plt.plot(intervals, np.mean(avg_percentages, axis=0), label='Average Prediction')\n",
    "    plt.xlabel('Deviation allowed')\n",
    "\n",
    "    plt.ylabel('Predictions')\n",
    "    plt.title('Percentages of correct predictions with different deviations allowed')\n",
    "    plt.legend()\n",
    "\n",
    "    plt.ylim(0, 100)\n",
    "    plt.yticks(np.arange(0, 101, 10))\n",
    "    plt.xticks([5, 10, 15, 20]) \n",
    "    plt.show()"
   ]
  },
  {
   "attachments": {},
   "cell_type": "markdown",
   "metadata": {},
   "source": [
    "##### Also evaluation"
   ]
  },
  {
   "cell_type": "markdown",
   "metadata": {},
   "source": [
    "##### for mean model and our model"
   ]
  },
  {
   "cell_type": "code",
   "execution_count": null,
   "metadata": {},
   "outputs": [],
   "source": [
    "def evaluation_model(y_pred, y_true):\n",
    "        mse = mean_squared_error(y_pred, y_true)\n",
    "        rmse = mse ** 0.5\n",
    "        rsquared = r2_score(y_true, y_pred)\n",
    "        return mse, rmse, rsquared\n",
    "\n",
    "    \n",
    "    \n",
    "def kfold_training(data, selected_features, target_column='vasChaSco', num_folds=10, random_state=42 ):\n",
    "    features = data[selected_features]\n",
    "    y = data[target_column]\n",
    "    kf = KFold(n_splits=num_folds, shuffle=True, random_state=random_state)\n",
    "    model = RandomForestRegressor()\n",
    "    mse_scores = []\n",
    "    rmse_list = []\n",
    "    rsquared_list = []\n",
    "    \n",
    "    mse_scores_avg = []\n",
    "    rmse_list_avg = []\n",
    "    rsquared_list_avg = []\n",
    "    for train_index, val_index in kf.split(features):\n",
    "        # Get the training and validation data for this fold\n",
    "        X_train, y_train = features.iloc[train_index], y.iloc[train_index]\n",
    "        X_test, y_test = features.iloc[val_index], y.iloc[val_index]\n",
    "        rf_selected = RandomForestRegressor(n_estimators=100, max_depth=10, random_state=42)\n",
    "        rf_selected.fit(X_train, y_train)\n",
    "        y_pred = rf_selected.predict(X_test)\n",
    "        \n",
    "        # evaluation\n",
    "        mse, rmse, rsquared = evaluation_model(y_pred, y_test)\n",
    "        # mse = mean_squared_error(y_pred, y_test)\n",
    "        # rmse = mse ** 0.5\n",
    "        # rsquared = rf_selected.score(X_test, y_test)\n",
    "        mse_scores.append(mse)\n",
    "        rmse_list.append(rmse)\n",
    "        rsquared_list.append(rsquared)\n",
    "        \n",
    "        # average model\n",
    "        avg_prediction = np.mean(y_train)\n",
    "        y_pred = [avg_prediction] * len(y_test)\n",
    "        mse, rmse, rsquared = evaluation_model(y_pred, y_test)\n",
    "        mse_scores_avg.append(mse)\n",
    "        rmse_list_avg.append(rmse)\n",
    "        rsquared_list_avg.append(rsquared)\n",
    "    print(\"------------------------------------------------------------\")\n",
    "    print(\"RMSE list: \", rmse_list) \n",
    "    print('\\n')\n",
    "    print(\"RSquared list: \", rsquared_list)\n",
    "    print('\\n')\n",
    "    print(\"Mean RMSE in k-fold: \", np.mean(rmse_list))\n",
    "    print(\"Mean RSquared in k fold: \", np.mean(rsquared_list))\n",
    "    \n"
   ]
  },
  {
   "attachments": {},
   "cell_type": "markdown",
   "metadata": {},
   "source": [
    "#### For paper"
   ]
  },
  {
   "attachments": {},
   "cell_type": "markdown",
   "metadata": {},
   "source": [
    "##### Full model"
   ]
  },
  {
   "cell_type": "code",
   "execution_count": null,
   "metadata": {},
   "outputs": [],
   "source": [
    "all = [\"ptb_11836\", \"fysb_3639\", \"ptb_3764\", \"fysb_symptomvarighed\", \"ptb_eq5d_score_5l\", \"testb_10391\", \"fysb_BMI\", \"age\", \n",
    "          \"ptb_eq5d_vas\", \"pain_area\", \"testb_10281\", \"ptb_koos_qol_score\", \"ptb_4145\", \"ptb_3765\", \"ptb_10226_b\", \"ptb_16316\", \n",
    "          \"ptb_koospain\", \"fysb_9349\", \"fysb_3642\", \"ptb_low_back\", \"ptb_3792_b\", \"gender\", \"fysb_op\", \"ptb_10225\", \"ptb_3758\", \n",
    "          \"ptb_3762\", \"ptb_13118\", \"fysb_medicin\", \"ptb_3777_b\", \"ptb_3772\", \"ptb_10223\", \"testb_10392\", \"ptb_10224\", \"ptb_3754_b\"]\n",
    "\n",
    "\n",
    "kfold_training(data_vs, all, target_column='vasChaSco', num_folds=10, random_state=42)\n",
    "create_plot(data_vs, all)"
   ]
  },
  {
   "attachments": {},
   "cell_type": "markdown",
   "metadata": {},
   "source": [
    "##### Top 11 variables"
   ]
  },
  {
   "cell_type": "code",
   "execution_count": null,
   "metadata": {},
   "outputs": [],
   "source": [
    "feature = [\n",
    "\"ptb_3764\",\"ptb_eq5d_score_5l\",\"testb_10391\",\"fysb_symptomvarighed\",\"fysb_BMI\", \"ptb_eq5d_vas\",\"age\",\"ptb_koos_qol_score\",\"testb_10281\",\"pain_area\",\"ptb_4145\"]\n",
    "kfold_training(data_vs, feature, target_column='vasChaSco', num_folds=10, random_state=42)\n",
    "create_plot(data_vs, feature)"
   ]
  },
  {
   "attachments": {},
   "cell_type": "markdown",
   "metadata": {},
   "source": [
    "##### Selection model for web application"
   ]
  },
  {
   "cell_type": "code",
   "execution_count": null,
   "metadata": {},
   "outputs": [],
   "source": [
    "feature_with_speedWalk = ['age', 'fysb_BMI','ptb_3764','fysb_symptomvarighed', 'testb_10391', 'ptb_eq5d_score_5l']\n",
    "kfold_training(data_vs, feature_with_speedWalk, target_column='vasChaSco', num_folds=10, random_state=42)\n",
    "create_plot(data_vs, feature_with_speedWalk)"
   ]
  },
  {
   "cell_type": "code",
   "execution_count": null,
   "metadata": {},
   "outputs": [],
   "source": [
    "feature_without_speedWalk = ['age', 'fysb_BMI','ptb_3764','fysb_symptomvarighed', 'ptb_eq5d_score_5l']\n",
    "kfold_training(data_vs, feature_without_speedWalk, target_column='vasChaSco', num_folds=10, random_state=42)\n",
    "create_plot(data_vs, feature_without_speedWalk)\n"
   ]
  },
  {
   "cell_type": "code",
   "execution_count": null,
   "metadata": {},
   "outputs": [],
   "source": [
    "numeric_variable = [\"age\", \"fysb_BMI\", \"fysb_symptomvarighed\",\"ptb_3764\",\"ptb_4145\",\n",
    "              \"ptb_koos_qol_score\", \"ptb_eq5d_vas\",\n",
    "              \"ptb_eq5d_score_5l\", \"testb_10391\", \"testb_10281\",\n",
    "              \"pain_area\",\"vasChaSco\"]\n",
    "\n",
    "binary_category_variables = [\"ptb_koospain\",\"ptb_3792_b\",\"ptb_3754_b\",\n",
    "                  \"ptb_low_back\",\"testb_10392\",\"ptb_11836\",\"ptb_3772\",\n",
    "                  \"ptb_3777_b\", \"ptb_3765\", \"ptb_3762\",\n",
    "                  \"ptb_3758\", \"ptb_16316\", \"ptb_13118\", \n",
    "                  \"ptb_10226_b\",\"ptb_10225\", \"ptb_10224\", \"ptb_10223\", \n",
    "                  \"fysb_op\", \"fysb_medicin\", \"fysb_3642\",  \"fysb_9349\",  \"fysb_3639\", \"gender\"]"
   ]
  },
  {
   "cell_type": "code",
   "execution_count": null,
   "metadata": {},
   "outputs": [],
   "source": [
    "categorical_meta = {}\n",
    "for c_name in binary_category_variables:\n",
    "    target_column =  data_vs[c_name]\n",
    "    categorical_meta[c_name] = {\n",
    "        \"data-type\": target_column.dtype,\n",
    "        \"True\": (target_column == True).sum(),\n",
    "        \"False\": (target_column == False).sum(),\n",
    "        \"nan\": (target_column.isnull()).sum()\n",
    "        # \"unique\": np.unique(target_column.values, return_counts=True), \n",
    "        \n",
    "     }\n",
    "for i, (k, v) in enumerate(categorical_meta.items(), 1):\n",
    "    print(f\"{i}. {k}: {v}\")"
   ]
  },
  {
   "cell_type": "code",
   "execution_count": null,
   "metadata": {},
   "outputs": [],
   "source": [
    "numerical_meta = {}\n",
    "for c_name in numeric_variable:\n",
    "    target_column =  data_vs[c_name]\n",
    "    numerical_meta[c_name] = {\n",
    "        \"mean\":target_column.mean(),\n",
    "        \"std\": target_column.std(),\n",
    "        \"min\": target_column.min(), \n",
    "        \"max\": target_column.max(),\n",
    "        # \"data-type\": target_column.dtype,\n",
    "        # \"median\": target_column.median(),\n",
    "       \n",
    "     }\n",
    "for i, (k, v) in enumerate(numerical_meta.items(), 1):\n",
    "    print(f\"{i}. {k}: {v}\")"
   ]
  }
 ],
 "metadata": {
  "kernelspec": {
   "display_name": "physioai",
   "language": "python",
   "name": "python3"
  },
  "language_info": {
   "codemirror_mode": {
    "name": "ipython",
    "version": 3
   },
   "file_extension": ".py",
   "mimetype": "text/x-python",
   "name": "python",
   "nbconvert_exporter": "python",
   "pygments_lexer": "ipython3",
   "version": "3.10.13"
  },
  "orig_nbformat": 4
 },
 "nbformat": 4,
 "nbformat_minor": 2
}
